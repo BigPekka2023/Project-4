{
 "cells": [
  {
   "cell_type": "code",
   "execution_count": 7,
   "id": "5033619e",
   "metadata": {},
   "outputs": [],
   "source": [
    "import yfinance as yf\n",
    "import pandas as pd\n",
    "import numpy as np"
   ]
  },
  {
   "cell_type": "code",
   "execution_count": 8,
   "id": "e37f9e1b",
   "metadata": {},
   "outputs": [],
   "source": [
    "#dowload all the company as list\n",
    "ticker = [\"SPY\"]"
   ]
  },
  {
   "cell_type": "code",
   "execution_count": 4,
   "id": "989a86ef",
   "metadata": {},
   "outputs": [
    {
     "name": "stdout",
     "output_type": "stream",
     "text": [
      "[*********************100%%**********************]  1 of 1 completed\n"
     ]
    }
   ],
   "source": [
    "#assign start date and end date\n",
    "stocks = yf.download(ticker, start = \"2014-01-01\", end = \"2023-12-31\")"
   ]
  },
  {
   "cell_type": "code",
   "execution_count": 6,
   "id": "af035997",
   "metadata": {},
   "outputs": [
    {
     "data": {
      "text/html": [
       "<div>\n",
       "<style scoped>\n",
       "    .dataframe tbody tr th:only-of-type {\n",
       "        vertical-align: middle;\n",
       "    }\n",
       "\n",
       "    .dataframe tbody tr th {\n",
       "        vertical-align: top;\n",
       "    }\n",
       "\n",
       "    .dataframe thead th {\n",
       "        text-align: right;\n",
       "    }\n",
       "</style>\n",
       "<table border=\"1\" class=\"dataframe\">\n",
       "  <thead>\n",
       "    <tr style=\"text-align: right;\">\n",
       "      <th></th>\n",
       "      <th>Open</th>\n",
       "      <th>High</th>\n",
       "      <th>Low</th>\n",
       "      <th>Close</th>\n",
       "      <th>Adj Close</th>\n",
       "      <th>Volume</th>\n",
       "    </tr>\n",
       "    <tr>\n",
       "      <th>Date</th>\n",
       "      <th></th>\n",
       "      <th></th>\n",
       "      <th></th>\n",
       "      <th></th>\n",
       "      <th></th>\n",
       "      <th></th>\n",
       "    </tr>\n",
       "  </thead>\n",
       "  <tbody>\n",
       "    <tr>\n",
       "      <th>2014-01-02</th>\n",
       "      <td>183.979996</td>\n",
       "      <td>184.070007</td>\n",
       "      <td>182.479996</td>\n",
       "      <td>182.919998</td>\n",
       "      <td>152.669159</td>\n",
       "      <td>119636900</td>\n",
       "    </tr>\n",
       "    <tr>\n",
       "      <th>2014-01-03</th>\n",
       "      <td>183.229996</td>\n",
       "      <td>183.600006</td>\n",
       "      <td>182.630005</td>\n",
       "      <td>182.889999</td>\n",
       "      <td>152.644135</td>\n",
       "      <td>81390600</td>\n",
       "    </tr>\n",
       "    <tr>\n",
       "      <th>2014-01-06</th>\n",
       "      <td>183.490005</td>\n",
       "      <td>183.559998</td>\n",
       "      <td>182.080002</td>\n",
       "      <td>182.360001</td>\n",
       "      <td>152.201721</td>\n",
       "      <td>108028200</td>\n",
       "    </tr>\n",
       "    <tr>\n",
       "      <th>2014-01-07</th>\n",
       "      <td>183.089996</td>\n",
       "      <td>183.789993</td>\n",
       "      <td>182.949997</td>\n",
       "      <td>183.479996</td>\n",
       "      <td>153.136520</td>\n",
       "      <td>86144200</td>\n",
       "    </tr>\n",
       "    <tr>\n",
       "      <th>2014-01-08</th>\n",
       "      <td>183.449997</td>\n",
       "      <td>183.830002</td>\n",
       "      <td>182.889999</td>\n",
       "      <td>183.520004</td>\n",
       "      <td>153.169937</td>\n",
       "      <td>96582300</td>\n",
       "    </tr>\n",
       "  </tbody>\n",
       "</table>\n",
       "</div>"
      ],
      "text/plain": [
       "                  Open        High         Low       Close   Adj Close  \\\n",
       "Date                                                                     \n",
       "2014-01-02  183.979996  184.070007  182.479996  182.919998  152.669159   \n",
       "2014-01-03  183.229996  183.600006  182.630005  182.889999  152.644135   \n",
       "2014-01-06  183.490005  183.559998  182.080002  182.360001  152.201721   \n",
       "2014-01-07  183.089996  183.789993  182.949997  183.479996  153.136520   \n",
       "2014-01-08  183.449997  183.830002  182.889999  183.520004  153.169937   \n",
       "\n",
       "               Volume  \n",
       "Date                   \n",
       "2014-01-02  119636900  \n",
       "2014-01-03   81390600  \n",
       "2014-01-06  108028200  \n",
       "2014-01-07   86144200  \n",
       "2014-01-08   96582300  "
      ]
     },
     "execution_count": 6,
     "metadata": {},
     "output_type": "execute_result"
    }
   ],
   "source": [
    "stocks.head()"
   ]
  },
  {
   "cell_type": "code",
   "execution_count": 9,
   "id": "90153d74",
   "metadata": {},
   "outputs": [],
   "source": [
    "stocks.to_csv(\"p4spy.csv\")"
   ]
  },
  {
   "cell_type": "code",
   "execution_count": 10,
   "id": "481b588e",
   "metadata": {},
   "outputs": [
    {
     "data": {
      "text/plain": [
       "Date\n",
       "2014-01-02    182.919998\n",
       "2014-01-03    182.889999\n",
       "2014-01-06    182.360001\n",
       "2014-01-07    183.479996\n",
       "2014-01-08    183.520004\n",
       "                 ...    \n",
       "2023-12-22    473.649994\n",
       "2023-12-26    475.649994\n",
       "2023-12-27    476.510010\n",
       "2023-12-28    476.690002\n",
       "2023-12-29    475.309998\n",
       "Name: Close, Length: 2516, dtype: float64"
      ]
     },
     "execution_count": 10,
     "metadata": {},
     "output_type": "execute_result"
    }
   ],
   "source": [
    "close = stocks.loc[:, \"Close\"]\n",
    "close"
   ]
  },
  {
   "cell_type": "code",
   "execution_count": 11,
   "id": "b9586090",
   "metadata": {},
   "outputs": [],
   "source": [
    "close.to_csv(\"p4spyv2.csv\")"
   ]
  },
  {
   "cell_type": "code",
   "execution_count": null,
   "id": "b6cbdfff",
   "metadata": {},
   "outputs": [],
   "source": []
  }
 ],
 "metadata": {
  "kernelspec": {
   "display_name": "Python 3 (ipykernel)",
   "language": "python",
   "name": "python3"
  },
  "language_info": {
   "codemirror_mode": {
    "name": "ipython",
    "version": 3
   },
   "file_extension": ".py",
   "mimetype": "text/x-python",
   "name": "python",
   "nbconvert_exporter": "python",
   "pygments_lexer": "ipython3",
   "version": "3.11.4"
  }
 },
 "nbformat": 4,
 "nbformat_minor": 5
}
