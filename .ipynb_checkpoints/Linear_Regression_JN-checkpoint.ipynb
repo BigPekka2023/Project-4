{
 "cells": [
  {
   "cell_type": "code",
   "execution_count": 92,
   "id": "c4c04b28",
   "metadata": {},
   "outputs": [
    {
     "name": "stdout",
     "output_type": "stream",
     "text": [
      "Requirement already satisfied: yfinance[nospam,repair] in c:\\users\\tom77\\anaconda3\\lib\\site-packages (0.2.30)\n",
      "Requirement already satisfied: pandas>=1.3.0 in c:\\users\\tom77\\anaconda3\\lib\\site-packages (from yfinance[nospam,repair]) (1.5.3)\n",
      "Requirement already satisfied: numpy>=1.16.5 in c:\\users\\tom77\\anaconda3\\lib\\site-packages (from yfinance[nospam,repair]) (1.24.3)\n",
      "Requirement already satisfied: requests>=2.31 in c:\\users\\tom77\\anaconda3\\lib\\site-packages (from yfinance[nospam,repair]) (2.31.0)\n",
      "Requirement already satisfied: multitasking>=0.0.7 in c:\\users\\tom77\\anaconda3\\lib\\site-packages (from yfinance[nospam,repair]) (0.0.11)\n",
      "Requirement already satisfied: lxml>=4.9.1 in c:\\users\\tom77\\anaconda3\\lib\\site-packages (from yfinance[nospam,repair]) (4.9.2)\n",
      "Requirement already satisfied: appdirs>=1.4.4 in c:\\users\\tom77\\anaconda3\\lib\\site-packages (from yfinance[nospam,repair]) (1.4.4)\n",
      "Requirement already satisfied: pytz>=2022.5 in c:\\users\\tom77\\anaconda3\\lib\\site-packages (from yfinance[nospam,repair]) (2022.7)\n",
      "Requirement already satisfied: frozendict>=2.3.4 in c:\\users\\tom77\\anaconda3\\lib\\site-packages (from yfinance[nospam,repair]) (2.3.8)\n",
      "Requirement already satisfied: peewee>=3.16.2 in c:\\users\\tom77\\anaconda3\\lib\\site-packages (from yfinance[nospam,repair]) (3.16.3)\n",
      "Requirement already satisfied: beautifulsoup4>=4.11.1 in c:\\users\\tom77\\anaconda3\\lib\\site-packages (from yfinance[nospam,repair]) (4.12.2)\n",
      "Requirement already satisfied: html5lib>=1.1 in c:\\users\\tom77\\anaconda3\\lib\\site-packages (from yfinance[nospam,repair]) (1.1)\n",
      "Requirement already satisfied: soupsieve>1.2 in c:\\users\\tom77\\anaconda3\\lib\\site-packages (from beautifulsoup4>=4.11.1->yfinance[nospam,repair]) (2.4)\n",
      "Requirement already satisfied: six>=1.9 in c:\\users\\tom77\\anaconda3\\lib\\site-packages (from html5lib>=1.1->yfinance[nospam,repair]) (1.16.0)\n",
      "Requirement already satisfied: webencodings in c:\\users\\tom77\\anaconda3\\lib\\site-packages (from html5lib>=1.1->yfinance[nospam,repair]) (0.5.1)\n",
      "Requirement already satisfied: python-dateutil>=2.8.1 in c:\\users\\tom77\\anaconda3\\lib\\site-packages (from pandas>=1.3.0->yfinance[nospam,repair]) (2.8.2)\n",
      "Requirement already satisfied: charset-normalizer<4,>=2 in c:\\users\\tom77\\anaconda3\\lib\\site-packages (from requests>=2.31->yfinance[nospam,repair]) (2.0.4)\n",
      "Requirement already satisfied: idna<4,>=2.5 in c:\\users\\tom77\\anaconda3\\lib\\site-packages (from requests>=2.31->yfinance[nospam,repair]) (3.4)\n",
      "Requirement already satisfied: urllib3<3,>=1.21.1 in c:\\users\\tom77\\anaconda3\\lib\\site-packages (from requests>=2.31->yfinance[nospam,repair]) (1.26.16)\n",
      "Requirement already satisfied: certifi>=2017.4.17 in c:\\users\\tom77\\anaconda3\\lib\\site-packages (from requests>=2.31->yfinance[nospam,repair]) (2023.7.22)\n"
     ]
    },
    {
     "name": "stderr",
     "output_type": "stream",
     "text": [
      "WARNING: yfinance 0.2.30 does not provide the extra 'nospam'\n",
      "WARNING: yfinance 0.2.30 does not provide the extra 'repair'\n"
     ]
    }
   ],
   "source": [
    "!pip install yfinance[nospam,repair]"
   ]
  },
  {
   "cell_type": "markdown",
   "id": "19173367",
   "metadata": {},
   "source": [
    "# Linear Regression Model on 1 Month of SPY Data"
   ]
  },
  {
   "cell_type": "markdown",
   "id": "3a1f75c1",
   "metadata": {},
   "source": [
    "## Data Set-Up"
   ]
  },
  {
   "cell_type": "code",
   "execution_count": 173,
   "id": "00425699",
   "metadata": {},
   "outputs": [],
   "source": [
    "# importing dependencies\n",
    "import yfinance as yf\n",
    "import pandas as pd\n",
    "import numpy as np\n",
    "from pathlib import Path\n",
    "from sklearn.linear_model import LinearRegression\n",
    "import datetime as dt"
   ]
  },
  {
   "cell_type": "code",
   "execution_count": 174,
   "id": "8c700df1",
   "metadata": {},
   "outputs": [
    {
     "name": "stdout",
     "output_type": "stream",
     "text": [
      "[*********************100%%**********************]  1 of 1 completed\n"
     ]
    }
   ],
   "source": [
    "# Obtaining data for SPY from the past month (done on 1-18-2024)\n",
    "data = yf.download(\"SPY\", start = \"2023-12-18\", end = \"2024-1-18\")"
   ]
  },
  {
   "cell_type": "code",
   "execution_count": 175,
   "id": "e563d6c0",
   "metadata": {},
   "outputs": [],
   "source": [
    "# Creating a dataframe with only Date and Closing Price\n",
    "close_data = data[[\"Close\"]]"
   ]
  },
  {
   "cell_type": "code",
   "execution_count": 176,
   "id": "f920fad4",
   "metadata": {},
   "outputs": [
    {
     "data": {
      "text/html": [
       "<div>\n",
       "<style scoped>\n",
       "    .dataframe tbody tr th:only-of-type {\n",
       "        vertical-align: middle;\n",
       "    }\n",
       "\n",
       "    .dataframe tbody tr th {\n",
       "        vertical-align: top;\n",
       "    }\n",
       "\n",
       "    .dataframe thead th {\n",
       "        text-align: right;\n",
       "    }\n",
       "</style>\n",
       "<table border=\"1\" class=\"dataframe\">\n",
       "  <thead>\n",
       "    <tr style=\"text-align: right;\">\n",
       "      <th></th>\n",
       "      <th>Close</th>\n",
       "    </tr>\n",
       "    <tr>\n",
       "      <th>Date</th>\n",
       "      <th></th>\n",
       "    </tr>\n",
       "  </thead>\n",
       "  <tbody>\n",
       "    <tr>\n",
       "      <th>2023-12-18</th>\n",
       "      <td>471.970001</td>\n",
       "    </tr>\n",
       "    <tr>\n",
       "      <th>2023-12-19</th>\n",
       "      <td>474.839996</td>\n",
       "    </tr>\n",
       "    <tr>\n",
       "      <th>2023-12-20</th>\n",
       "      <td>468.260010</td>\n",
       "    </tr>\n",
       "    <tr>\n",
       "      <th>2023-12-21</th>\n",
       "      <td>472.700012</td>\n",
       "    </tr>\n",
       "    <tr>\n",
       "      <th>2023-12-22</th>\n",
       "      <td>473.649994</td>\n",
       "    </tr>\n",
       "    <tr>\n",
       "      <th>2023-12-26</th>\n",
       "      <td>475.649994</td>\n",
       "    </tr>\n",
       "    <tr>\n",
       "      <th>2023-12-27</th>\n",
       "      <td>476.510010</td>\n",
       "    </tr>\n",
       "    <tr>\n",
       "      <th>2023-12-28</th>\n",
       "      <td>476.690002</td>\n",
       "    </tr>\n",
       "    <tr>\n",
       "      <th>2023-12-29</th>\n",
       "      <td>475.309998</td>\n",
       "    </tr>\n",
       "    <tr>\n",
       "      <th>2024-01-02</th>\n",
       "      <td>472.649994</td>\n",
       "    </tr>\n",
       "    <tr>\n",
       "      <th>2024-01-03</th>\n",
       "      <td>468.790009</td>\n",
       "    </tr>\n",
       "    <tr>\n",
       "      <th>2024-01-04</th>\n",
       "      <td>467.279999</td>\n",
       "    </tr>\n",
       "    <tr>\n",
       "      <th>2024-01-05</th>\n",
       "      <td>467.920013</td>\n",
       "    </tr>\n",
       "    <tr>\n",
       "      <th>2024-01-08</th>\n",
       "      <td>474.600006</td>\n",
       "    </tr>\n",
       "    <tr>\n",
       "      <th>2024-01-09</th>\n",
       "      <td>473.880005</td>\n",
       "    </tr>\n",
       "    <tr>\n",
       "      <th>2024-01-10</th>\n",
       "      <td>476.559998</td>\n",
       "    </tr>\n",
       "    <tr>\n",
       "      <th>2024-01-11</th>\n",
       "      <td>476.350006</td>\n",
       "    </tr>\n",
       "    <tr>\n",
       "      <th>2024-01-12</th>\n",
       "      <td>476.679993</td>\n",
       "    </tr>\n",
       "    <tr>\n",
       "      <th>2024-01-16</th>\n",
       "      <td>474.929993</td>\n",
       "    </tr>\n",
       "    <tr>\n",
       "      <th>2024-01-17</th>\n",
       "      <td>472.290009</td>\n",
       "    </tr>\n",
       "  </tbody>\n",
       "</table>\n",
       "</div>"
      ],
      "text/plain": [
       "                 Close\n",
       "Date                  \n",
       "2023-12-18  471.970001\n",
       "2023-12-19  474.839996\n",
       "2023-12-20  468.260010\n",
       "2023-12-21  472.700012\n",
       "2023-12-22  473.649994\n",
       "2023-12-26  475.649994\n",
       "2023-12-27  476.510010\n",
       "2023-12-28  476.690002\n",
       "2023-12-29  475.309998\n",
       "2024-01-02  472.649994\n",
       "2024-01-03  468.790009\n",
       "2024-01-04  467.279999\n",
       "2024-01-05  467.920013\n",
       "2024-01-08  474.600006\n",
       "2024-01-09  473.880005\n",
       "2024-01-10  476.559998\n",
       "2024-01-11  476.350006\n",
       "2024-01-12  476.679993\n",
       "2024-01-16  474.929993\n",
       "2024-01-17  472.290009"
      ]
     },
     "execution_count": 176,
     "metadata": {},
     "output_type": "execute_result"
    }
   ],
   "source": [
    "# Verifying data within dataframe\n",
    "close_data"
   ]
  },
  {
   "cell_type": "code",
   "execution_count": 177,
   "id": "6fb73552",
   "metadata": {},
   "outputs": [
    {
     "data": {
      "text/html": [
       "<div>\n",
       "<style scoped>\n",
       "    .dataframe tbody tr th:only-of-type {\n",
       "        vertical-align: middle;\n",
       "    }\n",
       "\n",
       "    .dataframe tbody tr th {\n",
       "        vertical-align: top;\n",
       "    }\n",
       "\n",
       "    .dataframe thead th {\n",
       "        text-align: right;\n",
       "    }\n",
       "</style>\n",
       "<table border=\"1\" class=\"dataframe\">\n",
       "  <thead>\n",
       "    <tr style=\"text-align: right;\">\n",
       "      <th></th>\n",
       "      <th>Close</th>\n",
       "    </tr>\n",
       "    <tr>\n",
       "      <th>Date</th>\n",
       "      <th></th>\n",
       "    </tr>\n",
       "  </thead>\n",
       "  <tbody>\n",
       "    <tr>\n",
       "      <th>2023-12-18</th>\n",
       "      <td>471.970001</td>\n",
       "    </tr>\n",
       "    <tr>\n",
       "      <th>2023-12-19</th>\n",
       "      <td>474.839996</td>\n",
       "    </tr>\n",
       "    <tr>\n",
       "      <th>2023-12-20</th>\n",
       "      <td>468.260010</td>\n",
       "    </tr>\n",
       "    <tr>\n",
       "      <th>2023-12-21</th>\n",
       "      <td>472.700012</td>\n",
       "    </tr>\n",
       "    <tr>\n",
       "      <th>2023-12-22</th>\n",
       "      <td>473.649994</td>\n",
       "    </tr>\n",
       "  </tbody>\n",
       "</table>\n",
       "</div>"
      ],
      "text/plain": [
       "                 Close\n",
       "Date                  \n",
       "2023-12-18  471.970001\n",
       "2023-12-19  474.839996\n",
       "2023-12-20  468.260010\n",
       "2023-12-21  472.700012\n",
       "2023-12-22  473.649994"
      ]
     },
     "execution_count": 177,
     "metadata": {},
     "output_type": "execute_result"
    }
   ],
   "source": [
    "close_data.head()"
   ]
  },
  {
   "cell_type": "code",
   "execution_count": 178,
   "id": "e6b383ea",
   "metadata": {},
   "outputs": [],
   "source": [
    "# Resetting index to manipulate date column\n",
    "close_data = close_data.reset_index()"
   ]
  },
  {
   "cell_type": "code",
   "execution_count": 179,
   "id": "f951d324",
   "metadata": {},
   "outputs": [
    {
     "name": "stdout",
     "output_type": "stream",
     "text": [
      "<class 'pandas.core.frame.DataFrame'>\n",
      "RangeIndex: 20 entries, 0 to 19\n",
      "Data columns (total 2 columns):\n",
      " #   Column  Non-Null Count  Dtype         \n",
      "---  ------  --------------  -----         \n",
      " 0   Date    20 non-null     datetime64[ns]\n",
      " 1   Close   20 non-null     float64       \n",
      "dtypes: datetime64[ns](1), float64(1)\n",
      "memory usage: 452.0 bytes\n"
     ]
    }
   ],
   "source": [
    "# Verifying datatype of date\n",
    "close_data.info()"
   ]
  },
  {
   "cell_type": "code",
   "execution_count": 180,
   "id": "d7024454",
   "metadata": {},
   "outputs": [
    {
     "name": "stdout",
     "output_type": "stream",
     "text": [
      "2023-12-18 00:00:00\n"
     ]
    }
   ],
   "source": [
    "# Saving earliest date for calculations\n",
    "start_date_1m = close_data[\"Date\"][0]\n",
    "print(start_date_1m)"
   ]
  },
  {
   "cell_type": "code",
   "execution_count": 181,
   "id": "fbe5df11",
   "metadata": {},
   "outputs": [
    {
     "data": {
      "text/html": [
       "<div>\n",
       "<style scoped>\n",
       "    .dataframe tbody tr th:only-of-type {\n",
       "        vertical-align: middle;\n",
       "    }\n",
       "\n",
       "    .dataframe tbody tr th {\n",
       "        vertical-align: top;\n",
       "    }\n",
       "\n",
       "    .dataframe thead th {\n",
       "        text-align: right;\n",
       "    }\n",
       "</style>\n",
       "<table border=\"1\" class=\"dataframe\">\n",
       "  <thead>\n",
       "    <tr style=\"text-align: right;\">\n",
       "      <th></th>\n",
       "      <th>Date</th>\n",
       "      <th>Close</th>\n",
       "      <th>dayspost121823</th>\n",
       "    </tr>\n",
       "  </thead>\n",
       "  <tbody>\n",
       "    <tr>\n",
       "      <th>0</th>\n",
       "      <td>2023-12-18</td>\n",
       "      <td>471.970001</td>\n",
       "      <td>0 days</td>\n",
       "    </tr>\n",
       "    <tr>\n",
       "      <th>1</th>\n",
       "      <td>2023-12-19</td>\n",
       "      <td>474.839996</td>\n",
       "      <td>1 days</td>\n",
       "    </tr>\n",
       "    <tr>\n",
       "      <th>2</th>\n",
       "      <td>2023-12-20</td>\n",
       "      <td>468.260010</td>\n",
       "      <td>2 days</td>\n",
       "    </tr>\n",
       "    <tr>\n",
       "      <th>3</th>\n",
       "      <td>2023-12-21</td>\n",
       "      <td>472.700012</td>\n",
       "      <td>3 days</td>\n",
       "    </tr>\n",
       "    <tr>\n",
       "      <th>4</th>\n",
       "      <td>2023-12-22</td>\n",
       "      <td>473.649994</td>\n",
       "      <td>4 days</td>\n",
       "    </tr>\n",
       "    <tr>\n",
       "      <th>5</th>\n",
       "      <td>2023-12-26</td>\n",
       "      <td>475.649994</td>\n",
       "      <td>8 days</td>\n",
       "    </tr>\n",
       "    <tr>\n",
       "      <th>6</th>\n",
       "      <td>2023-12-27</td>\n",
       "      <td>476.510010</td>\n",
       "      <td>9 days</td>\n",
       "    </tr>\n",
       "    <tr>\n",
       "      <th>7</th>\n",
       "      <td>2023-12-28</td>\n",
       "      <td>476.690002</td>\n",
       "      <td>10 days</td>\n",
       "    </tr>\n",
       "    <tr>\n",
       "      <th>8</th>\n",
       "      <td>2023-12-29</td>\n",
       "      <td>475.309998</td>\n",
       "      <td>11 days</td>\n",
       "    </tr>\n",
       "    <tr>\n",
       "      <th>9</th>\n",
       "      <td>2024-01-02</td>\n",
       "      <td>472.649994</td>\n",
       "      <td>15 days</td>\n",
       "    </tr>\n",
       "    <tr>\n",
       "      <th>10</th>\n",
       "      <td>2024-01-03</td>\n",
       "      <td>468.790009</td>\n",
       "      <td>16 days</td>\n",
       "    </tr>\n",
       "    <tr>\n",
       "      <th>11</th>\n",
       "      <td>2024-01-04</td>\n",
       "      <td>467.279999</td>\n",
       "      <td>17 days</td>\n",
       "    </tr>\n",
       "    <tr>\n",
       "      <th>12</th>\n",
       "      <td>2024-01-05</td>\n",
       "      <td>467.920013</td>\n",
       "      <td>18 days</td>\n",
       "    </tr>\n",
       "    <tr>\n",
       "      <th>13</th>\n",
       "      <td>2024-01-08</td>\n",
       "      <td>474.600006</td>\n",
       "      <td>21 days</td>\n",
       "    </tr>\n",
       "    <tr>\n",
       "      <th>14</th>\n",
       "      <td>2024-01-09</td>\n",
       "      <td>473.880005</td>\n",
       "      <td>22 days</td>\n",
       "    </tr>\n",
       "    <tr>\n",
       "      <th>15</th>\n",
       "      <td>2024-01-10</td>\n",
       "      <td>476.559998</td>\n",
       "      <td>23 days</td>\n",
       "    </tr>\n",
       "    <tr>\n",
       "      <th>16</th>\n",
       "      <td>2024-01-11</td>\n",
       "      <td>476.350006</td>\n",
       "      <td>24 days</td>\n",
       "    </tr>\n",
       "    <tr>\n",
       "      <th>17</th>\n",
       "      <td>2024-01-12</td>\n",
       "      <td>476.679993</td>\n",
       "      <td>25 days</td>\n",
       "    </tr>\n",
       "    <tr>\n",
       "      <th>18</th>\n",
       "      <td>2024-01-16</td>\n",
       "      <td>474.929993</td>\n",
       "      <td>29 days</td>\n",
       "    </tr>\n",
       "    <tr>\n",
       "      <th>19</th>\n",
       "      <td>2024-01-17</td>\n",
       "      <td>472.290009</td>\n",
       "      <td>30 days</td>\n",
       "    </tr>\n",
       "  </tbody>\n",
       "</table>\n",
       "</div>"
      ],
      "text/plain": [
       "         Date       Close dayspost121823\n",
       "0  2023-12-18  471.970001         0 days\n",
       "1  2023-12-19  474.839996         1 days\n",
       "2  2023-12-20  468.260010         2 days\n",
       "3  2023-12-21  472.700012         3 days\n",
       "4  2023-12-22  473.649994         4 days\n",
       "5  2023-12-26  475.649994         8 days\n",
       "6  2023-12-27  476.510010         9 days\n",
       "7  2023-12-28  476.690002        10 days\n",
       "8  2023-12-29  475.309998        11 days\n",
       "9  2024-01-02  472.649994        15 days\n",
       "10 2024-01-03  468.790009        16 days\n",
       "11 2024-01-04  467.279999        17 days\n",
       "12 2024-01-05  467.920013        18 days\n",
       "13 2024-01-08  474.600006        21 days\n",
       "14 2024-01-09  473.880005        22 days\n",
       "15 2024-01-10  476.559998        23 days\n",
       "16 2024-01-11  476.350006        24 days\n",
       "17 2024-01-12  476.679993        25 days\n",
       "18 2024-01-16  474.929993        29 days\n",
       "19 2024-01-17  472.290009        30 days"
      ]
     },
     "execution_count": 181,
     "metadata": {},
     "output_type": "execute_result"
    }
   ],
   "source": [
    "# Creating a new column (dayspost121823) for count of days after start_date_1m\n",
    "close_data['dayspost121823'] = close_data[\"Date\"] - start_date_1m\n",
    "close_data"
   ]
  },
  {
   "cell_type": "code",
   "execution_count": 182,
   "id": "860ceaa2",
   "metadata": {},
   "outputs": [
    {
     "name": "stdout",
     "output_type": "stream",
     "text": [
      "<class 'pandas.core.frame.DataFrame'>\n",
      "RangeIndex: 20 entries, 0 to 19\n",
      "Data columns (total 3 columns):\n",
      " #   Column          Non-Null Count  Dtype          \n",
      "---  ------          --------------  -----          \n",
      " 0   Date            20 non-null     datetime64[ns] \n",
      " 1   Close           20 non-null     float64        \n",
      " 2   dayspost121823  20 non-null     timedelta64[ns]\n",
      "dtypes: datetime64[ns](1), float64(1), timedelta64[ns](1)\n",
      "memory usage: 612.0 bytes\n"
     ]
    }
   ],
   "source": [
    "# Verifying datatype for new column\n",
    "close_data.info()"
   ]
  },
  {
   "cell_type": "code",
   "execution_count": 183,
   "id": "2ad2ac47",
   "metadata": {},
   "outputs": [
    {
     "data": {
      "text/html": [
       "<div>\n",
       "<style scoped>\n",
       "    .dataframe tbody tr th:only-of-type {\n",
       "        vertical-align: middle;\n",
       "    }\n",
       "\n",
       "    .dataframe tbody tr th {\n",
       "        vertical-align: top;\n",
       "    }\n",
       "\n",
       "    .dataframe thead th {\n",
       "        text-align: right;\n",
       "    }\n",
       "</style>\n",
       "<table border=\"1\" class=\"dataframe\">\n",
       "  <thead>\n",
       "    <tr style=\"text-align: right;\">\n",
       "      <th></th>\n",
       "      <th>Date</th>\n",
       "      <th>Close</th>\n",
       "      <th>dayspost121823</th>\n",
       "    </tr>\n",
       "  </thead>\n",
       "  <tbody>\n",
       "    <tr>\n",
       "      <th>0</th>\n",
       "      <td>2023-12-18</td>\n",
       "      <td>471.970001</td>\n",
       "      <td>0</td>\n",
       "    </tr>\n",
       "    <tr>\n",
       "      <th>1</th>\n",
       "      <td>2023-12-19</td>\n",
       "      <td>474.839996</td>\n",
       "      <td>1</td>\n",
       "    </tr>\n",
       "    <tr>\n",
       "      <th>2</th>\n",
       "      <td>2023-12-20</td>\n",
       "      <td>468.260010</td>\n",
       "      <td>2</td>\n",
       "    </tr>\n",
       "    <tr>\n",
       "      <th>3</th>\n",
       "      <td>2023-12-21</td>\n",
       "      <td>472.700012</td>\n",
       "      <td>3</td>\n",
       "    </tr>\n",
       "    <tr>\n",
       "      <th>4</th>\n",
       "      <td>2023-12-22</td>\n",
       "      <td>473.649994</td>\n",
       "      <td>4</td>\n",
       "    </tr>\n",
       "    <tr>\n",
       "      <th>5</th>\n",
       "      <td>2023-12-26</td>\n",
       "      <td>475.649994</td>\n",
       "      <td>8</td>\n",
       "    </tr>\n",
       "    <tr>\n",
       "      <th>6</th>\n",
       "      <td>2023-12-27</td>\n",
       "      <td>476.510010</td>\n",
       "      <td>9</td>\n",
       "    </tr>\n",
       "    <tr>\n",
       "      <th>7</th>\n",
       "      <td>2023-12-28</td>\n",
       "      <td>476.690002</td>\n",
       "      <td>10</td>\n",
       "    </tr>\n",
       "    <tr>\n",
       "      <th>8</th>\n",
       "      <td>2023-12-29</td>\n",
       "      <td>475.309998</td>\n",
       "      <td>11</td>\n",
       "    </tr>\n",
       "    <tr>\n",
       "      <th>9</th>\n",
       "      <td>2024-01-02</td>\n",
       "      <td>472.649994</td>\n",
       "      <td>15</td>\n",
       "    </tr>\n",
       "    <tr>\n",
       "      <th>10</th>\n",
       "      <td>2024-01-03</td>\n",
       "      <td>468.790009</td>\n",
       "      <td>16</td>\n",
       "    </tr>\n",
       "    <tr>\n",
       "      <th>11</th>\n",
       "      <td>2024-01-04</td>\n",
       "      <td>467.279999</td>\n",
       "      <td>17</td>\n",
       "    </tr>\n",
       "    <tr>\n",
       "      <th>12</th>\n",
       "      <td>2024-01-05</td>\n",
       "      <td>467.920013</td>\n",
       "      <td>18</td>\n",
       "    </tr>\n",
       "    <tr>\n",
       "      <th>13</th>\n",
       "      <td>2024-01-08</td>\n",
       "      <td>474.600006</td>\n",
       "      <td>21</td>\n",
       "    </tr>\n",
       "    <tr>\n",
       "      <th>14</th>\n",
       "      <td>2024-01-09</td>\n",
       "      <td>473.880005</td>\n",
       "      <td>22</td>\n",
       "    </tr>\n",
       "    <tr>\n",
       "      <th>15</th>\n",
       "      <td>2024-01-10</td>\n",
       "      <td>476.559998</td>\n",
       "      <td>23</td>\n",
       "    </tr>\n",
       "    <tr>\n",
       "      <th>16</th>\n",
       "      <td>2024-01-11</td>\n",
       "      <td>476.350006</td>\n",
       "      <td>24</td>\n",
       "    </tr>\n",
       "    <tr>\n",
       "      <th>17</th>\n",
       "      <td>2024-01-12</td>\n",
       "      <td>476.679993</td>\n",
       "      <td>25</td>\n",
       "    </tr>\n",
       "    <tr>\n",
       "      <th>18</th>\n",
       "      <td>2024-01-16</td>\n",
       "      <td>474.929993</td>\n",
       "      <td>29</td>\n",
       "    </tr>\n",
       "    <tr>\n",
       "      <th>19</th>\n",
       "      <td>2024-01-17</td>\n",
       "      <td>472.290009</td>\n",
       "      <td>30</td>\n",
       "    </tr>\n",
       "  </tbody>\n",
       "</table>\n",
       "</div>"
      ],
      "text/plain": [
       "         Date       Close  dayspost121823\n",
       "0  2023-12-18  471.970001               0\n",
       "1  2023-12-19  474.839996               1\n",
       "2  2023-12-20  468.260010               2\n",
       "3  2023-12-21  472.700012               3\n",
       "4  2023-12-22  473.649994               4\n",
       "5  2023-12-26  475.649994               8\n",
       "6  2023-12-27  476.510010               9\n",
       "7  2023-12-28  476.690002              10\n",
       "8  2023-12-29  475.309998              11\n",
       "9  2024-01-02  472.649994              15\n",
       "10 2024-01-03  468.790009              16\n",
       "11 2024-01-04  467.279999              17\n",
       "12 2024-01-05  467.920013              18\n",
       "13 2024-01-08  474.600006              21\n",
       "14 2024-01-09  473.880005              22\n",
       "15 2024-01-10  476.559998              23\n",
       "16 2024-01-11  476.350006              24\n",
       "17 2024-01-12  476.679993              25\n",
       "18 2024-01-16  474.929993              29\n",
       "19 2024-01-17  472.290009              30"
      ]
     },
     "execution_count": 183,
     "metadata": {},
     "output_type": "execute_result"
    }
   ],
   "source": [
    "# Converting new column datatype into integer\n",
    "close_data['dayspost121823'] = close_data[\"dayspost121823\"].dt.days\n",
    "close_data"
   ]
  },
  {
   "cell_type": "code",
   "execution_count": 184,
   "id": "88f52ad1",
   "metadata": {},
   "outputs": [
    {
     "data": {
      "text/html": [
       "<div>\n",
       "<style scoped>\n",
       "    .dataframe tbody tr th:only-of-type {\n",
       "        vertical-align: middle;\n",
       "    }\n",
       "\n",
       "    .dataframe tbody tr th {\n",
       "        vertical-align: top;\n",
       "    }\n",
       "\n",
       "    .dataframe thead th {\n",
       "        text-align: right;\n",
       "    }\n",
       "</style>\n",
       "<table border=\"1\" class=\"dataframe\">\n",
       "  <thead>\n",
       "    <tr style=\"text-align: right;\">\n",
       "      <th></th>\n",
       "      <th>Date</th>\n",
       "      <th>dayspost121823</th>\n",
       "      <th>Close</th>\n",
       "    </tr>\n",
       "  </thead>\n",
       "  <tbody>\n",
       "    <tr>\n",
       "      <th>0</th>\n",
       "      <td>2023-12-18</td>\n",
       "      <td>0</td>\n",
       "      <td>471.970001</td>\n",
       "    </tr>\n",
       "    <tr>\n",
       "      <th>1</th>\n",
       "      <td>2023-12-19</td>\n",
       "      <td>1</td>\n",
       "      <td>474.839996</td>\n",
       "    </tr>\n",
       "    <tr>\n",
       "      <th>2</th>\n",
       "      <td>2023-12-20</td>\n",
       "      <td>2</td>\n",
       "      <td>468.260010</td>\n",
       "    </tr>\n",
       "    <tr>\n",
       "      <th>3</th>\n",
       "      <td>2023-12-21</td>\n",
       "      <td>3</td>\n",
       "      <td>472.700012</td>\n",
       "    </tr>\n",
       "    <tr>\n",
       "      <th>4</th>\n",
       "      <td>2023-12-22</td>\n",
       "      <td>4</td>\n",
       "      <td>473.649994</td>\n",
       "    </tr>\n",
       "    <tr>\n",
       "      <th>5</th>\n",
       "      <td>2023-12-26</td>\n",
       "      <td>8</td>\n",
       "      <td>475.649994</td>\n",
       "    </tr>\n",
       "    <tr>\n",
       "      <th>6</th>\n",
       "      <td>2023-12-27</td>\n",
       "      <td>9</td>\n",
       "      <td>476.510010</td>\n",
       "    </tr>\n",
       "    <tr>\n",
       "      <th>7</th>\n",
       "      <td>2023-12-28</td>\n",
       "      <td>10</td>\n",
       "      <td>476.690002</td>\n",
       "    </tr>\n",
       "    <tr>\n",
       "      <th>8</th>\n",
       "      <td>2023-12-29</td>\n",
       "      <td>11</td>\n",
       "      <td>475.309998</td>\n",
       "    </tr>\n",
       "    <tr>\n",
       "      <th>9</th>\n",
       "      <td>2024-01-02</td>\n",
       "      <td>15</td>\n",
       "      <td>472.649994</td>\n",
       "    </tr>\n",
       "    <tr>\n",
       "      <th>10</th>\n",
       "      <td>2024-01-03</td>\n",
       "      <td>16</td>\n",
       "      <td>468.790009</td>\n",
       "    </tr>\n",
       "    <tr>\n",
       "      <th>11</th>\n",
       "      <td>2024-01-04</td>\n",
       "      <td>17</td>\n",
       "      <td>467.279999</td>\n",
       "    </tr>\n",
       "    <tr>\n",
       "      <th>12</th>\n",
       "      <td>2024-01-05</td>\n",
       "      <td>18</td>\n",
       "      <td>467.920013</td>\n",
       "    </tr>\n",
       "    <tr>\n",
       "      <th>13</th>\n",
       "      <td>2024-01-08</td>\n",
       "      <td>21</td>\n",
       "      <td>474.600006</td>\n",
       "    </tr>\n",
       "    <tr>\n",
       "      <th>14</th>\n",
       "      <td>2024-01-09</td>\n",
       "      <td>22</td>\n",
       "      <td>473.880005</td>\n",
       "    </tr>\n",
       "    <tr>\n",
       "      <th>15</th>\n",
       "      <td>2024-01-10</td>\n",
       "      <td>23</td>\n",
       "      <td>476.559998</td>\n",
       "    </tr>\n",
       "    <tr>\n",
       "      <th>16</th>\n",
       "      <td>2024-01-11</td>\n",
       "      <td>24</td>\n",
       "      <td>476.350006</td>\n",
       "    </tr>\n",
       "    <tr>\n",
       "      <th>17</th>\n",
       "      <td>2024-01-12</td>\n",
       "      <td>25</td>\n",
       "      <td>476.679993</td>\n",
       "    </tr>\n",
       "    <tr>\n",
       "      <th>18</th>\n",
       "      <td>2024-01-16</td>\n",
       "      <td>29</td>\n",
       "      <td>474.929993</td>\n",
       "    </tr>\n",
       "    <tr>\n",
       "      <th>19</th>\n",
       "      <td>2024-01-17</td>\n",
       "      <td>30</td>\n",
       "      <td>472.290009</td>\n",
       "    </tr>\n",
       "  </tbody>\n",
       "</table>\n",
       "</div>"
      ],
      "text/plain": [
       "         Date  dayspost121823       Close\n",
       "0  2023-12-18               0  471.970001\n",
       "1  2023-12-19               1  474.839996\n",
       "2  2023-12-20               2  468.260010\n",
       "3  2023-12-21               3  472.700012\n",
       "4  2023-12-22               4  473.649994\n",
       "5  2023-12-26               8  475.649994\n",
       "6  2023-12-27               9  476.510010\n",
       "7  2023-12-28              10  476.690002\n",
       "8  2023-12-29              11  475.309998\n",
       "9  2024-01-02              15  472.649994\n",
       "10 2024-01-03              16  468.790009\n",
       "11 2024-01-04              17  467.279999\n",
       "12 2024-01-05              18  467.920013\n",
       "13 2024-01-08              21  474.600006\n",
       "14 2024-01-09              22  473.880005\n",
       "15 2024-01-10              23  476.559998\n",
       "16 2024-01-11              24  476.350006\n",
       "17 2024-01-12              25  476.679993\n",
       "18 2024-01-16              29  474.929993\n",
       "19 2024-01-17              30  472.290009"
      ]
     },
     "execution_count": 184,
     "metadata": {},
     "output_type": "execute_result"
    }
   ],
   "source": [
    "# Rearranging the dataframe\n",
    "close_data = close_data[['Date', 'dayspost121823', 'Close']]\n",
    "close_data"
   ]
  },
  {
   "cell_type": "markdown",
   "id": "908b6d96",
   "metadata": {},
   "source": [
    "# Linear Regression Model Set-Up"
   ]
  },
  {
   "cell_type": "code",
   "execution_count": 185,
   "id": "814840ad",
   "metadata": {},
   "outputs": [
    {
     "data": {
      "text/plain": [
       "array([[0],\n",
       "       [1],\n",
       "       [2],\n",
       "       [3],\n",
       "       [4]], dtype=int64)"
      ]
     },
     "execution_count": 185,
     "metadata": {},
     "output_type": "execute_result"
    }
   ],
   "source": [
    "# Reformat data of the independent variable X as a single-column array\n",
    "X = close_data[\"dayspost121823\"].values.reshape(-1, 1)\n",
    "\n",
    "# Display sample data\n",
    "X[:5]"
   ]
  },
  {
   "cell_type": "code",
   "execution_count": 186,
   "id": "91e502a8",
   "metadata": {},
   "outputs": [
    {
     "data": {
      "text/plain": [
       "(20, 1)"
      ]
     },
     "execution_count": 186,
     "metadata": {},
     "output_type": "execute_result"
    }
   ],
   "source": [
    "# The shape of X should be 20 samples, with a single feature (column)\n",
    "X.shape"
   ]
  },
  {
   "cell_type": "code",
   "execution_count": 187,
   "id": "29d61fb4",
   "metadata": {},
   "outputs": [],
   "source": [
    "# Create an array for the dependent variable y\n",
    "y = close_data[\"Close\"]"
   ]
  },
  {
   "cell_type": "code",
   "execution_count": 188,
   "id": "292f059c",
   "metadata": {},
   "outputs": [],
   "source": [
    "# Create a model with scikit-learn\n",
    "model = LinearRegression()"
   ]
  },
  {
   "cell_type": "code",
   "execution_count": 189,
   "id": "4339b913",
   "metadata": {},
   "outputs": [
    {
     "data": {
      "text/html": [
       "<style>#sk-container-id-14 {color: black;background-color: white;}#sk-container-id-14 pre{padding: 0;}#sk-container-id-14 div.sk-toggleable {background-color: white;}#sk-container-id-14 label.sk-toggleable__label {cursor: pointer;display: block;width: 100%;margin-bottom: 0;padding: 0.3em;box-sizing: border-box;text-align: center;}#sk-container-id-14 label.sk-toggleable__label-arrow:before {content: \"▸\";float: left;margin-right: 0.25em;color: #696969;}#sk-container-id-14 label.sk-toggleable__label-arrow:hover:before {color: black;}#sk-container-id-14 div.sk-estimator:hover label.sk-toggleable__label-arrow:before {color: black;}#sk-container-id-14 div.sk-toggleable__content {max-height: 0;max-width: 0;overflow: hidden;text-align: left;background-color: #f0f8ff;}#sk-container-id-14 div.sk-toggleable__content pre {margin: 0.2em;color: black;border-radius: 0.25em;background-color: #f0f8ff;}#sk-container-id-14 input.sk-toggleable__control:checked~div.sk-toggleable__content {max-height: 200px;max-width: 100%;overflow: auto;}#sk-container-id-14 input.sk-toggleable__control:checked~label.sk-toggleable__label-arrow:before {content: \"▾\";}#sk-container-id-14 div.sk-estimator input.sk-toggleable__control:checked~label.sk-toggleable__label {background-color: #d4ebff;}#sk-container-id-14 div.sk-label input.sk-toggleable__control:checked~label.sk-toggleable__label {background-color: #d4ebff;}#sk-container-id-14 input.sk-hidden--visually {border: 0;clip: rect(1px 1px 1px 1px);clip: rect(1px, 1px, 1px, 1px);height: 1px;margin: -1px;overflow: hidden;padding: 0;position: absolute;width: 1px;}#sk-container-id-14 div.sk-estimator {font-family: monospace;background-color: #f0f8ff;border: 1px dotted black;border-radius: 0.25em;box-sizing: border-box;margin-bottom: 0.5em;}#sk-container-id-14 div.sk-estimator:hover {background-color: #d4ebff;}#sk-container-id-14 div.sk-parallel-item::after {content: \"\";width: 100%;border-bottom: 1px solid gray;flex-grow: 1;}#sk-container-id-14 div.sk-label:hover label.sk-toggleable__label {background-color: #d4ebff;}#sk-container-id-14 div.sk-serial::before {content: \"\";position: absolute;border-left: 1px solid gray;box-sizing: border-box;top: 0;bottom: 0;left: 50%;z-index: 0;}#sk-container-id-14 div.sk-serial {display: flex;flex-direction: column;align-items: center;background-color: white;padding-right: 0.2em;padding-left: 0.2em;position: relative;}#sk-container-id-14 div.sk-item {position: relative;z-index: 1;}#sk-container-id-14 div.sk-parallel {display: flex;align-items: stretch;justify-content: center;background-color: white;position: relative;}#sk-container-id-14 div.sk-item::before, #sk-container-id-14 div.sk-parallel-item::before {content: \"\";position: absolute;border-left: 1px solid gray;box-sizing: border-box;top: 0;bottom: 0;left: 50%;z-index: -1;}#sk-container-id-14 div.sk-parallel-item {display: flex;flex-direction: column;z-index: 1;position: relative;background-color: white;}#sk-container-id-14 div.sk-parallel-item:first-child::after {align-self: flex-end;width: 50%;}#sk-container-id-14 div.sk-parallel-item:last-child::after {align-self: flex-start;width: 50%;}#sk-container-id-14 div.sk-parallel-item:only-child::after {width: 0;}#sk-container-id-14 div.sk-dashed-wrapped {border: 1px dashed gray;margin: 0 0.4em 0.5em 0.4em;box-sizing: border-box;padding-bottom: 0.4em;background-color: white;}#sk-container-id-14 div.sk-label label {font-family: monospace;font-weight: bold;display: inline-block;line-height: 1.2em;}#sk-container-id-14 div.sk-label-container {text-align: center;}#sk-container-id-14 div.sk-container {/* jupyter's `normalize.less` sets `[hidden] { display: none; }` but bootstrap.min.css set `[hidden] { display: none !important; }` so we also need the `!important` here to be able to override the default hidden behavior on the sphinx rendered scikit-learn.org. See: https://github.com/scikit-learn/scikit-learn/issues/21755 */display: inline-block !important;position: relative;}#sk-container-id-14 div.sk-text-repr-fallback {display: none;}</style><div id=\"sk-container-id-14\" class=\"sk-top-container\"><div class=\"sk-text-repr-fallback\"><pre>LinearRegression()</pre><b>In a Jupyter environment, please rerun this cell to show the HTML representation or trust the notebook. <br />On GitHub, the HTML representation is unable to render, please try loading this page with nbviewer.org.</b></div><div class=\"sk-container\" hidden><div class=\"sk-item\"><div class=\"sk-estimator sk-toggleable\"><input class=\"sk-toggleable__control sk-hidden--visually\" id=\"sk-estimator-id-14\" type=\"checkbox\" checked><label for=\"sk-estimator-id-14\" class=\"sk-toggleable__label sk-toggleable__label-arrow\">LinearRegression</label><div class=\"sk-toggleable__content\"><pre>LinearRegression()</pre></div></div></div></div></div>"
      ],
      "text/plain": [
       "LinearRegression()"
      ]
     },
     "execution_count": 189,
     "metadata": {},
     "output_type": "execute_result"
    }
   ],
   "source": [
    "# Fit the data into the model\n",
    "model.fit(X, y)"
   ]
  },
  {
   "cell_type": "markdown",
   "id": "1925ed3b",
   "metadata": {},
   "source": [
    "# Linear Regression Model Predictions"
   ]
  },
  {
   "cell_type": "code",
   "execution_count": 190,
   "id": "c138fedc",
   "metadata": {},
   "outputs": [
    {
     "name": "stdout",
     "output_type": "stream",
     "text": [
      "Model's slope: [0.04694958]\n"
     ]
    }
   ],
   "source": [
    "# Display the slope\n",
    "print(f\"Model's slope: {model.coef_}\")"
   ]
  },
  {
   "cell_type": "code",
   "execution_count": 191,
   "id": "39af590e",
   "metadata": {},
   "outputs": [
    {
     "name": "stdout",
     "output_type": "stream",
     "text": [
      "Model's y-intercept: 472.699427997597\n"
     ]
    }
   ],
   "source": [
    "# Display the y-intercept\n",
    "print(f\"Model's y-intercept: {model.intercept_}\")"
   ]
  },
  {
   "cell_type": "code",
   "execution_count": 192,
   "id": "74259250",
   "metadata": {},
   "outputs": [
    {
     "name": "stdout",
     "output_type": "stream",
     "text": [
      "Model's formula: y = 0.04694958448355189X + 472.699427997597\n"
     ]
    }
   ],
   "source": [
    "# Display the model's best fit line formula\n",
    "print(f\"Model's formula: y = {model.coef_[0]}X + {model.intercept_}\")"
   ]
  },
  {
   "cell_type": "code",
   "execution_count": 193,
   "id": "f467cb87",
   "metadata": {},
   "outputs": [
    {
     "name": "stdout",
     "output_type": "stream",
     "text": [
      "Model's formula: y = 0.04694958448355189 * 7 + 472.699427997597\n",
      "Predicted closing price of SPY after 7 days: $473.03\n"
     ]
    }
   ],
   "source": [
    "# Display the formula to predict the closing price of SPY 1 week (7 days) after start date\n",
    "print(f\"Model's formula: y = {model.coef_[0]} * 7 + {model.intercept_}\")\n",
    "\n",
    "# Predict the closing price of the SPY 1 week after start date\n",
    "y_7 = model.intercept_ + model.coef_[0] * 7\n",
    "\n",
    "# Display the prediction\n",
    "print(f\"Predicted closing price of SPY after 7 days: ${y_7:.2f}\")"
   ]
  },
  {
   "cell_type": "code",
   "execution_count": 194,
   "id": "126f4ea2",
   "metadata": {},
   "outputs": [
    {
     "data": {
      "text/html": [
       "<div>\n",
       "<style scoped>\n",
       "    .dataframe tbody tr th:only-of-type {\n",
       "        vertical-align: middle;\n",
       "    }\n",
       "\n",
       "    .dataframe tbody tr th {\n",
       "        vertical-align: top;\n",
       "    }\n",
       "\n",
       "    .dataframe thead th {\n",
       "        text-align: right;\n",
       "    }\n",
       "</style>\n",
       "<table border=\"1\" class=\"dataframe\">\n",
       "  <thead>\n",
       "    <tr style=\"text-align: right;\">\n",
       "      <th></th>\n",
       "      <th>Date</th>\n",
       "      <th>dayspost121823</th>\n",
       "      <th>Close</th>\n",
       "      <th>close_predicted</th>\n",
       "    </tr>\n",
       "  </thead>\n",
       "  <tbody>\n",
       "    <tr>\n",
       "      <th>0</th>\n",
       "      <td>2023-12-18</td>\n",
       "      <td>0</td>\n",
       "      <td>471.970001</td>\n",
       "      <td>472.699428</td>\n",
       "    </tr>\n",
       "    <tr>\n",
       "      <th>1</th>\n",
       "      <td>2023-12-19</td>\n",
       "      <td>1</td>\n",
       "      <td>474.839996</td>\n",
       "      <td>472.746378</td>\n",
       "    </tr>\n",
       "    <tr>\n",
       "      <th>2</th>\n",
       "      <td>2023-12-20</td>\n",
       "      <td>2</td>\n",
       "      <td>468.260010</td>\n",
       "      <td>472.793327</td>\n",
       "    </tr>\n",
       "    <tr>\n",
       "      <th>3</th>\n",
       "      <td>2023-12-21</td>\n",
       "      <td>3</td>\n",
       "      <td>472.700012</td>\n",
       "      <td>472.840277</td>\n",
       "    </tr>\n",
       "    <tr>\n",
       "      <th>4</th>\n",
       "      <td>2023-12-22</td>\n",
       "      <td>4</td>\n",
       "      <td>473.649994</td>\n",
       "      <td>472.887226</td>\n",
       "    </tr>\n",
       "  </tbody>\n",
       "</table>\n",
       "</div>"
      ],
      "text/plain": [
       "        Date  dayspost121823       Close  close_predicted\n",
       "0 2023-12-18               0  471.970001       472.699428\n",
       "1 2023-12-19               1  474.839996       472.746378\n",
       "2 2023-12-20               2  468.260010       472.793327\n",
       "3 2023-12-21               3  472.700012       472.840277\n",
       "4 2023-12-22               4  473.649994       472.887226"
      ]
     },
     "execution_count": 194,
     "metadata": {},
     "output_type": "execute_result"
    }
   ],
   "source": [
    "# Make predictions using the X set\n",
    "predicted_y_values = model.predict(X)\n",
    "# Create a copy of the original data\n",
    "df_close_predicted = close_data.copy()\n",
    "\n",
    "# Add a column with the predicted salary values\n",
    "df_close_predicted[\"close_predicted\"] = predicted_y_values\n",
    "\n",
    "# Display sample data\n",
    "df_close_predicted.head()"
   ]
  },
  {
   "cell_type": "code",
   "execution_count": 195,
   "id": "570d3cb0",
   "metadata": {},
   "outputs": [
    {
     "data": {},
     "metadata": {},
     "output_type": "display_data"
    },
    {
     "data": {
      "application/vnd.holoviews_exec.v0+json": "",
      "text/html": [
       "<div id='p2629'>\n",
       "  <div id=\"ad283dc2-7867-43ab-8420-c7f76168dba6\" data-root-id=\"p2629\" style=\"display: contents;\"></div>\n",
       "</div>\n",
       "<script type=\"application/javascript\">(function(root) {\n",
       "  var docs_json = {\"323812af-eb40-4367-8da0-4e490d7eb3ea\":{\"version\":\"3.2.1\",\"title\":\"Bokeh Application\",\"roots\":[{\"type\":\"object\",\"name\":\"Row\",\"id\":\"p2629\",\"attributes\":{\"name\":\"Row04767\",\"tags\":[\"embedded\"],\"stylesheets\":[\"\\n:host(.pn-loading.pn-arc):before, .pn-loading.pn-arc:before {\\n  background-image: url(\\\"data:image/svg+xml;base64,PHN2ZyB4bWxucz0iaHR0cDovL3d3dy53My5vcmcvMjAwMC9zdmciIHN0eWxlPSJtYXJnaW46IGF1dG87IGJhY2tncm91bmQ6IG5vbmU7IGRpc3BsYXk6IGJsb2NrOyBzaGFwZS1yZW5kZXJpbmc6IGF1dG87IiB2aWV3Qm94PSIwIDAgMTAwIDEwMCIgcHJlc2VydmVBc3BlY3RSYXRpbz0ieE1pZFlNaWQiPiAgPGNpcmNsZSBjeD0iNTAiIGN5PSI1MCIgZmlsbD0ibm9uZSIgc3Ryb2tlPSIjYzNjM2MzIiBzdHJva2Utd2lkdGg9IjEwIiByPSIzNSIgc3Ryb2tlLWRhc2hhcnJheT0iMTY0LjkzMzYxNDMxMzQ2NDE1IDU2Ljk3Nzg3MTQzNzgyMTM4Ij4gICAgPGFuaW1hdGVUcmFuc2Zvcm0gYXR0cmlidXRlTmFtZT0idHJhbnNmb3JtIiB0eXBlPSJyb3RhdGUiIHJlcGVhdENvdW50PSJpbmRlZmluaXRlIiBkdXI9IjFzIiB2YWx1ZXM9IjAgNTAgNTA7MzYwIDUwIDUwIiBrZXlUaW1lcz0iMDsxIj48L2FuaW1hdGVUcmFuc2Zvcm0+ICA8L2NpcmNsZT48L3N2Zz4=\\\");\\n  background-size: auto calc(min(50%, 400px));\\n}\",{\"type\":\"object\",\"name\":\"ImportedStyleSheet\",\"id\":\"p2632\",\"attributes\":{\"url\":\"https://cdn.holoviz.org/panel/1.2.1/dist/css/loading.css\"}},{\"type\":\"object\",\"name\":\"ImportedStyleSheet\",\"id\":\"p2684\",\"attributes\":{\"url\":\"https://cdn.holoviz.org/panel/1.2.1/dist/css/listpanel.css\"}},{\"type\":\"object\",\"name\":\"ImportedStyleSheet\",\"id\":\"p2630\",\"attributes\":{\"url\":\"https://cdn.holoviz.org/panel/1.2.1/dist/bundled/theme/default.css\"}},{\"type\":\"object\",\"name\":\"ImportedStyleSheet\",\"id\":\"p2631\",\"attributes\":{\"url\":\"https://cdn.holoviz.org/panel/1.2.1/dist/bundled/theme/native.css\"}}],\"min_width\":700,\"margin\":0,\"sizing_mode\":\"stretch_width\",\"align\":\"start\",\"children\":[{\"type\":\"object\",\"name\":\"Spacer\",\"id\":\"p2633\",\"attributes\":{\"name\":\"HSpacer04778\",\"stylesheets\":[\"\\n:host(.pn-loading.pn-arc):before, .pn-loading.pn-arc:before {\\n  background-image: url(\\\"data:image/svg+xml;base64,PHN2ZyB4bWxucz0iaHR0cDovL3d3dy53My5vcmcvMjAwMC9zdmciIHN0eWxlPSJtYXJnaW46IGF1dG87IGJhY2tncm91bmQ6IG5vbmU7IGRpc3BsYXk6IGJsb2NrOyBzaGFwZS1yZW5kZXJpbmc6IGF1dG87IiB2aWV3Qm94PSIwIDAgMTAwIDEwMCIgcHJlc2VydmVBc3BlY3RSYXRpbz0ieE1pZFlNaWQiPiAgPGNpcmNsZSBjeD0iNTAiIGN5PSI1MCIgZmlsbD0ibm9uZSIgc3Ryb2tlPSIjYzNjM2MzIiBzdHJva2Utd2lkdGg9IjEwIiByPSIzNSIgc3Ryb2tlLWRhc2hhcnJheT0iMTY0LjkzMzYxNDMxMzQ2NDE1IDU2Ljk3Nzg3MTQzNzgyMTM4Ij4gICAgPGFuaW1hdGVUcmFuc2Zvcm0gYXR0cmlidXRlTmFtZT0idHJhbnNmb3JtIiB0eXBlPSJyb3RhdGUiIHJlcGVhdENvdW50PSJpbmRlZmluaXRlIiBkdXI9IjFzIiB2YWx1ZXM9IjAgNTAgNTA7MzYwIDUwIDUwIiBrZXlUaW1lcz0iMDsxIj48L2FuaW1hdGVUcmFuc2Zvcm0+ICA8L2NpcmNsZT48L3N2Zz4=\\\");\\n  background-size: auto calc(min(50%, 400px));\\n}\",{\"id\":\"p2632\"},{\"id\":\"p2630\"},{\"id\":\"p2631\"}],\"margin\":0,\"sizing_mode\":\"stretch_width\",\"align\":\"start\"}},{\"type\":\"object\",\"name\":\"Figure\",\"id\":\"p2641\",\"attributes\":{\"width\":700,\"height\":300,\"margin\":[5,10],\"sizing_mode\":\"fixed\",\"align\":\"start\",\"x_range\":{\"type\":\"object\",\"name\":\"Range1d\",\"id\":\"p2634\",\"attributes\":{\"tags\":[[[\"dayspost121823\",\"dayspost121823\",null]],[]],\"end\":30.0,\"reset_start\":0.0,\"reset_end\":30.0}},\"y_range\":{\"type\":\"object\",\"name\":\"Range1d\",\"id\":\"p2635\",\"attributes\":{\"tags\":[[[\"close_predicted\",\"close_predicted\",null]],{\"type\":\"map\",\"entries\":[[\"invert_yaxis\",false],[\"autorange\",false]]}],\"start\":472.55857924414636,\"end\":474.2487642855542,\"reset_start\":472.55857924414636,\"reset_end\":474.2487642855542}},\"x_scale\":{\"type\":\"object\",\"name\":\"LinearScale\",\"id\":\"p2651\"},\"y_scale\":{\"type\":\"object\",\"name\":\"LinearScale\",\"id\":\"p2652\"},\"title\":{\"type\":\"object\",\"name\":\"Title\",\"id\":\"p2644\",\"attributes\":{\"text_color\":\"black\",\"text_font_size\":\"12pt\"}},\"renderers\":[{\"type\":\"object\",\"name\":\"GlyphRenderer\",\"id\":\"p2677\",\"attributes\":{\"data_source\":{\"type\":\"object\",\"name\":\"ColumnDataSource\",\"id\":\"p2668\",\"attributes\":{\"selected\":{\"type\":\"object\",\"name\":\"Selection\",\"id\":\"p2669\",\"attributes\":{\"indices\":[],\"line_indices\":[]}},\"selection_policy\":{\"type\":\"object\",\"name\":\"UnionRenderers\",\"id\":\"p2670\"},\"data\":{\"type\":\"map\",\"entries\":[[\"dayspost121823\",{\"type\":\"ndarray\",\"array\":{\"type\":\"bytes\",\"data\":\"AAAAAAEAAAACAAAAAwAAAAQAAAAIAAAACQAAAAoAAAALAAAADwAAABAAAAARAAAAEgAAABUAAAAWAAAAFwAAABgAAAAZAAAAHQAAAB4AAAA=\"},\"shape\":[20],\"dtype\":\"int32\",\"order\":\"little\"}],[\"close_predicted\",{\"type\":\"ndarray\",\"array\":{\"type\":\"bytes\",\"data\":\"YHlp2zCLfUAPmJ4p8Yt9QL2203exjH1AbNUIxnGNfUAb9D0UMo59QNVuEk0zkX1AhI1Hm/ORfUAzrHzps5J9QOHKsTd0k31AnEWGcHWWfUBLZLu+NZd9QPmC8Az2l31AqKElW7aYfUC0/cRF95p9QGMc+pO3m31AETsv4necfUDAWWQwOJ19QG94mX74nX1AKfNtt/mgfUDYEaMFuqF9QA==\"},\"shape\":[20],\"dtype\":\"float64\",\"order\":\"little\"}]]}}},\"view\":{\"type\":\"object\",\"name\":\"CDSView\",\"id\":\"p2678\",\"attributes\":{\"filter\":{\"type\":\"object\",\"name\":\"AllIndices\",\"id\":\"p2679\"}}},\"glyph\":{\"type\":\"object\",\"name\":\"Line\",\"id\":\"p2674\",\"attributes\":{\"tags\":[\"apply_ranges\"],\"x\":{\"type\":\"field\",\"field\":\"dayspost121823\"},\"y\":{\"type\":\"field\",\"field\":\"close_predicted\"},\"line_color\":\"red\",\"line_width\":2}},\"selection_glyph\":{\"type\":\"object\",\"name\":\"Line\",\"id\":\"p2680\",\"attributes\":{\"tags\":[\"apply_ranges\"],\"x\":{\"type\":\"field\",\"field\":\"dayspost121823\"},\"y\":{\"type\":\"field\",\"field\":\"close_predicted\"},\"line_color\":\"red\",\"line_width\":2}},\"nonselection_glyph\":{\"type\":\"object\",\"name\":\"Line\",\"id\":\"p2675\",\"attributes\":{\"tags\":[\"apply_ranges\"],\"x\":{\"type\":\"field\",\"field\":\"dayspost121823\"},\"y\":{\"type\":\"field\",\"field\":\"close_predicted\"},\"line_color\":\"red\",\"line_alpha\":0.1,\"line_width\":2}},\"muted_glyph\":{\"type\":\"object\",\"name\":\"Line\",\"id\":\"p2676\",\"attributes\":{\"tags\":[\"apply_ranges\"],\"x\":{\"type\":\"field\",\"field\":\"dayspost121823\"},\"y\":{\"type\":\"field\",\"field\":\"close_predicted\"},\"line_color\":\"red\",\"line_alpha\":0.2,\"line_width\":2}}}}],\"toolbar\":{\"type\":\"object\",\"name\":\"Toolbar\",\"id\":\"p2650\",\"attributes\":{\"tools\":[{\"type\":\"object\",\"name\":\"WheelZoomTool\",\"id\":\"p2639\",\"attributes\":{\"tags\":[\"hv_created\"],\"zoom_together\":\"none\"}},{\"type\":\"object\",\"name\":\"HoverTool\",\"id\":\"p2640\",\"attributes\":{\"tags\":[\"hv_created\"],\"renderers\":[{\"id\":\"p2677\"}],\"tooltips\":[[\"dayspost121823\",\"@{dayspost121823}\"],[\"close_predicted\",\"@{close_predicted}\"]]}},{\"type\":\"object\",\"name\":\"SaveTool\",\"id\":\"p2663\"},{\"type\":\"object\",\"name\":\"PanTool\",\"id\":\"p2664\"},{\"type\":\"object\",\"name\":\"BoxZoomTool\",\"id\":\"p2665\",\"attributes\":{\"overlay\":{\"type\":\"object\",\"name\":\"BoxAnnotation\",\"id\":\"p2666\",\"attributes\":{\"syncable\":false,\"level\":\"overlay\",\"visible\":false,\"left_units\":\"canvas\",\"right_units\":\"canvas\",\"bottom_units\":\"canvas\",\"top_units\":\"canvas\",\"line_color\":\"black\",\"line_alpha\":1.0,\"line_width\":2,\"line_dash\":[4,4],\"fill_color\":\"lightgrey\",\"fill_alpha\":0.5}}}},{\"type\":\"object\",\"name\":\"ResetTool\",\"id\":\"p2667\"}],\"active_drag\":{\"id\":\"p2664\"},\"active_scroll\":{\"id\":\"p2639\"}}},\"left\":[{\"type\":\"object\",\"name\":\"LinearAxis\",\"id\":\"p2658\",\"attributes\":{\"ticker\":{\"type\":\"object\",\"name\":\"BasicTicker\",\"id\":\"p2659\",\"attributes\":{\"mantissas\":[1,2,5]}},\"formatter\":{\"type\":\"object\",\"name\":\"BasicTickFormatter\",\"id\":\"p2660\"},\"axis_label\":\"close_predicted\",\"major_label_policy\":{\"type\":\"object\",\"name\":\"AllLabels\",\"id\":\"p2661\"}}}],\"below\":[{\"type\":\"object\",\"name\":\"LinearAxis\",\"id\":\"p2653\",\"attributes\":{\"ticker\":{\"type\":\"object\",\"name\":\"BasicTicker\",\"id\":\"p2654\",\"attributes\":{\"mantissas\":[1,2,5]}},\"formatter\":{\"type\":\"object\",\"name\":\"BasicTickFormatter\",\"id\":\"p2655\"},\"axis_label\":\"dayspost121823\",\"major_label_policy\":{\"type\":\"object\",\"name\":\"AllLabels\",\"id\":\"p2656\"}}}],\"center\":[{\"type\":\"object\",\"name\":\"Grid\",\"id\":\"p2657\",\"attributes\":{\"axis\":{\"id\":\"p2653\"},\"grid_line_color\":null}},{\"type\":\"object\",\"name\":\"Grid\",\"id\":\"p2662\",\"attributes\":{\"dimension\":1,\"axis\":{\"id\":\"p2658\"},\"grid_line_color\":null}}],\"min_border_top\":10,\"min_border_bottom\":10,\"min_border_left\":10,\"min_border_right\":10,\"output_backend\":\"webgl\"}},{\"type\":\"object\",\"name\":\"Spacer\",\"id\":\"p2682\",\"attributes\":{\"name\":\"HSpacer04781\",\"stylesheets\":[\"\\n:host(.pn-loading.pn-arc):before, .pn-loading.pn-arc:before {\\n  background-image: url(\\\"data:image/svg+xml;base64,PHN2ZyB4bWxucz0iaHR0cDovL3d3dy53My5vcmcvMjAwMC9zdmciIHN0eWxlPSJtYXJnaW46IGF1dG87IGJhY2tncm91bmQ6IG5vbmU7IGRpc3BsYXk6IGJsb2NrOyBzaGFwZS1yZW5kZXJpbmc6IGF1dG87IiB2aWV3Qm94PSIwIDAgMTAwIDEwMCIgcHJlc2VydmVBc3BlY3RSYXRpbz0ieE1pZFlNaWQiPiAgPGNpcmNsZSBjeD0iNTAiIGN5PSI1MCIgZmlsbD0ibm9uZSIgc3Ryb2tlPSIjYzNjM2MzIiBzdHJva2Utd2lkdGg9IjEwIiByPSIzNSIgc3Ryb2tlLWRhc2hhcnJheT0iMTY0LjkzMzYxNDMxMzQ2NDE1IDU2Ljk3Nzg3MTQzNzgyMTM4Ij4gICAgPGFuaW1hdGVUcmFuc2Zvcm0gYXR0cmlidXRlTmFtZT0idHJhbnNmb3JtIiB0eXBlPSJyb3RhdGUiIHJlcGVhdENvdW50PSJpbmRlZmluaXRlIiBkdXI9IjFzIiB2YWx1ZXM9IjAgNTAgNTA7MzYwIDUwIDUwIiBrZXlUaW1lcz0iMDsxIj48L2FuaW1hdGVUcmFuc2Zvcm0+ICA8L2NpcmNsZT48L3N2Zz4=\\\");\\n  background-size: auto calc(min(50%, 400px));\\n}\",{\"id\":\"p2632\"},{\"id\":\"p2630\"},{\"id\":\"p2631\"}],\"margin\":0,\"sizing_mode\":\"stretch_width\",\"align\":\"start\"}}]}}],\"defs\":[{\"type\":\"model\",\"name\":\"ReactiveHTML1\"},{\"type\":\"model\",\"name\":\"FlexBox1\",\"properties\":[{\"name\":\"align_content\",\"kind\":\"Any\",\"default\":\"flex-start\"},{\"name\":\"align_items\",\"kind\":\"Any\",\"default\":\"flex-start\"},{\"name\":\"flex_direction\",\"kind\":\"Any\",\"default\":\"row\"},{\"name\":\"flex_wrap\",\"kind\":\"Any\",\"default\":\"wrap\"},{\"name\":\"justify_content\",\"kind\":\"Any\",\"default\":\"flex-start\"}]},{\"type\":\"model\",\"name\":\"FloatPanel1\",\"properties\":[{\"name\":\"config\",\"kind\":\"Any\",\"default\":{\"type\":\"map\"}},{\"name\":\"contained\",\"kind\":\"Any\",\"default\":true},{\"name\":\"position\",\"kind\":\"Any\",\"default\":\"right-top\"},{\"name\":\"offsetx\",\"kind\":\"Any\",\"default\":null},{\"name\":\"offsety\",\"kind\":\"Any\",\"default\":null},{\"name\":\"theme\",\"kind\":\"Any\",\"default\":\"primary\"},{\"name\":\"status\",\"kind\":\"Any\",\"default\":\"normalized\"}]},{\"type\":\"model\",\"name\":\"GridStack1\",\"properties\":[{\"name\":\"mode\",\"kind\":\"Any\",\"default\":\"warn\"},{\"name\":\"ncols\",\"kind\":\"Any\",\"default\":null},{\"name\":\"nrows\",\"kind\":\"Any\",\"default\":null},{\"name\":\"allow_resize\",\"kind\":\"Any\",\"default\":true},{\"name\":\"allow_drag\",\"kind\":\"Any\",\"default\":true},{\"name\":\"state\",\"kind\":\"Any\",\"default\":[]}]},{\"type\":\"model\",\"name\":\"drag1\",\"properties\":[{\"name\":\"slider_width\",\"kind\":\"Any\",\"default\":5},{\"name\":\"slider_color\",\"kind\":\"Any\",\"default\":\"black\"},{\"name\":\"value\",\"kind\":\"Any\",\"default\":50}]},{\"type\":\"model\",\"name\":\"click1\",\"properties\":[{\"name\":\"terminal_output\",\"kind\":\"Any\",\"default\":\"\"},{\"name\":\"debug_name\",\"kind\":\"Any\",\"default\":\"\"},{\"name\":\"clears\",\"kind\":\"Any\",\"default\":0}]},{\"type\":\"model\",\"name\":\"FastWrapper1\",\"properties\":[{\"name\":\"object\",\"kind\":\"Any\",\"default\":null},{\"name\":\"style\",\"kind\":\"Any\",\"default\":null}]},{\"type\":\"model\",\"name\":\"NotificationAreaBase1\",\"properties\":[{\"name\":\"js_events\",\"kind\":\"Any\",\"default\":{\"type\":\"map\"}},{\"name\":\"position\",\"kind\":\"Any\",\"default\":\"bottom-right\"},{\"name\":\"_clear\",\"kind\":\"Any\",\"default\":0}]},{\"type\":\"model\",\"name\":\"NotificationArea1\",\"properties\":[{\"name\":\"js_events\",\"kind\":\"Any\",\"default\":{\"type\":\"map\"}},{\"name\":\"notifications\",\"kind\":\"Any\",\"default\":[]},{\"name\":\"position\",\"kind\":\"Any\",\"default\":\"bottom-right\"},{\"name\":\"_clear\",\"kind\":\"Any\",\"default\":0},{\"name\":\"types\",\"kind\":\"Any\",\"default\":[{\"type\":\"map\",\"entries\":[[\"type\",\"warning\"],[\"background\",\"#ffc107\"],[\"icon\",{\"type\":\"map\",\"entries\":[[\"className\",\"fas fa-exclamation-triangle\"],[\"tagName\",\"i\"],[\"color\",\"white\"]]}]]},{\"type\":\"map\",\"entries\":[[\"type\",\"info\"],[\"background\",\"#007bff\"],[\"icon\",{\"type\":\"map\",\"entries\":[[\"className\",\"fas fa-info-circle\"],[\"tagName\",\"i\"],[\"color\",\"white\"]]}]]}]}]},{\"type\":\"model\",\"name\":\"Notification\",\"properties\":[{\"name\":\"background\",\"kind\":\"Any\",\"default\":null},{\"name\":\"duration\",\"kind\":\"Any\",\"default\":3000},{\"name\":\"icon\",\"kind\":\"Any\",\"default\":null},{\"name\":\"message\",\"kind\":\"Any\",\"default\":\"\"},{\"name\":\"notification_type\",\"kind\":\"Any\",\"default\":null},{\"name\":\"_destroyed\",\"kind\":\"Any\",\"default\":false}]},{\"type\":\"model\",\"name\":\"TemplateActions1\",\"properties\":[{\"name\":\"open_modal\",\"kind\":\"Any\",\"default\":0},{\"name\":\"close_modal\",\"kind\":\"Any\",\"default\":0}]},{\"type\":\"model\",\"name\":\"BootstrapTemplateActions1\",\"properties\":[{\"name\":\"open_modal\",\"kind\":\"Any\",\"default\":0},{\"name\":\"close_modal\",\"kind\":\"Any\",\"default\":0}]},{\"type\":\"model\",\"name\":\"MaterialTemplateActions1\",\"properties\":[{\"name\":\"open_modal\",\"kind\":\"Any\",\"default\":0},{\"name\":\"close_modal\",\"kind\":\"Any\",\"default\":0}]}]}};\n",
       "  var render_items = [{\"docid\":\"323812af-eb40-4367-8da0-4e490d7eb3ea\",\"roots\":{\"p2629\":\"ad283dc2-7867-43ab-8420-c7f76168dba6\"},\"root_ids\":[\"p2629\"]}];\n",
       "  var docs = Object.values(docs_json)\n",
       "  if (!docs) {\n",
       "    return\n",
       "  }\n",
       "  const py_version = docs[0].version.replace('rc', '-rc.').replace('.dev', '-dev.')\n",
       "  const is_dev = py_version.indexOf(\"+\") !== -1 || py_version.indexOf(\"-\") !== -1\n",
       "  function embed_document(root) {\n",
       "    var Bokeh = get_bokeh(root)\n",
       "    Bokeh.embed.embed_items_notebook(docs_json, render_items);\n",
       "    for (const render_item of render_items) {\n",
       "      for (const root_id of render_item.root_ids) {\n",
       "\tconst id_el = document.getElementById(root_id)\n",
       "\tif (id_el.children.length && (id_el.children[0].className === 'bk-root')) {\n",
       "\t  const root_el = id_el.children[0]\n",
       "\t  root_el.id = root_el.id + '-rendered'\n",
       "\t}\n",
       "      }\n",
       "    }\n",
       "  }\n",
       "  function get_bokeh(root) {\n",
       "    if (root.Bokeh === undefined) {\n",
       "      return null\n",
       "    } else if (root.Bokeh.version !== py_version && !is_dev) {\n",
       "      if (root.Bokeh.versions === undefined || !root.Bokeh.versions.has(py_version)) {\n",
       "\treturn null\n",
       "      }\n",
       "      return root.Bokeh.versions.get(py_version);\n",
       "    } else if (root.Bokeh.version === py_version) {\n",
       "      return root.Bokeh\n",
       "    }\n",
       "    return null\n",
       "  }\n",
       "  function is_loaded(root) {\n",
       "    var Bokeh = get_bokeh(root)\n",
       "    return (Bokeh != null && Bokeh.Panel !== undefined)\n",
       "  }\n",
       "  if (is_loaded(root)) {\n",
       "    embed_document(root);\n",
       "  } else {\n",
       "    var attempts = 0;\n",
       "    var timer = setInterval(function(root) {\n",
       "      if (is_loaded(root)) {\n",
       "        clearInterval(timer);\n",
       "        embed_document(root);\n",
       "      } else if (document.readyState == \"complete\") {\n",
       "        attempts++;\n",
       "        if (attempts > 200) {\n",
       "          clearInterval(timer);\n",
       "\t  var Bokeh = get_bokeh(root)\n",
       "\t  if (Bokeh == null || Bokeh.Panel == null) {\n",
       "            console.warn(\"Panel: ERROR: Unable to run Panel code because Bokeh or Panel library is missing\");\n",
       "\t  } else {\n",
       "\t    console.warn(\"Panel: WARNING: Attempting to render but not all required libraries could be resolved.\")\n",
       "\t    embed_document(root)\n",
       "\t  }\n",
       "        }\n",
       "      }\n",
       "    }, 25, root)\n",
       "  }\n",
       "})(window);</script>"
      ],
      "text/plain": [
       ":Curve   [dayspost121823]   (close_predicted)"
      ]
     },
     "execution_count": 195,
     "metadata": {
      "application/vnd.holoviews_exec.v0+json": {
       "id": "p2629"
      }
     },
     "output_type": "execute_result"
    }
   ],
   "source": [
    "# Create a line plot of the predicted closing prices\n",
    "import numpy as np\n",
    "import hvplot.pandas\n",
    "best_fit_line = df_close_predicted.hvplot.line(\n",
    "    x = \"dayspost121823\",\n",
    "    y = \"close_predicted\",\n",
    "    color = \"red\"\n",
    ")\n",
    "best_fit_line"
   ]
  },
  {
   "cell_type": "code",
   "execution_count": 196,
   "id": "89ffbea2",
   "metadata": {},
   "outputs": [
    {
     "data": {},
     "metadata": {},
     "output_type": "display_data"
    },
    {
     "data": {
      "application/vnd.holoviews_exec.v0+json": "",
      "text/html": [
       "<div id='p2688'>\n",
       "  <div id=\"b82f906b-6c6f-4684-87d3-c1bbc5dcb8dc\" data-root-id=\"p2688\" style=\"display: contents;\"></div>\n",
       "</div>\n",
       "<script type=\"application/javascript\">(function(root) {\n",
       "  var docs_json = {\"108b3b5d-5c92-4295-a032-582e786e54a7\":{\"version\":\"3.2.1\",\"title\":\"Bokeh Application\",\"roots\":[{\"type\":\"object\",\"name\":\"Row\",\"id\":\"p2688\",\"attributes\":{\"name\":\"Row04892\",\"tags\":[\"embedded\"],\"stylesheets\":[\"\\n:host(.pn-loading.pn-arc):before, .pn-loading.pn-arc:before {\\n  background-image: url(\\\"data:image/svg+xml;base64,PHN2ZyB4bWxucz0iaHR0cDovL3d3dy53My5vcmcvMjAwMC9zdmciIHN0eWxlPSJtYXJnaW46IGF1dG87IGJhY2tncm91bmQ6IG5vbmU7IGRpc3BsYXk6IGJsb2NrOyBzaGFwZS1yZW5kZXJpbmc6IGF1dG87IiB2aWV3Qm94PSIwIDAgMTAwIDEwMCIgcHJlc2VydmVBc3BlY3RSYXRpbz0ieE1pZFlNaWQiPiAgPGNpcmNsZSBjeD0iNTAiIGN5PSI1MCIgZmlsbD0ibm9uZSIgc3Ryb2tlPSIjYzNjM2MzIiBzdHJva2Utd2lkdGg9IjEwIiByPSIzNSIgc3Ryb2tlLWRhc2hhcnJheT0iMTY0LjkzMzYxNDMxMzQ2NDE1IDU2Ljk3Nzg3MTQzNzgyMTM4Ij4gICAgPGFuaW1hdGVUcmFuc2Zvcm0gYXR0cmlidXRlTmFtZT0idHJhbnNmb3JtIiB0eXBlPSJyb3RhdGUiIHJlcGVhdENvdW50PSJpbmRlZmluaXRlIiBkdXI9IjFzIiB2YWx1ZXM9IjAgNTAgNTA7MzYwIDUwIDUwIiBrZXlUaW1lcz0iMDsxIj48L2FuaW1hdGVUcmFuc2Zvcm0+ICA8L2NpcmNsZT48L3N2Zz4=\\\");\\n  background-size: auto calc(min(50%, 400px));\\n}\",{\"type\":\"object\",\"name\":\"ImportedStyleSheet\",\"id\":\"p2691\",\"attributes\":{\"url\":\"https://cdn.holoviz.org/panel/1.2.1/dist/css/loading.css\"}},{\"type\":\"object\",\"name\":\"ImportedStyleSheet\",\"id\":\"p2743\",\"attributes\":{\"url\":\"https://cdn.holoviz.org/panel/1.2.1/dist/css/listpanel.css\"}},{\"type\":\"object\",\"name\":\"ImportedStyleSheet\",\"id\":\"p2689\",\"attributes\":{\"url\":\"https://cdn.holoviz.org/panel/1.2.1/dist/bundled/theme/default.css\"}},{\"type\":\"object\",\"name\":\"ImportedStyleSheet\",\"id\":\"p2690\",\"attributes\":{\"url\":\"https://cdn.holoviz.org/panel/1.2.1/dist/bundled/theme/native.css\"}}],\"min_width\":700,\"margin\":0,\"sizing_mode\":\"stretch_width\",\"align\":\"start\",\"children\":[{\"type\":\"object\",\"name\":\"Spacer\",\"id\":\"p2692\",\"attributes\":{\"name\":\"HSpacer04903\",\"stylesheets\":[\"\\n:host(.pn-loading.pn-arc):before, .pn-loading.pn-arc:before {\\n  background-image: url(\\\"data:image/svg+xml;base64,PHN2ZyB4bWxucz0iaHR0cDovL3d3dy53My5vcmcvMjAwMC9zdmciIHN0eWxlPSJtYXJnaW46IGF1dG87IGJhY2tncm91bmQ6IG5vbmU7IGRpc3BsYXk6IGJsb2NrOyBzaGFwZS1yZW5kZXJpbmc6IGF1dG87IiB2aWV3Qm94PSIwIDAgMTAwIDEwMCIgcHJlc2VydmVBc3BlY3RSYXRpbz0ieE1pZFlNaWQiPiAgPGNpcmNsZSBjeD0iNTAiIGN5PSI1MCIgZmlsbD0ibm9uZSIgc3Ryb2tlPSIjYzNjM2MzIiBzdHJva2Utd2lkdGg9IjEwIiByPSIzNSIgc3Ryb2tlLWRhc2hhcnJheT0iMTY0LjkzMzYxNDMxMzQ2NDE1IDU2Ljk3Nzg3MTQzNzgyMTM4Ij4gICAgPGFuaW1hdGVUcmFuc2Zvcm0gYXR0cmlidXRlTmFtZT0idHJhbnNmb3JtIiB0eXBlPSJyb3RhdGUiIHJlcGVhdENvdW50PSJpbmRlZmluaXRlIiBkdXI9IjFzIiB2YWx1ZXM9IjAgNTAgNTA7MzYwIDUwIDUwIiBrZXlUaW1lcz0iMDsxIj48L2FuaW1hdGVUcmFuc2Zvcm0+ICA8L2NpcmNsZT48L3N2Zz4=\\\");\\n  background-size: auto calc(min(50%, 400px));\\n}\",{\"id\":\"p2691\"},{\"id\":\"p2689\"},{\"id\":\"p2690\"}],\"margin\":0,\"sizing_mode\":\"stretch_width\",\"align\":\"start\"}},{\"type\":\"object\",\"name\":\"Figure\",\"id\":\"p2700\",\"attributes\":{\"width\":700,\"height\":300,\"margin\":[5,10],\"sizing_mode\":\"fixed\",\"align\":\"start\",\"x_range\":{\"type\":\"object\",\"name\":\"Range1d\",\"id\":\"p2693\",\"attributes\":{\"tags\":[[[\"dayspost121823\",\"dayspost121823\",null]],[]],\"start\":-1.2857142857142858,\"end\":31.285714285714285,\"reset_start\":-1.2857142857142858,\"reset_end\":31.285714285714285}},\"y_range\":{\"type\":\"object\",\"name\":\"Range1d\",\"id\":\"p2694\",\"attributes\":{\"tags\":[[[\"Close\",\"Close\",null]],{\"type\":\"map\",\"entries\":[[\"invert_yaxis\",false],[\"autorange\",false]]}],\"start\":466.33899841308596,\"end\":477.63100280761716,\"reset_start\":466.33899841308596,\"reset_end\":477.63100280761716}},\"x_scale\":{\"type\":\"object\",\"name\":\"LinearScale\",\"id\":\"p2710\"},\"y_scale\":{\"type\":\"object\",\"name\":\"LinearScale\",\"id\":\"p2711\"},\"title\":{\"type\":\"object\",\"name\":\"Title\",\"id\":\"p2703\",\"attributes\":{\"text\":\"SPY Daily Closing Price\",\"text_color\":\"black\",\"text_font_size\":\"12pt\"}},\"renderers\":[{\"type\":\"object\",\"name\":\"GlyphRenderer\",\"id\":\"p2736\",\"attributes\":{\"data_source\":{\"type\":\"object\",\"name\":\"ColumnDataSource\",\"id\":\"p2727\",\"attributes\":{\"selected\":{\"type\":\"object\",\"name\":\"Selection\",\"id\":\"p2728\",\"attributes\":{\"indices\":[],\"line_indices\":[]}},\"selection_policy\":{\"type\":\"object\",\"name\":\"UnionRenderers\",\"id\":\"p2729\"},\"data\":{\"type\":\"map\",\"entries\":[[\"dayspost121823\",{\"type\":\"ndarray\",\"array\":{\"type\":\"bytes\",\"data\":\"AAAAAAEAAAACAAAAAwAAAAQAAAAIAAAACQAAAAoAAAALAAAADwAAABAAAAARAAAAEgAAABUAAAAWAAAAFwAAABgAAAAZAAAAHQAAAB4AAAA=\"},\"shape\":[20],\"dtype\":\"int32\",\"order\":\"little\"}],[\"Close\",{\"type\":\"ndarray\",\"array\":{\"type\":\"bytes\",\"data\":\"AAAAIIV/fUAAAACgcK19QAAAAAApRH1AAAAAQDOLfUAAAABgZpp9QAAAAGBmun1AAAAAACnIfUAAAABACst9QAAAAMD1tH1AAAAAYGaKfUAAAADgo0x9QAAAAOB6NH1AAAAAYLg+fUAAAACgmal9QAAAAIAUnn1AAAAAwPXIfUAAAACgmcV9QAAAAEDhyn1AAAAAQOGufUAAAADgo4R9QA==\"},\"shape\":[20],\"dtype\":\"float64\",\"order\":\"little\"}]]}}},\"view\":{\"type\":\"object\",\"name\":\"CDSView\",\"id\":\"p2737\",\"attributes\":{\"filter\":{\"type\":\"object\",\"name\":\"AllIndices\",\"id\":\"p2738\"}}},\"glyph\":{\"type\":\"object\",\"name\":\"Scatter\",\"id\":\"p2733\",\"attributes\":{\"tags\":[\"apply_ranges\"],\"x\":{\"type\":\"field\",\"field\":\"dayspost121823\"},\"y\":{\"type\":\"field\",\"field\":\"Close\"},\"size\":{\"type\":\"value\",\"value\":5.477225575051661},\"line_color\":{\"type\":\"value\",\"value\":\"#30a2da\"},\"fill_color\":{\"type\":\"value\",\"value\":\"#30a2da\"},\"hatch_color\":{\"type\":\"value\",\"value\":\"#30a2da\"}}},\"selection_glyph\":{\"type\":\"object\",\"name\":\"Scatter\",\"id\":\"p2739\",\"attributes\":{\"tags\":[\"apply_ranges\"],\"x\":{\"type\":\"field\",\"field\":\"dayspost121823\"},\"y\":{\"type\":\"field\",\"field\":\"Close\"},\"size\":{\"type\":\"value\",\"value\":5.477225575051661},\"angle\":{\"type\":\"value\",\"value\":0.0},\"line_color\":{\"type\":\"value\",\"value\":\"#30a2da\"},\"line_alpha\":{\"type\":\"value\",\"value\":1.0},\"line_width\":{\"type\":\"value\",\"value\":1},\"line_join\":{\"type\":\"value\",\"value\":\"bevel\"},\"line_cap\":{\"type\":\"value\",\"value\":\"butt\"},\"line_dash\":{\"type\":\"value\",\"value\":[]},\"line_dash_offset\":{\"type\":\"value\",\"value\":0},\"fill_color\":{\"type\":\"value\",\"value\":\"#30a2da\"},\"fill_alpha\":{\"type\":\"value\",\"value\":1.0},\"hatch_color\":{\"type\":\"value\",\"value\":\"#30a2da\"},\"hatch_alpha\":{\"type\":\"value\",\"value\":1.0},\"hatch_scale\":{\"type\":\"value\",\"value\":12.0},\"hatch_pattern\":{\"type\":\"value\",\"value\":null},\"hatch_weight\":{\"type\":\"value\",\"value\":1.0},\"marker\":{\"type\":\"value\",\"value\":\"circle\"}}},\"nonselection_glyph\":{\"type\":\"object\",\"name\":\"Scatter\",\"id\":\"p2734\",\"attributes\":{\"tags\":[\"apply_ranges\"],\"x\":{\"type\":\"field\",\"field\":\"dayspost121823\"},\"y\":{\"type\":\"field\",\"field\":\"Close\"},\"size\":{\"type\":\"value\",\"value\":5.477225575051661},\"line_color\":{\"type\":\"value\",\"value\":\"#30a2da\"},\"line_alpha\":{\"type\":\"value\",\"value\":0.1},\"fill_color\":{\"type\":\"value\",\"value\":\"#30a2da\"},\"fill_alpha\":{\"type\":\"value\",\"value\":0.1},\"hatch_color\":{\"type\":\"value\",\"value\":\"#30a2da\"},\"hatch_alpha\":{\"type\":\"value\",\"value\":0.1}}},\"muted_glyph\":{\"type\":\"object\",\"name\":\"Scatter\",\"id\":\"p2735\",\"attributes\":{\"tags\":[\"apply_ranges\"],\"x\":{\"type\":\"field\",\"field\":\"dayspost121823\"},\"y\":{\"type\":\"field\",\"field\":\"Close\"},\"size\":{\"type\":\"value\",\"value\":5.477225575051661},\"line_color\":{\"type\":\"value\",\"value\":\"#30a2da\"},\"line_alpha\":{\"type\":\"value\",\"value\":0.2},\"fill_color\":{\"type\":\"value\",\"value\":\"#30a2da\"},\"fill_alpha\":{\"type\":\"value\",\"value\":0.2},\"hatch_color\":{\"type\":\"value\",\"value\":\"#30a2da\"},\"hatch_alpha\":{\"type\":\"value\",\"value\":0.2}}}}}],\"toolbar\":{\"type\":\"object\",\"name\":\"Toolbar\",\"id\":\"p2709\",\"attributes\":{\"tools\":[{\"type\":\"object\",\"name\":\"WheelZoomTool\",\"id\":\"p2698\",\"attributes\":{\"tags\":[\"hv_created\"],\"zoom_together\":\"none\"}},{\"type\":\"object\",\"name\":\"HoverTool\",\"id\":\"p2699\",\"attributes\":{\"tags\":[\"hv_created\"],\"renderers\":[{\"id\":\"p2736\"}],\"tooltips\":[[\"dayspost121823\",\"@{dayspost121823}\"],[\"Close\",\"@{Close}\"]]}},{\"type\":\"object\",\"name\":\"SaveTool\",\"id\":\"p2722\"},{\"type\":\"object\",\"name\":\"PanTool\",\"id\":\"p2723\"},{\"type\":\"object\",\"name\":\"BoxZoomTool\",\"id\":\"p2724\",\"attributes\":{\"overlay\":{\"type\":\"object\",\"name\":\"BoxAnnotation\",\"id\":\"p2725\",\"attributes\":{\"syncable\":false,\"level\":\"overlay\",\"visible\":false,\"left_units\":\"canvas\",\"right_units\":\"canvas\",\"bottom_units\":\"canvas\",\"top_units\":\"canvas\",\"line_color\":\"black\",\"line_alpha\":1.0,\"line_width\":2,\"line_dash\":[4,4],\"fill_color\":\"lightgrey\",\"fill_alpha\":0.5}}}},{\"type\":\"object\",\"name\":\"ResetTool\",\"id\":\"p2726\"}],\"active_drag\":{\"id\":\"p2723\"},\"active_scroll\":{\"id\":\"p2698\"}}},\"left\":[{\"type\":\"object\",\"name\":\"LinearAxis\",\"id\":\"p2717\",\"attributes\":{\"ticker\":{\"type\":\"object\",\"name\":\"BasicTicker\",\"id\":\"p2718\",\"attributes\":{\"mantissas\":[1,2,5]}},\"formatter\":{\"type\":\"object\",\"name\":\"BasicTickFormatter\",\"id\":\"p2719\"},\"axis_label\":\"Close\",\"major_label_policy\":{\"type\":\"object\",\"name\":\"AllLabels\",\"id\":\"p2720\"}}}],\"below\":[{\"type\":\"object\",\"name\":\"LinearAxis\",\"id\":\"p2712\",\"attributes\":{\"ticker\":{\"type\":\"object\",\"name\":\"BasicTicker\",\"id\":\"p2713\",\"attributes\":{\"mantissas\":[1,2,5]}},\"formatter\":{\"type\":\"object\",\"name\":\"BasicTickFormatter\",\"id\":\"p2714\"},\"axis_label\":\"dayspost121823\",\"major_label_policy\":{\"type\":\"object\",\"name\":\"AllLabels\",\"id\":\"p2715\"}}}],\"center\":[{\"type\":\"object\",\"name\":\"Grid\",\"id\":\"p2716\",\"attributes\":{\"axis\":{\"id\":\"p2712\"},\"grid_line_color\":null}},{\"type\":\"object\",\"name\":\"Grid\",\"id\":\"p2721\",\"attributes\":{\"dimension\":1,\"axis\":{\"id\":\"p2717\"},\"grid_line_color\":null}}],\"min_border_top\":10,\"min_border_bottom\":10,\"min_border_left\":10,\"min_border_right\":10,\"output_backend\":\"webgl\"}},{\"type\":\"object\",\"name\":\"Spacer\",\"id\":\"p2741\",\"attributes\":{\"name\":\"HSpacer04906\",\"stylesheets\":[\"\\n:host(.pn-loading.pn-arc):before, .pn-loading.pn-arc:before {\\n  background-image: url(\\\"data:image/svg+xml;base64,PHN2ZyB4bWxucz0iaHR0cDovL3d3dy53My5vcmcvMjAwMC9zdmciIHN0eWxlPSJtYXJnaW46IGF1dG87IGJhY2tncm91bmQ6IG5vbmU7IGRpc3BsYXk6IGJsb2NrOyBzaGFwZS1yZW5kZXJpbmc6IGF1dG87IiB2aWV3Qm94PSIwIDAgMTAwIDEwMCIgcHJlc2VydmVBc3BlY3RSYXRpbz0ieE1pZFlNaWQiPiAgPGNpcmNsZSBjeD0iNTAiIGN5PSI1MCIgZmlsbD0ibm9uZSIgc3Ryb2tlPSIjYzNjM2MzIiBzdHJva2Utd2lkdGg9IjEwIiByPSIzNSIgc3Ryb2tlLWRhc2hhcnJheT0iMTY0LjkzMzYxNDMxMzQ2NDE1IDU2Ljk3Nzg3MTQzNzgyMTM4Ij4gICAgPGFuaW1hdGVUcmFuc2Zvcm0gYXR0cmlidXRlTmFtZT0idHJhbnNmb3JtIiB0eXBlPSJyb3RhdGUiIHJlcGVhdENvdW50PSJpbmRlZmluaXRlIiBkdXI9IjFzIiB2YWx1ZXM9IjAgNTAgNTA7MzYwIDUwIDUwIiBrZXlUaW1lcz0iMDsxIj48L2FuaW1hdGVUcmFuc2Zvcm0+ICA8L2NpcmNsZT48L3N2Zz4=\\\");\\n  background-size: auto calc(min(50%, 400px));\\n}\",{\"id\":\"p2691\"},{\"id\":\"p2689\"},{\"id\":\"p2690\"}],\"margin\":0,\"sizing_mode\":\"stretch_width\",\"align\":\"start\"}}]}}],\"defs\":[{\"type\":\"model\",\"name\":\"ReactiveHTML1\"},{\"type\":\"model\",\"name\":\"FlexBox1\",\"properties\":[{\"name\":\"align_content\",\"kind\":\"Any\",\"default\":\"flex-start\"},{\"name\":\"align_items\",\"kind\":\"Any\",\"default\":\"flex-start\"},{\"name\":\"flex_direction\",\"kind\":\"Any\",\"default\":\"row\"},{\"name\":\"flex_wrap\",\"kind\":\"Any\",\"default\":\"wrap\"},{\"name\":\"justify_content\",\"kind\":\"Any\",\"default\":\"flex-start\"}]},{\"type\":\"model\",\"name\":\"FloatPanel1\",\"properties\":[{\"name\":\"config\",\"kind\":\"Any\",\"default\":{\"type\":\"map\"}},{\"name\":\"contained\",\"kind\":\"Any\",\"default\":true},{\"name\":\"position\",\"kind\":\"Any\",\"default\":\"right-top\"},{\"name\":\"offsetx\",\"kind\":\"Any\",\"default\":null},{\"name\":\"offsety\",\"kind\":\"Any\",\"default\":null},{\"name\":\"theme\",\"kind\":\"Any\",\"default\":\"primary\"},{\"name\":\"status\",\"kind\":\"Any\",\"default\":\"normalized\"}]},{\"type\":\"model\",\"name\":\"GridStack1\",\"properties\":[{\"name\":\"mode\",\"kind\":\"Any\",\"default\":\"warn\"},{\"name\":\"ncols\",\"kind\":\"Any\",\"default\":null},{\"name\":\"nrows\",\"kind\":\"Any\",\"default\":null},{\"name\":\"allow_resize\",\"kind\":\"Any\",\"default\":true},{\"name\":\"allow_drag\",\"kind\":\"Any\",\"default\":true},{\"name\":\"state\",\"kind\":\"Any\",\"default\":[]}]},{\"type\":\"model\",\"name\":\"drag1\",\"properties\":[{\"name\":\"slider_width\",\"kind\":\"Any\",\"default\":5},{\"name\":\"slider_color\",\"kind\":\"Any\",\"default\":\"black\"},{\"name\":\"value\",\"kind\":\"Any\",\"default\":50}]},{\"type\":\"model\",\"name\":\"click1\",\"properties\":[{\"name\":\"terminal_output\",\"kind\":\"Any\",\"default\":\"\"},{\"name\":\"debug_name\",\"kind\":\"Any\",\"default\":\"\"},{\"name\":\"clears\",\"kind\":\"Any\",\"default\":0}]},{\"type\":\"model\",\"name\":\"FastWrapper1\",\"properties\":[{\"name\":\"object\",\"kind\":\"Any\",\"default\":null},{\"name\":\"style\",\"kind\":\"Any\",\"default\":null}]},{\"type\":\"model\",\"name\":\"NotificationAreaBase1\",\"properties\":[{\"name\":\"js_events\",\"kind\":\"Any\",\"default\":{\"type\":\"map\"}},{\"name\":\"position\",\"kind\":\"Any\",\"default\":\"bottom-right\"},{\"name\":\"_clear\",\"kind\":\"Any\",\"default\":0}]},{\"type\":\"model\",\"name\":\"NotificationArea1\",\"properties\":[{\"name\":\"js_events\",\"kind\":\"Any\",\"default\":{\"type\":\"map\"}},{\"name\":\"notifications\",\"kind\":\"Any\",\"default\":[]},{\"name\":\"position\",\"kind\":\"Any\",\"default\":\"bottom-right\"},{\"name\":\"_clear\",\"kind\":\"Any\",\"default\":0},{\"name\":\"types\",\"kind\":\"Any\",\"default\":[{\"type\":\"map\",\"entries\":[[\"type\",\"warning\"],[\"background\",\"#ffc107\"],[\"icon\",{\"type\":\"map\",\"entries\":[[\"className\",\"fas fa-exclamation-triangle\"],[\"tagName\",\"i\"],[\"color\",\"white\"]]}]]},{\"type\":\"map\",\"entries\":[[\"type\",\"info\"],[\"background\",\"#007bff\"],[\"icon\",{\"type\":\"map\",\"entries\":[[\"className\",\"fas fa-info-circle\"],[\"tagName\",\"i\"],[\"color\",\"white\"]]}]]}]}]},{\"type\":\"model\",\"name\":\"Notification\",\"properties\":[{\"name\":\"background\",\"kind\":\"Any\",\"default\":null},{\"name\":\"duration\",\"kind\":\"Any\",\"default\":3000},{\"name\":\"icon\",\"kind\":\"Any\",\"default\":null},{\"name\":\"message\",\"kind\":\"Any\",\"default\":\"\"},{\"name\":\"notification_type\",\"kind\":\"Any\",\"default\":null},{\"name\":\"_destroyed\",\"kind\":\"Any\",\"default\":false}]},{\"type\":\"model\",\"name\":\"TemplateActions1\",\"properties\":[{\"name\":\"open_modal\",\"kind\":\"Any\",\"default\":0},{\"name\":\"close_modal\",\"kind\":\"Any\",\"default\":0}]},{\"type\":\"model\",\"name\":\"BootstrapTemplateActions1\",\"properties\":[{\"name\":\"open_modal\",\"kind\":\"Any\",\"default\":0},{\"name\":\"close_modal\",\"kind\":\"Any\",\"default\":0}]},{\"type\":\"model\",\"name\":\"MaterialTemplateActions1\",\"properties\":[{\"name\":\"open_modal\",\"kind\":\"Any\",\"default\":0},{\"name\":\"close_modal\",\"kind\":\"Any\",\"default\":0}]}]}};\n",
       "  var render_items = [{\"docid\":\"108b3b5d-5c92-4295-a032-582e786e54a7\",\"roots\":{\"p2688\":\"b82f906b-6c6f-4684-87d3-c1bbc5dcb8dc\"},\"root_ids\":[\"p2688\"]}];\n",
       "  var docs = Object.values(docs_json)\n",
       "  if (!docs) {\n",
       "    return\n",
       "  }\n",
       "  const py_version = docs[0].version.replace('rc', '-rc.').replace('.dev', '-dev.')\n",
       "  const is_dev = py_version.indexOf(\"+\") !== -1 || py_version.indexOf(\"-\") !== -1\n",
       "  function embed_document(root) {\n",
       "    var Bokeh = get_bokeh(root)\n",
       "    Bokeh.embed.embed_items_notebook(docs_json, render_items);\n",
       "    for (const render_item of render_items) {\n",
       "      for (const root_id of render_item.root_ids) {\n",
       "\tconst id_el = document.getElementById(root_id)\n",
       "\tif (id_el.children.length && (id_el.children[0].className === 'bk-root')) {\n",
       "\t  const root_el = id_el.children[0]\n",
       "\t  root_el.id = root_el.id + '-rendered'\n",
       "\t}\n",
       "      }\n",
       "    }\n",
       "  }\n",
       "  function get_bokeh(root) {\n",
       "    if (root.Bokeh === undefined) {\n",
       "      return null\n",
       "    } else if (root.Bokeh.version !== py_version && !is_dev) {\n",
       "      if (root.Bokeh.versions === undefined || !root.Bokeh.versions.has(py_version)) {\n",
       "\treturn null\n",
       "      }\n",
       "      return root.Bokeh.versions.get(py_version);\n",
       "    } else if (root.Bokeh.version === py_version) {\n",
       "      return root.Bokeh\n",
       "    }\n",
       "    return null\n",
       "  }\n",
       "  function is_loaded(root) {\n",
       "    var Bokeh = get_bokeh(root)\n",
       "    return (Bokeh != null && Bokeh.Panel !== undefined)\n",
       "  }\n",
       "  if (is_loaded(root)) {\n",
       "    embed_document(root);\n",
       "  } else {\n",
       "    var attempts = 0;\n",
       "    var timer = setInterval(function(root) {\n",
       "      if (is_loaded(root)) {\n",
       "        clearInterval(timer);\n",
       "        embed_document(root);\n",
       "      } else if (document.readyState == \"complete\") {\n",
       "        attempts++;\n",
       "        if (attempts > 200) {\n",
       "          clearInterval(timer);\n",
       "\t  var Bokeh = get_bokeh(root)\n",
       "\t  if (Bokeh == null || Bokeh.Panel == null) {\n",
       "            console.warn(\"Panel: ERROR: Unable to run Panel code because Bokeh or Panel library is missing\");\n",
       "\t  } else {\n",
       "\t    console.warn(\"Panel: WARNING: Attempting to render but not all required libraries could be resolved.\")\n",
       "\t    embed_document(root)\n",
       "\t  }\n",
       "        }\n",
       "      }\n",
       "    }, 25, root)\n",
       "  }\n",
       "})(window);</script>"
      ],
      "text/plain": [
       ":Scatter   [dayspost121823]   (Close)"
      ]
     },
     "execution_count": 196,
     "metadata": {
      "application/vnd.holoviews_exec.v0+json": {
       "id": "p2688"
      }
     },
     "output_type": "execute_result"
    }
   ],
   "source": [
    "# Create a scatter plot with the closing price information\n",
    "salary_plot = df_close_predicted.hvplot.scatter(\n",
    "    x=\"dayspost121823\",\n",
    "    y=\"Close\",\n",
    "    title=\"SPY Daily Closing Price\"\n",
    ")\n",
    "salary_plot"
   ]
  },
  {
   "cell_type": "code",
   "execution_count": 197,
   "id": "1f43a71d",
   "metadata": {},
   "outputs": [
    {
     "data": {},
     "metadata": {},
     "output_type": "display_data"
    },
    {
     "data": {
      "application/vnd.holoviews_exec.v0+json": "",
      "text/html": [
       "<div id='p2747'>\n",
       "  <div id=\"a47776ad-9a0c-4844-a5f5-ea1f766ff688\" data-root-id=\"p2747\" style=\"display: contents;\"></div>\n",
       "</div>\n",
       "<script type=\"application/javascript\">(function(root) {\n",
       "  var docs_json = {\"0bcd68b0-a78b-4fa1-9ad2-4ca5bb01a1bf\":{\"version\":\"3.2.1\",\"title\":\"Bokeh Application\",\"roots\":[{\"type\":\"object\",\"name\":\"Row\",\"id\":\"p2747\",\"attributes\":{\"name\":\"Row04938\",\"tags\":[\"embedded\"],\"stylesheets\":[\"\\n:host(.pn-loading.pn-arc):before, .pn-loading.pn-arc:before {\\n  background-image: url(\\\"data:image/svg+xml;base64,PHN2ZyB4bWxucz0iaHR0cDovL3d3dy53My5vcmcvMjAwMC9zdmciIHN0eWxlPSJtYXJnaW46IGF1dG87IGJhY2tncm91bmQ6IG5vbmU7IGRpc3BsYXk6IGJsb2NrOyBzaGFwZS1yZW5kZXJpbmc6IGF1dG87IiB2aWV3Qm94PSIwIDAgMTAwIDEwMCIgcHJlc2VydmVBc3BlY3RSYXRpbz0ieE1pZFlNaWQiPiAgPGNpcmNsZSBjeD0iNTAiIGN5PSI1MCIgZmlsbD0ibm9uZSIgc3Ryb2tlPSIjYzNjM2MzIiBzdHJva2Utd2lkdGg9IjEwIiByPSIzNSIgc3Ryb2tlLWRhc2hhcnJheT0iMTY0LjkzMzYxNDMxMzQ2NDE1IDU2Ljk3Nzg3MTQzNzgyMTM4Ij4gICAgPGFuaW1hdGVUcmFuc2Zvcm0gYXR0cmlidXRlTmFtZT0idHJhbnNmb3JtIiB0eXBlPSJyb3RhdGUiIHJlcGVhdENvdW50PSJpbmRlZmluaXRlIiBkdXI9IjFzIiB2YWx1ZXM9IjAgNTAgNTA7MzYwIDUwIDUwIiBrZXlUaW1lcz0iMDsxIj48L2FuaW1hdGVUcmFuc2Zvcm0+ICA8L2NpcmNsZT48L3N2Zz4=\\\");\\n  background-size: auto calc(min(50%, 400px));\\n}\",{\"type\":\"object\",\"name\":\"ImportedStyleSheet\",\"id\":\"p2750\",\"attributes\":{\"url\":\"https://cdn.holoviz.org/panel/1.2.1/dist/css/loading.css\"}},{\"type\":\"object\",\"name\":\"ImportedStyleSheet\",\"id\":\"p2818\",\"attributes\":{\"url\":\"https://cdn.holoviz.org/panel/1.2.1/dist/css/listpanel.css\"}},{\"type\":\"object\",\"name\":\"ImportedStyleSheet\",\"id\":\"p2748\",\"attributes\":{\"url\":\"https://cdn.holoviz.org/panel/1.2.1/dist/bundled/theme/default.css\"}},{\"type\":\"object\",\"name\":\"ImportedStyleSheet\",\"id\":\"p2749\",\"attributes\":{\"url\":\"https://cdn.holoviz.org/panel/1.2.1/dist/bundled/theme/native.css\"}}],\"min_width\":700,\"margin\":0,\"sizing_mode\":\"stretch_width\",\"align\":\"start\",\"children\":[{\"type\":\"object\",\"name\":\"Spacer\",\"id\":\"p2751\",\"attributes\":{\"name\":\"HSpacer04948\",\"stylesheets\":[\"\\n:host(.pn-loading.pn-arc):before, .pn-loading.pn-arc:before {\\n  background-image: url(\\\"data:image/svg+xml;base64,PHN2ZyB4bWxucz0iaHR0cDovL3d3dy53My5vcmcvMjAwMC9zdmciIHN0eWxlPSJtYXJnaW46IGF1dG87IGJhY2tncm91bmQ6IG5vbmU7IGRpc3BsYXk6IGJsb2NrOyBzaGFwZS1yZW5kZXJpbmc6IGF1dG87IiB2aWV3Qm94PSIwIDAgMTAwIDEwMCIgcHJlc2VydmVBc3BlY3RSYXRpbz0ieE1pZFlNaWQiPiAgPGNpcmNsZSBjeD0iNTAiIGN5PSI1MCIgZmlsbD0ibm9uZSIgc3Ryb2tlPSIjYzNjM2MzIiBzdHJva2Utd2lkdGg9IjEwIiByPSIzNSIgc3Ryb2tlLWRhc2hhcnJheT0iMTY0LjkzMzYxNDMxMzQ2NDE1IDU2Ljk3Nzg3MTQzNzgyMTM4Ij4gICAgPGFuaW1hdGVUcmFuc2Zvcm0gYXR0cmlidXRlTmFtZT0idHJhbnNmb3JtIiB0eXBlPSJyb3RhdGUiIHJlcGVhdENvdW50PSJpbmRlZmluaXRlIiBkdXI9IjFzIiB2YWx1ZXM9IjAgNTAgNTA7MzYwIDUwIDUwIiBrZXlUaW1lcz0iMDsxIj48L2FuaW1hdGVUcmFuc2Zvcm0+ICA8L2NpcmNsZT48L3N2Zz4=\\\");\\n  background-size: auto calc(min(50%, 400px));\\n}\",{\"id\":\"p2750\"},{\"id\":\"p2748\"},{\"id\":\"p2749\"}],\"margin\":0,\"sizing_mode\":\"stretch_width\",\"align\":\"start\"}},{\"type\":\"object\",\"name\":\"Figure\",\"id\":\"p2762\",\"attributes\":{\"width\":700,\"height\":300,\"margin\":[5,10],\"sizing_mode\":\"fixed\",\"align\":\"start\",\"x_range\":{\"type\":\"object\",\"name\":\"Range1d\",\"id\":\"p2752\",\"attributes\":{\"tags\":[[[\"dayspost121823\",\"dayspost121823\",null]],[]],\"start\":-1.2857142857142858,\"end\":31.285714285714285,\"reset_start\":-1.2857142857142858,\"reset_end\":31.285714285714285}},\"y_range\":{\"type\":\"object\",\"name\":\"Range1d\",\"id\":\"p2753\",\"attributes\":{\"tags\":[[[\"Close\",\"Close\",null]],{\"type\":\"map\",\"entries\":[[\"invert_yaxis\",false],[\"autorange\",false]]}],\"start\":466.33899841308596,\"end\":477.63100280761716,\"reset_start\":466.33899841308596,\"reset_end\":477.63100280761716}},\"x_scale\":{\"type\":\"object\",\"name\":\"LinearScale\",\"id\":\"p2772\"},\"y_scale\":{\"type\":\"object\",\"name\":\"LinearScale\",\"id\":\"p2773\"},\"title\":{\"type\":\"object\",\"name\":\"Title\",\"id\":\"p2765\",\"attributes\":{\"text\":\"SPY Daily Closing Price\",\"text_color\":\"black\",\"text_font_size\":\"12pt\"}},\"renderers\":[{\"type\":\"object\",\"name\":\"GlyphRenderer\",\"id\":\"p2798\",\"attributes\":{\"data_source\":{\"type\":\"object\",\"name\":\"ColumnDataSource\",\"id\":\"p2789\",\"attributes\":{\"selected\":{\"type\":\"object\",\"name\":\"Selection\",\"id\":\"p2790\",\"attributes\":{\"indices\":[],\"line_indices\":[]}},\"selection_policy\":{\"type\":\"object\",\"name\":\"UnionRenderers\",\"id\":\"p2791\"},\"data\":{\"type\":\"map\",\"entries\":[[\"dayspost121823\",{\"type\":\"ndarray\",\"array\":{\"type\":\"bytes\",\"data\":\"AAAAAAEAAAACAAAAAwAAAAQAAAAIAAAACQAAAAoAAAALAAAADwAAABAAAAARAAAAEgAAABUAAAAWAAAAFwAAABgAAAAZAAAAHQAAAB4AAAA=\"},\"shape\":[20],\"dtype\":\"int32\",\"order\":\"little\"}],[\"Close\",{\"type\":\"ndarray\",\"array\":{\"type\":\"bytes\",\"data\":\"AAAAIIV/fUAAAACgcK19QAAAAAApRH1AAAAAQDOLfUAAAABgZpp9QAAAAGBmun1AAAAAACnIfUAAAABACst9QAAAAMD1tH1AAAAAYGaKfUAAAADgo0x9QAAAAOB6NH1AAAAAYLg+fUAAAACgmal9QAAAAIAUnn1AAAAAwPXIfUAAAACgmcV9QAAAAEDhyn1AAAAAQOGufUAAAADgo4R9QA==\"},\"shape\":[20],\"dtype\":\"float64\",\"order\":\"little\"}]]}}},\"view\":{\"type\":\"object\",\"name\":\"CDSView\",\"id\":\"p2799\",\"attributes\":{\"filter\":{\"type\":\"object\",\"name\":\"AllIndices\",\"id\":\"p2800\"}}},\"glyph\":{\"type\":\"object\",\"name\":\"Scatter\",\"id\":\"p2795\",\"attributes\":{\"tags\":[\"apply_ranges\"],\"x\":{\"type\":\"field\",\"field\":\"dayspost121823\"},\"y\":{\"type\":\"field\",\"field\":\"Close\"},\"size\":{\"type\":\"value\",\"value\":5.477225575051661},\"line_color\":{\"type\":\"value\",\"value\":\"#30a2da\"},\"fill_color\":{\"type\":\"value\",\"value\":\"#30a2da\"},\"hatch_color\":{\"type\":\"value\",\"value\":\"#30a2da\"}}},\"selection_glyph\":{\"type\":\"object\",\"name\":\"Scatter\",\"id\":\"p2801\",\"attributes\":{\"tags\":[\"apply_ranges\"],\"x\":{\"type\":\"field\",\"field\":\"dayspost121823\"},\"y\":{\"type\":\"field\",\"field\":\"Close\"},\"size\":{\"type\":\"value\",\"value\":5.477225575051661},\"angle\":{\"type\":\"value\",\"value\":0.0},\"line_color\":{\"type\":\"value\",\"value\":\"#30a2da\"},\"line_alpha\":{\"type\":\"value\",\"value\":1.0},\"line_width\":{\"type\":\"value\",\"value\":1},\"line_join\":{\"type\":\"value\",\"value\":\"bevel\"},\"line_cap\":{\"type\":\"value\",\"value\":\"butt\"},\"line_dash\":{\"type\":\"value\",\"value\":[]},\"line_dash_offset\":{\"type\":\"value\",\"value\":0},\"fill_color\":{\"type\":\"value\",\"value\":\"#30a2da\"},\"fill_alpha\":{\"type\":\"value\",\"value\":1.0},\"hatch_color\":{\"type\":\"value\",\"value\":\"#30a2da\"},\"hatch_alpha\":{\"type\":\"value\",\"value\":1.0},\"hatch_scale\":{\"type\":\"value\",\"value\":12.0},\"hatch_pattern\":{\"type\":\"value\",\"value\":null},\"hatch_weight\":{\"type\":\"value\",\"value\":1.0},\"marker\":{\"type\":\"value\",\"value\":\"circle\"}}},\"nonselection_glyph\":{\"type\":\"object\",\"name\":\"Scatter\",\"id\":\"p2796\",\"attributes\":{\"tags\":[\"apply_ranges\"],\"x\":{\"type\":\"field\",\"field\":\"dayspost121823\"},\"y\":{\"type\":\"field\",\"field\":\"Close\"},\"size\":{\"type\":\"value\",\"value\":5.477225575051661},\"line_color\":{\"type\":\"value\",\"value\":\"#30a2da\"},\"line_alpha\":{\"type\":\"value\",\"value\":0.1},\"fill_color\":{\"type\":\"value\",\"value\":\"#30a2da\"},\"fill_alpha\":{\"type\":\"value\",\"value\":0.1},\"hatch_color\":{\"type\":\"value\",\"value\":\"#30a2da\"},\"hatch_alpha\":{\"type\":\"value\",\"value\":0.1}}},\"muted_glyph\":{\"type\":\"object\",\"name\":\"Scatter\",\"id\":\"p2797\",\"attributes\":{\"tags\":[\"apply_ranges\"],\"x\":{\"type\":\"field\",\"field\":\"dayspost121823\"},\"y\":{\"type\":\"field\",\"field\":\"Close\"},\"size\":{\"type\":\"value\",\"value\":5.477225575051661},\"line_color\":{\"type\":\"value\",\"value\":\"#30a2da\"},\"line_alpha\":{\"type\":\"value\",\"value\":0.2},\"fill_color\":{\"type\":\"value\",\"value\":\"#30a2da\"},\"fill_alpha\":{\"type\":\"value\",\"value\":0.2},\"hatch_color\":{\"type\":\"value\",\"value\":\"#30a2da\"},\"hatch_alpha\":{\"type\":\"value\",\"value\":0.2}}}}},{\"type\":\"object\",\"name\":\"GlyphRenderer\",\"id\":\"p2811\",\"attributes\":{\"data_source\":{\"type\":\"object\",\"name\":\"ColumnDataSource\",\"id\":\"p2802\",\"attributes\":{\"selected\":{\"type\":\"object\",\"name\":\"Selection\",\"id\":\"p2803\",\"attributes\":{\"indices\":[],\"line_indices\":[]}},\"selection_policy\":{\"type\":\"object\",\"name\":\"UnionRenderers\",\"id\":\"p2804\"},\"data\":{\"type\":\"map\",\"entries\":[[\"dayspost121823\",{\"type\":\"ndarray\",\"array\":{\"type\":\"bytes\",\"data\":\"AAAAAAEAAAACAAAAAwAAAAQAAAAIAAAACQAAAAoAAAALAAAADwAAABAAAAARAAAAEgAAABUAAAAWAAAAFwAAABgAAAAZAAAAHQAAAB4AAAA=\"},\"shape\":[20],\"dtype\":\"int32\",\"order\":\"little\"}],[\"close_predicted\",{\"type\":\"ndarray\",\"array\":{\"type\":\"bytes\",\"data\":\"YHlp2zCLfUAPmJ4p8Yt9QL2203exjH1AbNUIxnGNfUAb9D0UMo59QNVuEk0zkX1AhI1Hm/ORfUAzrHzps5J9QOHKsTd0k31AnEWGcHWWfUBLZLu+NZd9QPmC8Az2l31AqKElW7aYfUC0/cRF95p9QGMc+pO3m31AETsv4necfUDAWWQwOJ19QG94mX74nX1AKfNtt/mgfUDYEaMFuqF9QA==\"},\"shape\":[20],\"dtype\":\"float64\",\"order\":\"little\"}]]}}},\"view\":{\"type\":\"object\",\"name\":\"CDSView\",\"id\":\"p2812\",\"attributes\":{\"filter\":{\"type\":\"object\",\"name\":\"AllIndices\",\"id\":\"p2813\"}}},\"glyph\":{\"type\":\"object\",\"name\":\"Line\",\"id\":\"p2808\",\"attributes\":{\"tags\":[\"apply_ranges\"],\"x\":{\"type\":\"field\",\"field\":\"dayspost121823\"},\"y\":{\"type\":\"field\",\"field\":\"close_predicted\"},\"line_color\":\"red\",\"line_width\":2}},\"selection_glyph\":{\"type\":\"object\",\"name\":\"Line\",\"id\":\"p2814\",\"attributes\":{\"tags\":[\"apply_ranges\"],\"x\":{\"type\":\"field\",\"field\":\"dayspost121823\"},\"y\":{\"type\":\"field\",\"field\":\"close_predicted\"},\"line_color\":\"red\",\"line_width\":2}},\"nonselection_glyph\":{\"type\":\"object\",\"name\":\"Line\",\"id\":\"p2809\",\"attributes\":{\"tags\":[\"apply_ranges\"],\"x\":{\"type\":\"field\",\"field\":\"dayspost121823\"},\"y\":{\"type\":\"field\",\"field\":\"close_predicted\"},\"line_color\":\"red\",\"line_alpha\":0.1,\"line_width\":2}},\"muted_glyph\":{\"type\":\"object\",\"name\":\"Line\",\"id\":\"p2810\",\"attributes\":{\"tags\":[\"apply_ranges\"],\"x\":{\"type\":\"field\",\"field\":\"dayspost121823\"},\"y\":{\"type\":\"field\",\"field\":\"close_predicted\"},\"line_color\":\"red\",\"line_alpha\":0.2,\"line_width\":2}}}}],\"toolbar\":{\"type\":\"object\",\"name\":\"Toolbar\",\"id\":\"p2771\",\"attributes\":{\"tools\":[{\"type\":\"object\",\"name\":\"WheelZoomTool\",\"id\":\"p2757\",\"attributes\":{\"tags\":[\"hv_created\"],\"zoom_together\":\"none\"}},{\"type\":\"object\",\"name\":\"HoverTool\",\"id\":\"p2758\",\"attributes\":{\"tags\":[\"hv_created\"],\"renderers\":[{\"id\":\"p2798\"}],\"tooltips\":[[\"dayspost121823\",\"@{dayspost121823}\"],[\"Close\",\"@{Close}\"]]}},{\"type\":\"object\",\"name\":\"HoverTool\",\"id\":\"p2761\",\"attributes\":{\"tags\":[\"hv_created\"],\"renderers\":[{\"id\":\"p2811\"}],\"tooltips\":[[\"dayspost121823\",\"@{dayspost121823}\"],[\"close_predicted\",\"@{close_predicted}\"]]}},{\"type\":\"object\",\"name\":\"SaveTool\",\"id\":\"p2784\"},{\"type\":\"object\",\"name\":\"PanTool\",\"id\":\"p2785\"},{\"type\":\"object\",\"name\":\"BoxZoomTool\",\"id\":\"p2786\",\"attributes\":{\"overlay\":{\"type\":\"object\",\"name\":\"BoxAnnotation\",\"id\":\"p2787\",\"attributes\":{\"syncable\":false,\"level\":\"overlay\",\"visible\":false,\"left_units\":\"canvas\",\"right_units\":\"canvas\",\"bottom_units\":\"canvas\",\"top_units\":\"canvas\",\"line_color\":\"black\",\"line_alpha\":1.0,\"line_width\":2,\"line_dash\":[4,4],\"fill_color\":\"lightgrey\",\"fill_alpha\":0.5}}}},{\"type\":\"object\",\"name\":\"ResetTool\",\"id\":\"p2788\"}],\"active_drag\":{\"id\":\"p2785\"},\"active_scroll\":{\"id\":\"p2757\"}}},\"left\":[{\"type\":\"object\",\"name\":\"LinearAxis\",\"id\":\"p2779\",\"attributes\":{\"ticker\":{\"type\":\"object\",\"name\":\"BasicTicker\",\"id\":\"p2780\",\"attributes\":{\"mantissas\":[1,2,5]}},\"formatter\":{\"type\":\"object\",\"name\":\"BasicTickFormatter\",\"id\":\"p2781\"},\"axis_label\":\"Close\",\"major_label_policy\":{\"type\":\"object\",\"name\":\"AllLabels\",\"id\":\"p2782\"}}}],\"below\":[{\"type\":\"object\",\"name\":\"LinearAxis\",\"id\":\"p2774\",\"attributes\":{\"ticker\":{\"type\":\"object\",\"name\":\"BasicTicker\",\"id\":\"p2775\",\"attributes\":{\"mantissas\":[1,2,5]}},\"formatter\":{\"type\":\"object\",\"name\":\"BasicTickFormatter\",\"id\":\"p2776\"},\"axis_label\":\"dayspost121823\",\"major_label_policy\":{\"type\":\"object\",\"name\":\"AllLabels\",\"id\":\"p2777\"}}}],\"center\":[{\"type\":\"object\",\"name\":\"Grid\",\"id\":\"p2778\",\"attributes\":{\"axis\":{\"id\":\"p2774\"},\"grid_line_color\":null}},{\"type\":\"object\",\"name\":\"Grid\",\"id\":\"p2783\",\"attributes\":{\"dimension\":1,\"axis\":{\"id\":\"p2779\"},\"grid_line_color\":null}}],\"min_border_top\":10,\"min_border_bottom\":10,\"min_border_left\":10,\"min_border_right\":10,\"output_backend\":\"webgl\"}},{\"type\":\"object\",\"name\":\"Spacer\",\"id\":\"p2816\",\"attributes\":{\"name\":\"HSpacer04951\",\"stylesheets\":[\"\\n:host(.pn-loading.pn-arc):before, .pn-loading.pn-arc:before {\\n  background-image: url(\\\"data:image/svg+xml;base64,PHN2ZyB4bWxucz0iaHR0cDovL3d3dy53My5vcmcvMjAwMC9zdmciIHN0eWxlPSJtYXJnaW46IGF1dG87IGJhY2tncm91bmQ6IG5vbmU7IGRpc3BsYXk6IGJsb2NrOyBzaGFwZS1yZW5kZXJpbmc6IGF1dG87IiB2aWV3Qm94PSIwIDAgMTAwIDEwMCIgcHJlc2VydmVBc3BlY3RSYXRpbz0ieE1pZFlNaWQiPiAgPGNpcmNsZSBjeD0iNTAiIGN5PSI1MCIgZmlsbD0ibm9uZSIgc3Ryb2tlPSIjYzNjM2MzIiBzdHJva2Utd2lkdGg9IjEwIiByPSIzNSIgc3Ryb2tlLWRhc2hhcnJheT0iMTY0LjkzMzYxNDMxMzQ2NDE1IDU2Ljk3Nzg3MTQzNzgyMTM4Ij4gICAgPGFuaW1hdGVUcmFuc2Zvcm0gYXR0cmlidXRlTmFtZT0idHJhbnNmb3JtIiB0eXBlPSJyb3RhdGUiIHJlcGVhdENvdW50PSJpbmRlZmluaXRlIiBkdXI9IjFzIiB2YWx1ZXM9IjAgNTAgNTA7MzYwIDUwIDUwIiBrZXlUaW1lcz0iMDsxIj48L2FuaW1hdGVUcmFuc2Zvcm0+ICA8L2NpcmNsZT48L3N2Zz4=\\\");\\n  background-size: auto calc(min(50%, 400px));\\n}\",{\"id\":\"p2750\"},{\"id\":\"p2748\"},{\"id\":\"p2749\"}],\"margin\":0,\"sizing_mode\":\"stretch_width\",\"align\":\"start\"}}]}}],\"defs\":[{\"type\":\"model\",\"name\":\"ReactiveHTML1\"},{\"type\":\"model\",\"name\":\"FlexBox1\",\"properties\":[{\"name\":\"align_content\",\"kind\":\"Any\",\"default\":\"flex-start\"},{\"name\":\"align_items\",\"kind\":\"Any\",\"default\":\"flex-start\"},{\"name\":\"flex_direction\",\"kind\":\"Any\",\"default\":\"row\"},{\"name\":\"flex_wrap\",\"kind\":\"Any\",\"default\":\"wrap\"},{\"name\":\"justify_content\",\"kind\":\"Any\",\"default\":\"flex-start\"}]},{\"type\":\"model\",\"name\":\"FloatPanel1\",\"properties\":[{\"name\":\"config\",\"kind\":\"Any\",\"default\":{\"type\":\"map\"}},{\"name\":\"contained\",\"kind\":\"Any\",\"default\":true},{\"name\":\"position\",\"kind\":\"Any\",\"default\":\"right-top\"},{\"name\":\"offsetx\",\"kind\":\"Any\",\"default\":null},{\"name\":\"offsety\",\"kind\":\"Any\",\"default\":null},{\"name\":\"theme\",\"kind\":\"Any\",\"default\":\"primary\"},{\"name\":\"status\",\"kind\":\"Any\",\"default\":\"normalized\"}]},{\"type\":\"model\",\"name\":\"GridStack1\",\"properties\":[{\"name\":\"mode\",\"kind\":\"Any\",\"default\":\"warn\"},{\"name\":\"ncols\",\"kind\":\"Any\",\"default\":null},{\"name\":\"nrows\",\"kind\":\"Any\",\"default\":null},{\"name\":\"allow_resize\",\"kind\":\"Any\",\"default\":true},{\"name\":\"allow_drag\",\"kind\":\"Any\",\"default\":true},{\"name\":\"state\",\"kind\":\"Any\",\"default\":[]}]},{\"type\":\"model\",\"name\":\"drag1\",\"properties\":[{\"name\":\"slider_width\",\"kind\":\"Any\",\"default\":5},{\"name\":\"slider_color\",\"kind\":\"Any\",\"default\":\"black\"},{\"name\":\"value\",\"kind\":\"Any\",\"default\":50}]},{\"type\":\"model\",\"name\":\"click1\",\"properties\":[{\"name\":\"terminal_output\",\"kind\":\"Any\",\"default\":\"\"},{\"name\":\"debug_name\",\"kind\":\"Any\",\"default\":\"\"},{\"name\":\"clears\",\"kind\":\"Any\",\"default\":0}]},{\"type\":\"model\",\"name\":\"FastWrapper1\",\"properties\":[{\"name\":\"object\",\"kind\":\"Any\",\"default\":null},{\"name\":\"style\",\"kind\":\"Any\",\"default\":null}]},{\"type\":\"model\",\"name\":\"NotificationAreaBase1\",\"properties\":[{\"name\":\"js_events\",\"kind\":\"Any\",\"default\":{\"type\":\"map\"}},{\"name\":\"position\",\"kind\":\"Any\",\"default\":\"bottom-right\"},{\"name\":\"_clear\",\"kind\":\"Any\",\"default\":0}]},{\"type\":\"model\",\"name\":\"NotificationArea1\",\"properties\":[{\"name\":\"js_events\",\"kind\":\"Any\",\"default\":{\"type\":\"map\"}},{\"name\":\"notifications\",\"kind\":\"Any\",\"default\":[]},{\"name\":\"position\",\"kind\":\"Any\",\"default\":\"bottom-right\"},{\"name\":\"_clear\",\"kind\":\"Any\",\"default\":0},{\"name\":\"types\",\"kind\":\"Any\",\"default\":[{\"type\":\"map\",\"entries\":[[\"type\",\"warning\"],[\"background\",\"#ffc107\"],[\"icon\",{\"type\":\"map\",\"entries\":[[\"className\",\"fas fa-exclamation-triangle\"],[\"tagName\",\"i\"],[\"color\",\"white\"]]}]]},{\"type\":\"map\",\"entries\":[[\"type\",\"info\"],[\"background\",\"#007bff\"],[\"icon\",{\"type\":\"map\",\"entries\":[[\"className\",\"fas fa-info-circle\"],[\"tagName\",\"i\"],[\"color\",\"white\"]]}]]}]}]},{\"type\":\"model\",\"name\":\"Notification\",\"properties\":[{\"name\":\"background\",\"kind\":\"Any\",\"default\":null},{\"name\":\"duration\",\"kind\":\"Any\",\"default\":3000},{\"name\":\"icon\",\"kind\":\"Any\",\"default\":null},{\"name\":\"message\",\"kind\":\"Any\",\"default\":\"\"},{\"name\":\"notification_type\",\"kind\":\"Any\",\"default\":null},{\"name\":\"_destroyed\",\"kind\":\"Any\",\"default\":false}]},{\"type\":\"model\",\"name\":\"TemplateActions1\",\"properties\":[{\"name\":\"open_modal\",\"kind\":\"Any\",\"default\":0},{\"name\":\"close_modal\",\"kind\":\"Any\",\"default\":0}]},{\"type\":\"model\",\"name\":\"BootstrapTemplateActions1\",\"properties\":[{\"name\":\"open_modal\",\"kind\":\"Any\",\"default\":0},{\"name\":\"close_modal\",\"kind\":\"Any\",\"default\":0}]},{\"type\":\"model\",\"name\":\"MaterialTemplateActions1\",\"properties\":[{\"name\":\"open_modal\",\"kind\":\"Any\",\"default\":0},{\"name\":\"close_modal\",\"kind\":\"Any\",\"default\":0}]}]}};\n",
       "  var render_items = [{\"docid\":\"0bcd68b0-a78b-4fa1-9ad2-4ca5bb01a1bf\",\"roots\":{\"p2747\":\"a47776ad-9a0c-4844-a5f5-ea1f766ff688\"},\"root_ids\":[\"p2747\"]}];\n",
       "  var docs = Object.values(docs_json)\n",
       "  if (!docs) {\n",
       "    return\n",
       "  }\n",
       "  const py_version = docs[0].version.replace('rc', '-rc.').replace('.dev', '-dev.')\n",
       "  const is_dev = py_version.indexOf(\"+\") !== -1 || py_version.indexOf(\"-\") !== -1\n",
       "  function embed_document(root) {\n",
       "    var Bokeh = get_bokeh(root)\n",
       "    Bokeh.embed.embed_items_notebook(docs_json, render_items);\n",
       "    for (const render_item of render_items) {\n",
       "      for (const root_id of render_item.root_ids) {\n",
       "\tconst id_el = document.getElementById(root_id)\n",
       "\tif (id_el.children.length && (id_el.children[0].className === 'bk-root')) {\n",
       "\t  const root_el = id_el.children[0]\n",
       "\t  root_el.id = root_el.id + '-rendered'\n",
       "\t}\n",
       "      }\n",
       "    }\n",
       "  }\n",
       "  function get_bokeh(root) {\n",
       "    if (root.Bokeh === undefined) {\n",
       "      return null\n",
       "    } else if (root.Bokeh.version !== py_version && !is_dev) {\n",
       "      if (root.Bokeh.versions === undefined || !root.Bokeh.versions.has(py_version)) {\n",
       "\treturn null\n",
       "      }\n",
       "      return root.Bokeh.versions.get(py_version);\n",
       "    } else if (root.Bokeh.version === py_version) {\n",
       "      return root.Bokeh\n",
       "    }\n",
       "    return null\n",
       "  }\n",
       "  function is_loaded(root) {\n",
       "    var Bokeh = get_bokeh(root)\n",
       "    return (Bokeh != null && Bokeh.Panel !== undefined)\n",
       "  }\n",
       "  if (is_loaded(root)) {\n",
       "    embed_document(root);\n",
       "  } else {\n",
       "    var attempts = 0;\n",
       "    var timer = setInterval(function(root) {\n",
       "      if (is_loaded(root)) {\n",
       "        clearInterval(timer);\n",
       "        embed_document(root);\n",
       "      } else if (document.readyState == \"complete\") {\n",
       "        attempts++;\n",
       "        if (attempts > 200) {\n",
       "          clearInterval(timer);\n",
       "\t  var Bokeh = get_bokeh(root)\n",
       "\t  if (Bokeh == null || Bokeh.Panel == null) {\n",
       "            console.warn(\"Panel: ERROR: Unable to run Panel code because Bokeh or Panel library is missing\");\n",
       "\t  } else {\n",
       "\t    console.warn(\"Panel: WARNING: Attempting to render but not all required libraries could be resolved.\")\n",
       "\t    embed_document(root)\n",
       "\t  }\n",
       "        }\n",
       "      }\n",
       "    }, 25, root)\n",
       "  }\n",
       "})(window);</script>"
      ],
      "text/plain": [
       ":Overlay\n",
       "   .Scatter.I :Scatter   [dayspost121823]   (Close)\n",
       "   .Curve.I   :Curve   [dayspost121823]   (close_predicted)"
      ]
     },
     "execution_count": 197,
     "metadata": {
      "application/vnd.holoviews_exec.v0+json": {
       "id": "p2747"
      }
     },
     "output_type": "execute_result"
    }
   ],
   "source": [
    "salary_plot * best_fit_line"
   ]
  },
  {
   "cell_type": "code",
   "execution_count": 198,
   "id": "c09e1b7d",
   "metadata": {},
   "outputs": [
    {
     "data": {},
     "metadata": {},
     "output_type": "display_data"
    },
    {
     "data": {
      "application/vnd.holoviews_exec.v0+json": "",
      "text/html": [
       "<div id='p2824'>\n",
       "  <div id=\"a3f1ba65-99bb-4b9f-8722-889c852fbfb1\" data-root-id=\"p2824\" style=\"display: contents;\"></div>\n",
       "</div>\n",
       "<script type=\"application/javascript\">(function(root) {\n",
       "  var docs_json = {\"db336cbb-4b7d-41e8-b779-c3770022f6ec\":{\"version\":\"3.2.1\",\"title\":\"Bokeh Application\",\"roots\":[{\"type\":\"object\",\"name\":\"Row\",\"id\":\"p2824\",\"attributes\":{\"name\":\"Row05169\",\"tags\":[\"embedded\"],\"stylesheets\":[\"\\n:host(.pn-loading.pn-arc):before, .pn-loading.pn-arc:before {\\n  background-image: url(\\\"data:image/svg+xml;base64,PHN2ZyB4bWxucz0iaHR0cDovL3d3dy53My5vcmcvMjAwMC9zdmciIHN0eWxlPSJtYXJnaW46IGF1dG87IGJhY2tncm91bmQ6IG5vbmU7IGRpc3BsYXk6IGJsb2NrOyBzaGFwZS1yZW5kZXJpbmc6IGF1dG87IiB2aWV3Qm94PSIwIDAgMTAwIDEwMCIgcHJlc2VydmVBc3BlY3RSYXRpbz0ieE1pZFlNaWQiPiAgPGNpcmNsZSBjeD0iNTAiIGN5PSI1MCIgZmlsbD0ibm9uZSIgc3Ryb2tlPSIjYzNjM2MzIiBzdHJva2Utd2lkdGg9IjEwIiByPSIzNSIgc3Ryb2tlLWRhc2hhcnJheT0iMTY0LjkzMzYxNDMxMzQ2NDE1IDU2Ljk3Nzg3MTQzNzgyMTM4Ij4gICAgPGFuaW1hdGVUcmFuc2Zvcm0gYXR0cmlidXRlTmFtZT0idHJhbnNmb3JtIiB0eXBlPSJyb3RhdGUiIHJlcGVhdENvdW50PSJpbmRlZmluaXRlIiBkdXI9IjFzIiB2YWx1ZXM9IjAgNTAgNTA7MzYwIDUwIDUwIiBrZXlUaW1lcz0iMDsxIj48L2FuaW1hdGVUcmFuc2Zvcm0+ICA8L2NpcmNsZT48L3N2Zz4=\\\");\\n  background-size: auto calc(min(50%, 400px));\\n}\",{\"type\":\"object\",\"name\":\"ImportedStyleSheet\",\"id\":\"p2827\",\"attributes\":{\"url\":\"https://cdn.holoviz.org/panel/1.2.1/dist/css/loading.css\"}},{\"type\":\"object\",\"name\":\"ImportedStyleSheet\",\"id\":\"p2895\",\"attributes\":{\"url\":\"https://cdn.holoviz.org/panel/1.2.1/dist/css/listpanel.css\"}},{\"type\":\"object\",\"name\":\"ImportedStyleSheet\",\"id\":\"p2825\",\"attributes\":{\"url\":\"https://cdn.holoviz.org/panel/1.2.1/dist/bundled/theme/default.css\"}},{\"type\":\"object\",\"name\":\"ImportedStyleSheet\",\"id\":\"p2826\",\"attributes\":{\"url\":\"https://cdn.holoviz.org/panel/1.2.1/dist/bundled/theme/native.css\"}}],\"min_width\":700,\"margin\":0,\"sizing_mode\":\"stretch_width\",\"align\":\"start\",\"children\":[{\"type\":\"object\",\"name\":\"Spacer\",\"id\":\"p2828\",\"attributes\":{\"name\":\"HSpacer05179\",\"stylesheets\":[\"\\n:host(.pn-loading.pn-arc):before, .pn-loading.pn-arc:before {\\n  background-image: url(\\\"data:image/svg+xml;base64,PHN2ZyB4bWxucz0iaHR0cDovL3d3dy53My5vcmcvMjAwMC9zdmciIHN0eWxlPSJtYXJnaW46IGF1dG87IGJhY2tncm91bmQ6IG5vbmU7IGRpc3BsYXk6IGJsb2NrOyBzaGFwZS1yZW5kZXJpbmc6IGF1dG87IiB2aWV3Qm94PSIwIDAgMTAwIDEwMCIgcHJlc2VydmVBc3BlY3RSYXRpbz0ieE1pZFlNaWQiPiAgPGNpcmNsZSBjeD0iNTAiIGN5PSI1MCIgZmlsbD0ibm9uZSIgc3Ryb2tlPSIjYzNjM2MzIiBzdHJva2Utd2lkdGg9IjEwIiByPSIzNSIgc3Ryb2tlLWRhc2hhcnJheT0iMTY0LjkzMzYxNDMxMzQ2NDE1IDU2Ljk3Nzg3MTQzNzgyMTM4Ij4gICAgPGFuaW1hdGVUcmFuc2Zvcm0gYXR0cmlidXRlTmFtZT0idHJhbnNmb3JtIiB0eXBlPSJyb3RhdGUiIHJlcGVhdENvdW50PSJpbmRlZmluaXRlIiBkdXI9IjFzIiB2YWx1ZXM9IjAgNTAgNTA7MzYwIDUwIDUwIiBrZXlUaW1lcz0iMDsxIj48L2FuaW1hdGVUcmFuc2Zvcm0+ICA8L2NpcmNsZT48L3N2Zz4=\\\");\\n  background-size: auto calc(min(50%, 400px));\\n}\",{\"id\":\"p2827\"},{\"id\":\"p2825\"},{\"id\":\"p2826\"}],\"margin\":0,\"sizing_mode\":\"stretch_width\",\"align\":\"start\"}},{\"type\":\"object\",\"name\":\"Figure\",\"id\":\"p2839\",\"attributes\":{\"width\":700,\"height\":300,\"margin\":[5,10],\"sizing_mode\":\"fixed\",\"align\":\"start\",\"x_range\":{\"type\":\"object\",\"name\":\"Range1d\",\"id\":\"p2829\",\"attributes\":{\"tags\":[[[\"dayspost121823\",\"dayspost121823\",null]],[]],\"end\":30.0,\"reset_start\":0.0,\"reset_end\":30.0}},\"y_range\":{\"type\":\"object\",\"name\":\"Range1d\",\"id\":\"p2830\",\"attributes\":{\"tags\":[[[\"close_predicted\",\"close_predicted\",null]],{\"type\":\"map\",\"entries\":[[\"invert_yaxis\",false],[\"autorange\",false]]}],\"start\":466.33899841308596,\"end\":477.63100280761716,\"reset_start\":466.33899841308596,\"reset_end\":477.63100280761716}},\"x_scale\":{\"type\":\"object\",\"name\":\"LinearScale\",\"id\":\"p2849\"},\"y_scale\":{\"type\":\"object\",\"name\":\"LinearScale\",\"id\":\"p2850\"},\"title\":{\"type\":\"object\",\"name\":\"Title\",\"id\":\"p2842\",\"attributes\":{\"text\":\"SPY Daily Closing Price\",\"text_color\":\"black\",\"text_font_size\":\"12pt\"}},\"renderers\":[{\"type\":\"object\",\"name\":\"GlyphRenderer\",\"id\":\"p2875\",\"attributes\":{\"data_source\":{\"type\":\"object\",\"name\":\"ColumnDataSource\",\"id\":\"p2866\",\"attributes\":{\"selected\":{\"type\":\"object\",\"name\":\"Selection\",\"id\":\"p2867\",\"attributes\":{\"indices\":[],\"line_indices\":[]}},\"selection_policy\":{\"type\":\"object\",\"name\":\"UnionRenderers\",\"id\":\"p2868\"},\"data\":{\"type\":\"map\",\"entries\":[[\"dayspost121823\",{\"type\":\"ndarray\",\"array\":{\"type\":\"bytes\",\"data\":\"AAAAAAEAAAACAAAAAwAAAAQAAAAIAAAACQAAAAoAAAALAAAADwAAABAAAAARAAAAEgAAABUAAAAWAAAAFwAAABgAAAAZAAAAHQAAAB4AAAA=\"},\"shape\":[20],\"dtype\":\"int32\",\"order\":\"little\"}],[\"close_predicted\",{\"type\":\"ndarray\",\"array\":{\"type\":\"bytes\",\"data\":\"4jfgoEOQfUDBbr6c1499QOIclzeBj31ARUJqcUCPfUDp3jdKFY99QAv6NuNAj31A+Oro1oGPfUAmU5Vp2I99QJYyPJtEkH1A6Figl82SfUCgjCvkpZN9QJo3sc+TlH1A1lkxWpeVfUAUjJCzI5l9QFaL+rl9mn1A2wFfX+2bfUCg772jcp19QKhUF4cNn31AV5FFSlGmfUCnSoNIWKh9QA==\"},\"shape\":[20],\"dtype\":\"float64\",\"order\":\"little\"}]]}}},\"view\":{\"type\":\"object\",\"name\":\"CDSView\",\"id\":\"p2876\",\"attributes\":{\"filter\":{\"type\":\"object\",\"name\":\"AllIndices\",\"id\":\"p2877\"}}},\"glyph\":{\"type\":\"object\",\"name\":\"Line\",\"id\":\"p2872\",\"attributes\":{\"tags\":[\"apply_ranges\"],\"x\":{\"type\":\"field\",\"field\":\"dayspost121823\"},\"y\":{\"type\":\"field\",\"field\":\"close_predicted\"},\"line_color\":\"red\",\"line_width\":2}},\"selection_glyph\":{\"type\":\"object\",\"name\":\"Line\",\"id\":\"p2878\",\"attributes\":{\"tags\":[\"apply_ranges\"],\"x\":{\"type\":\"field\",\"field\":\"dayspost121823\"},\"y\":{\"type\":\"field\",\"field\":\"close_predicted\"},\"line_color\":\"red\",\"line_width\":2}},\"nonselection_glyph\":{\"type\":\"object\",\"name\":\"Line\",\"id\":\"p2873\",\"attributes\":{\"tags\":[\"apply_ranges\"],\"x\":{\"type\":\"field\",\"field\":\"dayspost121823\"},\"y\":{\"type\":\"field\",\"field\":\"close_predicted\"},\"line_color\":\"red\",\"line_alpha\":0.1,\"line_width\":2}},\"muted_glyph\":{\"type\":\"object\",\"name\":\"Line\",\"id\":\"p2874\",\"attributes\":{\"tags\":[\"apply_ranges\"],\"x\":{\"type\":\"field\",\"field\":\"dayspost121823\"},\"y\":{\"type\":\"field\",\"field\":\"close_predicted\"},\"line_color\":\"red\",\"line_alpha\":0.2,\"line_width\":2}}}},{\"type\":\"object\",\"name\":\"GlyphRenderer\",\"id\":\"p2888\",\"attributes\":{\"data_source\":{\"type\":\"object\",\"name\":\"ColumnDataSource\",\"id\":\"p2879\",\"attributes\":{\"selected\":{\"type\":\"object\",\"name\":\"Selection\",\"id\":\"p2880\",\"attributes\":{\"indices\":[],\"line_indices\":[]}},\"selection_policy\":{\"type\":\"object\",\"name\":\"UnionRenderers\",\"id\":\"p2881\"},\"data\":{\"type\":\"map\",\"entries\":[[\"dayspost121823\",{\"type\":\"ndarray\",\"array\":{\"type\":\"bytes\",\"data\":\"AAAAAAEAAAACAAAAAwAAAAQAAAAIAAAACQAAAAoAAAALAAAADwAAABAAAAARAAAAEgAAABUAAAAWAAAAFwAAABgAAAAZAAAAHQAAAB4AAAA=\"},\"shape\":[20],\"dtype\":\"int32\",\"order\":\"little\"}],[\"Close\",{\"type\":\"ndarray\",\"array\":{\"type\":\"bytes\",\"data\":\"AAAAIIV/fUAAAACgcK19QAAAAAApRH1AAAAAQDOLfUAAAABgZpp9QAAAAGBmun1AAAAAACnIfUAAAABACst9QAAAAMD1tH1AAAAAYGaKfUAAAADgo0x9QAAAAOB6NH1AAAAAYLg+fUAAAACgmal9QAAAAIAUnn1AAAAAwPXIfUAAAACgmcV9QAAAAEDhyn1AAAAAQOGufUAAAADgo4R9QA==\"},\"shape\":[20],\"dtype\":\"float64\",\"order\":\"little\"}]]}}},\"view\":{\"type\":\"object\",\"name\":\"CDSView\",\"id\":\"p2889\",\"attributes\":{\"filter\":{\"type\":\"object\",\"name\":\"AllIndices\",\"id\":\"p2890\"}}},\"glyph\":{\"type\":\"object\",\"name\":\"Scatter\",\"id\":\"p2885\",\"attributes\":{\"tags\":[\"apply_ranges\"],\"x\":{\"type\":\"field\",\"field\":\"dayspost121823\"},\"y\":{\"type\":\"field\",\"field\":\"Close\"},\"size\":{\"type\":\"value\",\"value\":5.477225575051661},\"line_color\":{\"type\":\"value\",\"value\":\"#30a2da\"},\"fill_color\":{\"type\":\"value\",\"value\":\"#30a2da\"},\"hatch_color\":{\"type\":\"value\",\"value\":\"#30a2da\"}}},\"selection_glyph\":{\"type\":\"object\",\"name\":\"Scatter\",\"id\":\"p2891\",\"attributes\":{\"tags\":[\"apply_ranges\"],\"x\":{\"type\":\"field\",\"field\":\"dayspost121823\"},\"y\":{\"type\":\"field\",\"field\":\"Close\"},\"size\":{\"type\":\"value\",\"value\":5.477225575051661},\"angle\":{\"type\":\"value\",\"value\":0.0},\"line_color\":{\"type\":\"value\",\"value\":\"#30a2da\"},\"line_alpha\":{\"type\":\"value\",\"value\":1.0},\"line_width\":{\"type\":\"value\",\"value\":1},\"line_join\":{\"type\":\"value\",\"value\":\"bevel\"},\"line_cap\":{\"type\":\"value\",\"value\":\"butt\"},\"line_dash\":{\"type\":\"value\",\"value\":[]},\"line_dash_offset\":{\"type\":\"value\",\"value\":0},\"fill_color\":{\"type\":\"value\",\"value\":\"#30a2da\"},\"fill_alpha\":{\"type\":\"value\",\"value\":1.0},\"hatch_color\":{\"type\":\"value\",\"value\":\"#30a2da\"},\"hatch_alpha\":{\"type\":\"value\",\"value\":1.0},\"hatch_scale\":{\"type\":\"value\",\"value\":12.0},\"hatch_pattern\":{\"type\":\"value\",\"value\":null},\"hatch_weight\":{\"type\":\"value\",\"value\":1.0},\"marker\":{\"type\":\"value\",\"value\":\"circle\"}}},\"nonselection_glyph\":{\"type\":\"object\",\"name\":\"Scatter\",\"id\":\"p2886\",\"attributes\":{\"tags\":[\"apply_ranges\"],\"x\":{\"type\":\"field\",\"field\":\"dayspost121823\"},\"y\":{\"type\":\"field\",\"field\":\"Close\"},\"size\":{\"type\":\"value\",\"value\":5.477225575051661},\"line_color\":{\"type\":\"value\",\"value\":\"#30a2da\"},\"line_alpha\":{\"type\":\"value\",\"value\":0.1},\"fill_color\":{\"type\":\"value\",\"value\":\"#30a2da\"},\"fill_alpha\":{\"type\":\"value\",\"value\":0.1},\"hatch_color\":{\"type\":\"value\",\"value\":\"#30a2da\"},\"hatch_alpha\":{\"type\":\"value\",\"value\":0.1}}},\"muted_glyph\":{\"type\":\"object\",\"name\":\"Scatter\",\"id\":\"p2887\",\"attributes\":{\"tags\":[\"apply_ranges\"],\"x\":{\"type\":\"field\",\"field\":\"dayspost121823\"},\"y\":{\"type\":\"field\",\"field\":\"Close\"},\"size\":{\"type\":\"value\",\"value\":5.477225575051661},\"line_color\":{\"type\":\"value\",\"value\":\"#30a2da\"},\"line_alpha\":{\"type\":\"value\",\"value\":0.2},\"fill_color\":{\"type\":\"value\",\"value\":\"#30a2da\"},\"fill_alpha\":{\"type\":\"value\",\"value\":0.2},\"hatch_color\":{\"type\":\"value\",\"value\":\"#30a2da\"},\"hatch_alpha\":{\"type\":\"value\",\"value\":0.2}}}}}],\"toolbar\":{\"type\":\"object\",\"name\":\"Toolbar\",\"id\":\"p2848\",\"attributes\":{\"tools\":[{\"type\":\"object\",\"name\":\"WheelZoomTool\",\"id\":\"p2834\",\"attributes\":{\"tags\":[\"hv_created\"],\"zoom_together\":\"none\"}},{\"type\":\"object\",\"name\":\"HoverTool\",\"id\":\"p2835\",\"attributes\":{\"tags\":[\"hv_created\"],\"renderers\":[{\"id\":\"p2875\"}],\"tooltips\":[[\"dayspost121823\",\"@{dayspost121823}\"],[\"close_predicted\",\"@{close_predicted}\"]]}},{\"type\":\"object\",\"name\":\"HoverTool\",\"id\":\"p2838\",\"attributes\":{\"tags\":[\"hv_created\"],\"renderers\":[{\"id\":\"p2888\"}],\"tooltips\":[[\"dayspost121823\",\"@{dayspost121823}\"],[\"Close\",\"@{Close}\"]]}},{\"type\":\"object\",\"name\":\"SaveTool\",\"id\":\"p2861\"},{\"type\":\"object\",\"name\":\"PanTool\",\"id\":\"p2862\"},{\"type\":\"object\",\"name\":\"BoxZoomTool\",\"id\":\"p2863\",\"attributes\":{\"overlay\":{\"type\":\"object\",\"name\":\"BoxAnnotation\",\"id\":\"p2864\",\"attributes\":{\"syncable\":false,\"level\":\"overlay\",\"visible\":false,\"left_units\":\"canvas\",\"right_units\":\"canvas\",\"bottom_units\":\"canvas\",\"top_units\":\"canvas\",\"line_color\":\"black\",\"line_alpha\":1.0,\"line_width\":2,\"line_dash\":[4,4],\"fill_color\":\"lightgrey\",\"fill_alpha\":0.5}}}},{\"type\":\"object\",\"name\":\"ResetTool\",\"id\":\"p2865\"}],\"active_drag\":{\"id\":\"p2862\"},\"active_scroll\":{\"id\":\"p2834\"}}},\"left\":[{\"type\":\"object\",\"name\":\"LinearAxis\",\"id\":\"p2856\",\"attributes\":{\"ticker\":{\"type\":\"object\",\"name\":\"BasicTicker\",\"id\":\"p2857\",\"attributes\":{\"mantissas\":[1,2,5]}},\"formatter\":{\"type\":\"object\",\"name\":\"BasicTickFormatter\",\"id\":\"p2858\"},\"axis_label\":\"close_predicted\",\"major_label_policy\":{\"type\":\"object\",\"name\":\"AllLabels\",\"id\":\"p2859\"}}}],\"below\":[{\"type\":\"object\",\"name\":\"LinearAxis\",\"id\":\"p2851\",\"attributes\":{\"ticker\":{\"type\":\"object\",\"name\":\"BasicTicker\",\"id\":\"p2852\",\"attributes\":{\"mantissas\":[1,2,5]}},\"formatter\":{\"type\":\"object\",\"name\":\"BasicTickFormatter\",\"id\":\"p2853\"},\"axis_label\":\"dayspost121823\",\"major_label_policy\":{\"type\":\"object\",\"name\":\"AllLabels\",\"id\":\"p2854\"}}}],\"center\":[{\"type\":\"object\",\"name\":\"Grid\",\"id\":\"p2855\",\"attributes\":{\"axis\":{\"id\":\"p2851\"},\"grid_line_color\":null}},{\"type\":\"object\",\"name\":\"Grid\",\"id\":\"p2860\",\"attributes\":{\"dimension\":1,\"axis\":{\"id\":\"p2856\"},\"grid_line_color\":null}}],\"min_border_top\":10,\"min_border_bottom\":10,\"min_border_left\":10,\"min_border_right\":10,\"output_backend\":\"webgl\"}},{\"type\":\"object\",\"name\":\"Spacer\",\"id\":\"p2893\",\"attributes\":{\"name\":\"HSpacer05182\",\"stylesheets\":[\"\\n:host(.pn-loading.pn-arc):before, .pn-loading.pn-arc:before {\\n  background-image: url(\\\"data:image/svg+xml;base64,PHN2ZyB4bWxucz0iaHR0cDovL3d3dy53My5vcmcvMjAwMC9zdmciIHN0eWxlPSJtYXJnaW46IGF1dG87IGJhY2tncm91bmQ6IG5vbmU7IGRpc3BsYXk6IGJsb2NrOyBzaGFwZS1yZW5kZXJpbmc6IGF1dG87IiB2aWV3Qm94PSIwIDAgMTAwIDEwMCIgcHJlc2VydmVBc3BlY3RSYXRpbz0ieE1pZFlNaWQiPiAgPGNpcmNsZSBjeD0iNTAiIGN5PSI1MCIgZmlsbD0ibm9uZSIgc3Ryb2tlPSIjYzNjM2MzIiBzdHJva2Utd2lkdGg9IjEwIiByPSIzNSIgc3Ryb2tlLWRhc2hhcnJheT0iMTY0LjkzMzYxNDMxMzQ2NDE1IDU2Ljk3Nzg3MTQzNzgyMTM4Ij4gICAgPGFuaW1hdGVUcmFuc2Zvcm0gYXR0cmlidXRlTmFtZT0idHJhbnNmb3JtIiB0eXBlPSJyb3RhdGUiIHJlcGVhdENvdW50PSJpbmRlZmluaXRlIiBkdXI9IjFzIiB2YWx1ZXM9IjAgNTAgNTA7MzYwIDUwIDUwIiBrZXlUaW1lcz0iMDsxIj48L2FuaW1hdGVUcmFuc2Zvcm0+ICA8L2NpcmNsZT48L3N2Zz4=\\\");\\n  background-size: auto calc(min(50%, 400px));\\n}\",{\"id\":\"p2827\"},{\"id\":\"p2825\"},{\"id\":\"p2826\"}],\"margin\":0,\"sizing_mode\":\"stretch_width\",\"align\":\"start\"}}]}}],\"defs\":[{\"type\":\"model\",\"name\":\"ReactiveHTML1\"},{\"type\":\"model\",\"name\":\"FlexBox1\",\"properties\":[{\"name\":\"align_content\",\"kind\":\"Any\",\"default\":\"flex-start\"},{\"name\":\"align_items\",\"kind\":\"Any\",\"default\":\"flex-start\"},{\"name\":\"flex_direction\",\"kind\":\"Any\",\"default\":\"row\"},{\"name\":\"flex_wrap\",\"kind\":\"Any\",\"default\":\"wrap\"},{\"name\":\"justify_content\",\"kind\":\"Any\",\"default\":\"flex-start\"}]},{\"type\":\"model\",\"name\":\"FloatPanel1\",\"properties\":[{\"name\":\"config\",\"kind\":\"Any\",\"default\":{\"type\":\"map\"}},{\"name\":\"contained\",\"kind\":\"Any\",\"default\":true},{\"name\":\"position\",\"kind\":\"Any\",\"default\":\"right-top\"},{\"name\":\"offsetx\",\"kind\":\"Any\",\"default\":null},{\"name\":\"offsety\",\"kind\":\"Any\",\"default\":null},{\"name\":\"theme\",\"kind\":\"Any\",\"default\":\"primary\"},{\"name\":\"status\",\"kind\":\"Any\",\"default\":\"normalized\"}]},{\"type\":\"model\",\"name\":\"GridStack1\",\"properties\":[{\"name\":\"mode\",\"kind\":\"Any\",\"default\":\"warn\"},{\"name\":\"ncols\",\"kind\":\"Any\",\"default\":null},{\"name\":\"nrows\",\"kind\":\"Any\",\"default\":null},{\"name\":\"allow_resize\",\"kind\":\"Any\",\"default\":true},{\"name\":\"allow_drag\",\"kind\":\"Any\",\"default\":true},{\"name\":\"state\",\"kind\":\"Any\",\"default\":[]}]},{\"type\":\"model\",\"name\":\"drag1\",\"properties\":[{\"name\":\"slider_width\",\"kind\":\"Any\",\"default\":5},{\"name\":\"slider_color\",\"kind\":\"Any\",\"default\":\"black\"},{\"name\":\"value\",\"kind\":\"Any\",\"default\":50}]},{\"type\":\"model\",\"name\":\"click1\",\"properties\":[{\"name\":\"terminal_output\",\"kind\":\"Any\",\"default\":\"\"},{\"name\":\"debug_name\",\"kind\":\"Any\",\"default\":\"\"},{\"name\":\"clears\",\"kind\":\"Any\",\"default\":0}]},{\"type\":\"model\",\"name\":\"FastWrapper1\",\"properties\":[{\"name\":\"object\",\"kind\":\"Any\",\"default\":null},{\"name\":\"style\",\"kind\":\"Any\",\"default\":null}]},{\"type\":\"model\",\"name\":\"NotificationAreaBase1\",\"properties\":[{\"name\":\"js_events\",\"kind\":\"Any\",\"default\":{\"type\":\"map\"}},{\"name\":\"position\",\"kind\":\"Any\",\"default\":\"bottom-right\"},{\"name\":\"_clear\",\"kind\":\"Any\",\"default\":0}]},{\"type\":\"model\",\"name\":\"NotificationArea1\",\"properties\":[{\"name\":\"js_events\",\"kind\":\"Any\",\"default\":{\"type\":\"map\"}},{\"name\":\"notifications\",\"kind\":\"Any\",\"default\":[]},{\"name\":\"position\",\"kind\":\"Any\",\"default\":\"bottom-right\"},{\"name\":\"_clear\",\"kind\":\"Any\",\"default\":0},{\"name\":\"types\",\"kind\":\"Any\",\"default\":[{\"type\":\"map\",\"entries\":[[\"type\",\"warning\"],[\"background\",\"#ffc107\"],[\"icon\",{\"type\":\"map\",\"entries\":[[\"className\",\"fas fa-exclamation-triangle\"],[\"tagName\",\"i\"],[\"color\",\"white\"]]}]]},{\"type\":\"map\",\"entries\":[[\"type\",\"info\"],[\"background\",\"#007bff\"],[\"icon\",{\"type\":\"map\",\"entries\":[[\"className\",\"fas fa-info-circle\"],[\"tagName\",\"i\"],[\"color\",\"white\"]]}]]}]}]},{\"type\":\"model\",\"name\":\"Notification\",\"properties\":[{\"name\":\"background\",\"kind\":\"Any\",\"default\":null},{\"name\":\"duration\",\"kind\":\"Any\",\"default\":3000},{\"name\":\"icon\",\"kind\":\"Any\",\"default\":null},{\"name\":\"message\",\"kind\":\"Any\",\"default\":\"\"},{\"name\":\"notification_type\",\"kind\":\"Any\",\"default\":null},{\"name\":\"_destroyed\",\"kind\":\"Any\",\"default\":false}]},{\"type\":\"model\",\"name\":\"TemplateActions1\",\"properties\":[{\"name\":\"open_modal\",\"kind\":\"Any\",\"default\":0},{\"name\":\"close_modal\",\"kind\":\"Any\",\"default\":0}]},{\"type\":\"model\",\"name\":\"BootstrapTemplateActions1\",\"properties\":[{\"name\":\"open_modal\",\"kind\":\"Any\",\"default\":0},{\"name\":\"close_modal\",\"kind\":\"Any\",\"default\":0}]},{\"type\":\"model\",\"name\":\"MaterialTemplateActions1\",\"properties\":[{\"name\":\"open_modal\",\"kind\":\"Any\",\"default\":0},{\"name\":\"close_modal\",\"kind\":\"Any\",\"default\":0}]}]}};\n",
       "  var render_items = [{\"docid\":\"db336cbb-4b7d-41e8-b779-c3770022f6ec\",\"roots\":{\"p2824\":\"a3f1ba65-99bb-4b9f-8722-889c852fbfb1\"},\"root_ids\":[\"p2824\"]}];\n",
       "  var docs = Object.values(docs_json)\n",
       "  if (!docs) {\n",
       "    return\n",
       "  }\n",
       "  const py_version = docs[0].version.replace('rc', '-rc.').replace('.dev', '-dev.')\n",
       "  const is_dev = py_version.indexOf(\"+\") !== -1 || py_version.indexOf(\"-\") !== -1\n",
       "  function embed_document(root) {\n",
       "    var Bokeh = get_bokeh(root)\n",
       "    Bokeh.embed.embed_items_notebook(docs_json, render_items);\n",
       "    for (const render_item of render_items) {\n",
       "      for (const root_id of render_item.root_ids) {\n",
       "\tconst id_el = document.getElementById(root_id)\n",
       "\tif (id_el.children.length && (id_el.children[0].className === 'bk-root')) {\n",
       "\t  const root_el = id_el.children[0]\n",
       "\t  root_el.id = root_el.id + '-rendered'\n",
       "\t}\n",
       "      }\n",
       "    }\n",
       "  }\n",
       "  function get_bokeh(root) {\n",
       "    if (root.Bokeh === undefined) {\n",
       "      return null\n",
       "    } else if (root.Bokeh.version !== py_version && !is_dev) {\n",
       "      if (root.Bokeh.versions === undefined || !root.Bokeh.versions.has(py_version)) {\n",
       "\treturn null\n",
       "      }\n",
       "      return root.Bokeh.versions.get(py_version);\n",
       "    } else if (root.Bokeh.version === py_version) {\n",
       "      return root.Bokeh\n",
       "    }\n",
       "    return null\n",
       "  }\n",
       "  function is_loaded(root) {\n",
       "    var Bokeh = get_bokeh(root)\n",
       "    return (Bokeh != null && Bokeh.Panel !== undefined)\n",
       "  }\n",
       "  if (is_loaded(root)) {\n",
       "    embed_document(root);\n",
       "  } else {\n",
       "    var attempts = 0;\n",
       "    var timer = setInterval(function(root) {\n",
       "      if (is_loaded(root)) {\n",
       "        clearInterval(timer);\n",
       "        embed_document(root);\n",
       "      } else if (document.readyState == \"complete\") {\n",
       "        attempts++;\n",
       "        if (attempts > 200) {\n",
       "          clearInterval(timer);\n",
       "\t  var Bokeh = get_bokeh(root)\n",
       "\t  if (Bokeh == null || Bokeh.Panel == null) {\n",
       "            console.warn(\"Panel: ERROR: Unable to run Panel code because Bokeh or Panel library is missing\");\n",
       "\t  } else {\n",
       "\t    console.warn(\"Panel: WARNING: Attempting to render but not all required libraries could be resolved.\")\n",
       "\t    embed_document(root)\n",
       "\t  }\n",
       "        }\n",
       "      }\n",
       "    }, 25, root)\n",
       "  }\n",
       "})(window);</script>"
      ],
      "text/plain": [
       ":Overlay\n",
       "   .Curve.I   :Curve   [dayspost121823]   (close_predicted)\n",
       "   .Scatter.I :Scatter   [dayspost121823]   (Close)"
      ]
     },
     "execution_count": 198,
     "metadata": {
      "application/vnd.holoviews_exec.v0+json": {
       "id": "p2824"
      }
     },
     "output_type": "execute_result"
    }
   ],
   "source": [
    "X_poly = close_data[\"dayspost121823\"].values.reshape(-1, 1)\n",
    "\n",
    "from sklearn.preprocessing import PolynomialFeatures\n",
    "poly = PolynomialFeatures(degree=2, include_bias=False)\n",
    "poly_features = poly.fit_transform(X_poly)\n",
    "\n",
    "poly_model = LinearRegression()\n",
    "poly_model.fit(poly_features, y)\n",
    "\n",
    "# Make predictions using the X set\n",
    "predicted_y_values_poly = poly_model.predict(poly_features)\n",
    "# Create a copy of the original data\n",
    "df_close_predicted_poly = close_data.copy()\n",
    "\n",
    "# Add a column with the predicted salary values\n",
    "df_close_predicted_poly[\"close_predicted\"] = predicted_y_values_poly\n",
    "\n",
    "\n",
    "best_fit_line_3_poly = df_close_predicted_poly.hvplot.line(\n",
    "    x = \"dayspost121823\",\n",
    "    y = \"close_predicted\",\n",
    "    color = \"red\"\n",
    ")\n",
    "\n",
    "\n",
    "# Create a scatter plot with the closing price information\n",
    "salary_plot_3_poly = df_close_predicted_poly.hvplot.scatter(\n",
    "    x=\"dayspost121823\",\n",
    "    y=\"Close\",\n",
    "    title=\"SPY Daily Closing Price\"\n",
    ")\n",
    "\n",
    "best_fit_line_3_poly * salary_plot_3_poly\n"
   ]
  },
  {
   "cell_type": "code",
   "execution_count": 199,
   "id": "b2a2d540",
   "metadata": {},
   "outputs": [],
   "source": [
    "# Import relevant metrics - score, r2, mse, rmse, std - from Scikit-learn\n",
    "from sklearn.metrics import mean_squared_error, r2_score\n",
    "# Compute the metrics for the linear regression model\n",
    "score = model.score(X, y, sample_weight=None)\n",
    "r2 = r2_score(y, predicted_y_values)\n",
    "mse = mean_squared_error(y, predicted_y_values)\n",
    "rmse = np.sqrt(mse)\n",
    "std = np.std(y)"
   ]
  },
  {
   "cell_type": "code",
   "execution_count": 200,
   "id": "94832076",
   "metadata": {},
   "outputs": [
    {
     "name": "stdout",
     "output_type": "stream",
     "text": [
      "The score is 0.02079927739628651.\n",
      "The r2 is 0.02079927739628651.\n",
      "The mean squared error is 9.022078885370577.\n",
      "The root mean squared error is 3.003677560153649.\n",
      "The standard deviation is 3.0354106069192848.\n"
     ]
    }
   ],
   "source": [
    "# Print relevant metrics.\n",
    "print(f\"The score is {score}.\")\n",
    "print(f\"The r2 is {r2}.\")\n",
    "print(f\"The mean squared error is {mse}.\")\n",
    "print(f\"The root mean squared error is {rmse}.\")\n",
    "print(f\"The standard deviation is {std}.\")"
   ]
  },
  {
   "cell_type": "markdown",
   "id": "0c5f4fa9",
   "metadata": {},
   "source": [
    "The r-squared value is generally a good measure of how strong a linear association is between two variables. In more detail, it basically describe how much of the variation in the actual data (aka the true closing price of the SPY at a given x days after 12/18/2023) is accounted for by the linear regression model (represented in the best fit line in red). The close r-squared is to either -1 or 1, the more variation of the closing prices can be accounted for by the model, and the inverse is true if closer to 0.\n",
    "\n",
    "In this model, the r-squared value is 0.02. This indicates that very little to none of the variation in the closing prices can be accounted for by the linear regression alone. Another test will be conducted with more data to determine if the r-squared value can be changed. It may also be necessary to split the data into training and testing data if sufficent data is provided (which should not be an issue since we can utilize up to 10 years of history if time allows)."
   ]
  },
  {
   "cell_type": "code",
   "execution_count": 201,
   "id": "92e94acd",
   "metadata": {},
   "outputs": [],
   "source": [
    "# Notes on Linear Regression: \n",
    "# Linear regression: y = slope * x + y-intercept\n",
    "# y = price\n",
    "# x = days after start date\n",
    "# slope = change in price/difference in days"
   ]
  },
  {
   "cell_type": "markdown",
   "id": "581c9b70",
   "metadata": {},
   "source": [
    "# Linear Regression Model on 1 Year of SPY Data"
   ]
  },
  {
   "cell_type": "markdown",
   "id": "06c71688",
   "metadata": {},
   "source": [
    "## Data Set-Up"
   ]
  },
  {
   "cell_type": "code",
   "execution_count": 202,
   "id": "e127e751",
   "metadata": {},
   "outputs": [
    {
     "name": "stdout",
     "output_type": "stream",
     "text": [
      "[*********************100%%**********************]  1 of 1 completed\n",
      "<class 'pandas.core.frame.DataFrame'>\n",
      "RangeIndex: 250 entries, 0 to 249\n",
      "Data columns (total 2 columns):\n",
      " #   Column  Non-Null Count  Dtype         \n",
      "---  ------  --------------  -----         \n",
      " 0   Date    250 non-null    datetime64[ns]\n",
      " 1   Close   250 non-null    float64       \n",
      "dtypes: datetime64[ns](1), float64(1)\n",
      "memory usage: 4.0 KB\n",
      "2023-01-03 00:00:00\n",
      "<class 'pandas.core.frame.DataFrame'>\n",
      "RangeIndex: 250 entries, 0 to 249\n",
      "Data columns (total 3 columns):\n",
      " #   Column        Non-Null Count  Dtype          \n",
      "---  ------        --------------  -----          \n",
      " 0   Date          250 non-null    datetime64[ns] \n",
      " 1   Close         250 non-null    float64        \n",
      " 2   dayspost1123  250 non-null    timedelta64[ns]\n",
      "dtypes: datetime64[ns](1), float64(1), timedelta64[ns](1)\n",
      "memory usage: 6.0 KB\n"
     ]
    },
    {
     "data": {
      "text/html": [
       "<div>\n",
       "<style scoped>\n",
       "    .dataframe tbody tr th:only-of-type {\n",
       "        vertical-align: middle;\n",
       "    }\n",
       "\n",
       "    .dataframe tbody tr th {\n",
       "        vertical-align: top;\n",
       "    }\n",
       "\n",
       "    .dataframe thead th {\n",
       "        text-align: right;\n",
       "    }\n",
       "</style>\n",
       "<table border=\"1\" class=\"dataframe\">\n",
       "  <thead>\n",
       "    <tr style=\"text-align: right;\">\n",
       "      <th></th>\n",
       "      <th>Date</th>\n",
       "      <th>dayspost1123</th>\n",
       "      <th>Close</th>\n",
       "    </tr>\n",
       "  </thead>\n",
       "  <tbody>\n",
       "    <tr>\n",
       "      <th>0</th>\n",
       "      <td>2023-01-03</td>\n",
       "      <td>0</td>\n",
       "      <td>380.820007</td>\n",
       "    </tr>\n",
       "    <tr>\n",
       "      <th>1</th>\n",
       "      <td>2023-01-04</td>\n",
       "      <td>1</td>\n",
       "      <td>383.760010</td>\n",
       "    </tr>\n",
       "    <tr>\n",
       "      <th>2</th>\n",
       "      <td>2023-01-05</td>\n",
       "      <td>2</td>\n",
       "      <td>379.380005</td>\n",
       "    </tr>\n",
       "    <tr>\n",
       "      <th>3</th>\n",
       "      <td>2023-01-06</td>\n",
       "      <td>3</td>\n",
       "      <td>388.079987</td>\n",
       "    </tr>\n",
       "    <tr>\n",
       "      <th>4</th>\n",
       "      <td>2023-01-09</td>\n",
       "      <td>6</td>\n",
       "      <td>387.859985</td>\n",
       "    </tr>\n",
       "    <tr>\n",
       "      <th>...</th>\n",
       "      <td>...</td>\n",
       "      <td>...</td>\n",
       "      <td>...</td>\n",
       "    </tr>\n",
       "    <tr>\n",
       "      <th>245</th>\n",
       "      <td>2023-12-22</td>\n",
       "      <td>353</td>\n",
       "      <td>473.649994</td>\n",
       "    </tr>\n",
       "    <tr>\n",
       "      <th>246</th>\n",
       "      <td>2023-12-26</td>\n",
       "      <td>357</td>\n",
       "      <td>475.649994</td>\n",
       "    </tr>\n",
       "    <tr>\n",
       "      <th>247</th>\n",
       "      <td>2023-12-27</td>\n",
       "      <td>358</td>\n",
       "      <td>476.510010</td>\n",
       "    </tr>\n",
       "    <tr>\n",
       "      <th>248</th>\n",
       "      <td>2023-12-28</td>\n",
       "      <td>359</td>\n",
       "      <td>476.690002</td>\n",
       "    </tr>\n",
       "    <tr>\n",
       "      <th>249</th>\n",
       "      <td>2023-12-29</td>\n",
       "      <td>360</td>\n",
       "      <td>475.309998</td>\n",
       "    </tr>\n",
       "  </tbody>\n",
       "</table>\n",
       "<p>250 rows × 3 columns</p>\n",
       "</div>"
      ],
      "text/plain": [
       "          Date  dayspost1123       Close\n",
       "0   2023-01-03             0  380.820007\n",
       "1   2023-01-04             1  383.760010\n",
       "2   2023-01-05             2  379.380005\n",
       "3   2023-01-06             3  388.079987\n",
       "4   2023-01-09             6  387.859985\n",
       "..         ...           ...         ...\n",
       "245 2023-12-22           353  473.649994\n",
       "246 2023-12-26           357  475.649994\n",
       "247 2023-12-27           358  476.510010\n",
       "248 2023-12-28           359  476.690002\n",
       "249 2023-12-29           360  475.309998\n",
       "\n",
       "[250 rows x 3 columns]"
      ]
     },
     "execution_count": 202,
     "metadata": {},
     "output_type": "execute_result"
    }
   ],
   "source": [
    "# importing dependencies\n",
    "import yfinance as yf\n",
    "import pandas as pd\n",
    "import numpy as np\n",
    "from pathlib import Path\n",
    "from sklearn.linear_model import LinearRegression\n",
    "import datetime as dt\n",
    "\n",
    "# Obtaining data for SPY from the year 2023\n",
    "data = yf.download(\"SPY\", start = \"2023-1-1\", end = \"2023-12-31\")\n",
    "\n",
    "# Creating a dataframe with only Date and Closing Price\n",
    "close_df = data[[\"Close\"]]\n",
    "\n",
    "# Verifying data within dataframe\n",
    "close_df.head()\n",
    "\n",
    "# Resetting index to manipulate date column\n",
    "close_df = close_df.reset_index()\n",
    "\n",
    "# Verifying datatype of date\n",
    "close_df.info()\n",
    "\n",
    "# Saving earliest date for calculations\n",
    "start_date_1y = close_df[\"Date\"][0]\n",
    "print(start_date_1y)\n",
    "\n",
    "# Creating a new column (dayspost121823) for count of days after start_date_1y\n",
    "close_df['dayspost1123'] = close_df[\"Date\"] - start_date_1y\n",
    "close_df\n",
    "\n",
    "# Verifying datatype for new column\n",
    "close_df.info()\n",
    "\n",
    "# Converting new column datatype into integer\n",
    "close_df['dayspost1123'] = close_df[\"dayspost1123\"].dt.days\n",
    "close_df\n",
    "\n",
    "# Rearranging the dataframe\n",
    "close_df = close_df[['Date', 'dayspost1123', 'Close']]\n",
    "close_df"
   ]
  },
  {
   "cell_type": "markdown",
   "id": "dec09a43",
   "metadata": {},
   "source": [
    "## Linear Regression Model Set-Up"
   ]
  },
  {
   "cell_type": "code",
   "execution_count": 203,
   "id": "6e0e1dc0",
   "metadata": {},
   "outputs": [
    {
     "data": {
      "text/html": [
       "<style>#sk-container-id-15 {color: black;background-color: white;}#sk-container-id-15 pre{padding: 0;}#sk-container-id-15 div.sk-toggleable {background-color: white;}#sk-container-id-15 label.sk-toggleable__label {cursor: pointer;display: block;width: 100%;margin-bottom: 0;padding: 0.3em;box-sizing: border-box;text-align: center;}#sk-container-id-15 label.sk-toggleable__label-arrow:before {content: \"▸\";float: left;margin-right: 0.25em;color: #696969;}#sk-container-id-15 label.sk-toggleable__label-arrow:hover:before {color: black;}#sk-container-id-15 div.sk-estimator:hover label.sk-toggleable__label-arrow:before {color: black;}#sk-container-id-15 div.sk-toggleable__content {max-height: 0;max-width: 0;overflow: hidden;text-align: left;background-color: #f0f8ff;}#sk-container-id-15 div.sk-toggleable__content pre {margin: 0.2em;color: black;border-radius: 0.25em;background-color: #f0f8ff;}#sk-container-id-15 input.sk-toggleable__control:checked~div.sk-toggleable__content {max-height: 200px;max-width: 100%;overflow: auto;}#sk-container-id-15 input.sk-toggleable__control:checked~label.sk-toggleable__label-arrow:before {content: \"▾\";}#sk-container-id-15 div.sk-estimator input.sk-toggleable__control:checked~label.sk-toggleable__label {background-color: #d4ebff;}#sk-container-id-15 div.sk-label input.sk-toggleable__control:checked~label.sk-toggleable__label {background-color: #d4ebff;}#sk-container-id-15 input.sk-hidden--visually {border: 0;clip: rect(1px 1px 1px 1px);clip: rect(1px, 1px, 1px, 1px);height: 1px;margin: -1px;overflow: hidden;padding: 0;position: absolute;width: 1px;}#sk-container-id-15 div.sk-estimator {font-family: monospace;background-color: #f0f8ff;border: 1px dotted black;border-radius: 0.25em;box-sizing: border-box;margin-bottom: 0.5em;}#sk-container-id-15 div.sk-estimator:hover {background-color: #d4ebff;}#sk-container-id-15 div.sk-parallel-item::after {content: \"\";width: 100%;border-bottom: 1px solid gray;flex-grow: 1;}#sk-container-id-15 div.sk-label:hover label.sk-toggleable__label {background-color: #d4ebff;}#sk-container-id-15 div.sk-serial::before {content: \"\";position: absolute;border-left: 1px solid gray;box-sizing: border-box;top: 0;bottom: 0;left: 50%;z-index: 0;}#sk-container-id-15 div.sk-serial {display: flex;flex-direction: column;align-items: center;background-color: white;padding-right: 0.2em;padding-left: 0.2em;position: relative;}#sk-container-id-15 div.sk-item {position: relative;z-index: 1;}#sk-container-id-15 div.sk-parallel {display: flex;align-items: stretch;justify-content: center;background-color: white;position: relative;}#sk-container-id-15 div.sk-item::before, #sk-container-id-15 div.sk-parallel-item::before {content: \"\";position: absolute;border-left: 1px solid gray;box-sizing: border-box;top: 0;bottom: 0;left: 50%;z-index: -1;}#sk-container-id-15 div.sk-parallel-item {display: flex;flex-direction: column;z-index: 1;position: relative;background-color: white;}#sk-container-id-15 div.sk-parallel-item:first-child::after {align-self: flex-end;width: 50%;}#sk-container-id-15 div.sk-parallel-item:last-child::after {align-self: flex-start;width: 50%;}#sk-container-id-15 div.sk-parallel-item:only-child::after {width: 0;}#sk-container-id-15 div.sk-dashed-wrapped {border: 1px dashed gray;margin: 0 0.4em 0.5em 0.4em;box-sizing: border-box;padding-bottom: 0.4em;background-color: white;}#sk-container-id-15 div.sk-label label {font-family: monospace;font-weight: bold;display: inline-block;line-height: 1.2em;}#sk-container-id-15 div.sk-label-container {text-align: center;}#sk-container-id-15 div.sk-container {/* jupyter's `normalize.less` sets `[hidden] { display: none; }` but bootstrap.min.css set `[hidden] { display: none !important; }` so we also need the `!important` here to be able to override the default hidden behavior on the sphinx rendered scikit-learn.org. See: https://github.com/scikit-learn/scikit-learn/issues/21755 */display: inline-block !important;position: relative;}#sk-container-id-15 div.sk-text-repr-fallback {display: none;}</style><div id=\"sk-container-id-15\" class=\"sk-top-container\"><div class=\"sk-text-repr-fallback\"><pre>LinearRegression()</pre><b>In a Jupyter environment, please rerun this cell to show the HTML representation or trust the notebook. <br />On GitHub, the HTML representation is unable to render, please try loading this page with nbviewer.org.</b></div><div class=\"sk-container\" hidden><div class=\"sk-item\"><div class=\"sk-estimator sk-toggleable\"><input class=\"sk-toggleable__control sk-hidden--visually\" id=\"sk-estimator-id-15\" type=\"checkbox\" checked><label for=\"sk-estimator-id-15\" class=\"sk-toggleable__label sk-toggleable__label-arrow\">LinearRegression</label><div class=\"sk-toggleable__content\"><pre>LinearRegression()</pre></div></div></div></div></div>"
      ],
      "text/plain": [
       "LinearRegression()"
      ]
     },
     "execution_count": 203,
     "metadata": {},
     "output_type": "execute_result"
    }
   ],
   "source": [
    "# Reformat data of the independent variable X as a single-column array\n",
    "X = close_df[\"dayspost1123\"].values.reshape(-1, 1)\n",
    "\n",
    "# Display sample data\n",
    "X[:5]\n",
    "\n",
    "# The shape of X should be 20 samples, with a single feature (column)\n",
    "X.shape\n",
    "\n",
    "# Create an array for the dependent variable y\n",
    "y = close_df[\"Close\"]\n",
    "\n",
    "# Create a model with scikit-learn\n",
    "model = LinearRegression()\n",
    "\n",
    "# Fit the data into the model\n",
    "model.fit(X, y)"
   ]
  },
  {
   "cell_type": "markdown",
   "id": "bdc2b5fa",
   "metadata": {},
   "source": [
    "## Linear Regression Model Predictions"
   ]
  },
  {
   "cell_type": "code",
   "execution_count": 204,
   "id": "e7020032",
   "metadata": {},
   "outputs": [
    {
     "name": "stdout",
     "output_type": "stream",
     "text": [
      "Model's slope: [0.18451151]\n",
      "Model's y-intercept: 394.08353917248587\n",
      "Model's formula: y = 0.1845115051391308X + 394.08353917248587\n",
      "Model's formula: y = 0.1845115051391308 * 7 + 394.08353917248587\n",
      "Predicted closing price of SPY after 7 days: $395.38\n"
     ]
    },
    {
     "data": {
      "text/html": [
       "<div>\n",
       "<style scoped>\n",
       "    .dataframe tbody tr th:only-of-type {\n",
       "        vertical-align: middle;\n",
       "    }\n",
       "\n",
       "    .dataframe tbody tr th {\n",
       "        vertical-align: top;\n",
       "    }\n",
       "\n",
       "    .dataframe thead th {\n",
       "        text-align: right;\n",
       "    }\n",
       "</style>\n",
       "<table border=\"1\" class=\"dataframe\">\n",
       "  <thead>\n",
       "    <tr style=\"text-align: right;\">\n",
       "      <th></th>\n",
       "      <th>Date</th>\n",
       "      <th>dayspost1123</th>\n",
       "      <th>Close</th>\n",
       "      <th>close_predicted</th>\n",
       "    </tr>\n",
       "  </thead>\n",
       "  <tbody>\n",
       "    <tr>\n",
       "      <th>0</th>\n",
       "      <td>2023-01-03</td>\n",
       "      <td>0</td>\n",
       "      <td>380.820007</td>\n",
       "      <td>394.083539</td>\n",
       "    </tr>\n",
       "    <tr>\n",
       "      <th>1</th>\n",
       "      <td>2023-01-04</td>\n",
       "      <td>1</td>\n",
       "      <td>383.760010</td>\n",
       "      <td>394.268051</td>\n",
       "    </tr>\n",
       "    <tr>\n",
       "      <th>2</th>\n",
       "      <td>2023-01-05</td>\n",
       "      <td>2</td>\n",
       "      <td>379.380005</td>\n",
       "      <td>394.452562</td>\n",
       "    </tr>\n",
       "    <tr>\n",
       "      <th>3</th>\n",
       "      <td>2023-01-06</td>\n",
       "      <td>3</td>\n",
       "      <td>388.079987</td>\n",
       "      <td>394.637074</td>\n",
       "    </tr>\n",
       "    <tr>\n",
       "      <th>4</th>\n",
       "      <td>2023-01-09</td>\n",
       "      <td>6</td>\n",
       "      <td>387.859985</td>\n",
       "      <td>395.190608</td>\n",
       "    </tr>\n",
       "  </tbody>\n",
       "</table>\n",
       "</div>"
      ],
      "text/plain": [
       "        Date  dayspost1123       Close  close_predicted\n",
       "0 2023-01-03             0  380.820007       394.083539\n",
       "1 2023-01-04             1  383.760010       394.268051\n",
       "2 2023-01-05             2  379.380005       394.452562\n",
       "3 2023-01-06             3  388.079987       394.637074\n",
       "4 2023-01-09             6  387.859985       395.190608"
      ]
     },
     "execution_count": 204,
     "metadata": {},
     "output_type": "execute_result"
    }
   ],
   "source": [
    "# Display the slope\n",
    "print(f\"Model's slope: {model.coef_}\")\n",
    "\n",
    "# Display the y-intercept\n",
    "print(f\"Model's y-intercept: {model.intercept_}\")\n",
    "\n",
    "# Display the model's best fit line formula\n",
    "print(f\"Model's formula: y = {model.coef_[0]}X + {model.intercept_}\")\n",
    "\n",
    "# Display the formula to predict the closing price of SPY 1 week (7 days) after start date\n",
    "print(f\"Model's formula: y = {model.coef_[0]} * 7 + {model.intercept_}\")\n",
    "\n",
    "# Predict the closing price of SPY 1 week after start date\n",
    "y_7 = model.intercept_ + model.coef_[0] * 7\n",
    "\n",
    "# Display the prediction\n",
    "print(f\"Predicted closing price of SPY after 7 days: ${y_7:.2f}\")\n",
    "\n",
    "# Make predictions using the X set\n",
    "predicted_y_values = model.predict(X)\n",
    "# Create a copy of the original data\n",
    "df_closed_predicted = close_df.copy()\n",
    "\n",
    "# Add a column with the predicted salary values\n",
    "df_closed_predicted[\"close_predicted\"] = predicted_y_values\n",
    "\n",
    "# Display sample data\n",
    "df_closed_predicted.head()"
   ]
  },
  {
   "cell_type": "markdown",
   "id": "28e380c8",
   "metadata": {},
   "source": [
    "## Adding Plots and Analyzing Findings"
   ]
  },
  {
   "cell_type": "code",
   "execution_count": 205,
   "id": "ae8e31c6",
   "metadata": {},
   "outputs": [
    {
     "name": "stdout",
     "output_type": "stream",
     "text": [
      "The score is 0.7033901684158216.\n",
      "The r2 is 0.7033901684158216.\n",
      "The mean squared error is 156.6321334368707.\n",
      "The root mean squared error is 12.515276003223848.\n",
      "The standard deviation is 22.97987492288892.\n"
     ]
    }
   ],
   "source": [
    "# Create a line plot of the predicted closing prices\n",
    "import numpy as np\n",
    "import hvplot.pandas\n",
    "best_fit_line_2 = df_closed_predicted.hvplot.line(\n",
    "    x = \"dayspost1123\",\n",
    "    y = \"close_predicted\",\n",
    "    color = \"red\"\n",
    ")\n",
    "\n",
    "\n",
    "# Create a scatter plot with the closing price information\n",
    "salary_plot_2 = df_closed_predicted.hvplot.scatter(\n",
    "    x=\"dayspost1123\",\n",
    "    y=\"Close\",\n",
    "    title=\"SPY Daily Closing Price\"\n",
    ")\n",
    "\n",
    "# Import relevant metrics - score, r2, mse, rmse, std - from Scikit-learn\n",
    "from sklearn.metrics import mean_squared_error, r2_score\n",
    "# Compute the metrics for the linear regression model\n",
    "score = model.score(X, y, sample_weight=None)\n",
    "r2 = r2_score(y, predicted_y_values)\n",
    "mse = mean_squared_error(y, predicted_y_values)\n",
    "rmse = np.sqrt(mse)\n",
    "std = np.std(y)\n",
    "\n",
    "# Print relevant metrics.\n",
    "print(f\"The score is {score}.\")\n",
    "print(f\"The r2 is {r2}.\")\n",
    "print(f\"The mean squared error is {mse}.\")\n",
    "print(f\"The root mean squared error is {rmse}.\")\n",
    "print(f\"The standard deviation is {std}.\")"
   ]
  },
  {
   "cell_type": "code",
   "execution_count": 206,
   "id": "6546924f",
   "metadata": {},
   "outputs": [
    {
     "data": {},
     "metadata": {},
     "output_type": "display_data"
    },
    {
     "data": {
      "application/vnd.holoviews_exec.v0+json": "",
      "text/html": [
       "<div id='p2901'>\n",
       "  <div id=\"e95abc65-1e94-46ff-bbba-c890ceb6d4d3\" data-root-id=\"p2901\" style=\"display: contents;\"></div>\n",
       "</div>\n",
       "<script type=\"application/javascript\">(function(root) {\n",
       "  var docs_json = {\"6d96665e-76ea-4829-8b16-17bb65c142f3\":{\"version\":\"3.2.1\",\"title\":\"Bokeh Application\",\"roots\":[{\"type\":\"object\",\"name\":\"Row\",\"id\":\"p2901\",\"attributes\":{\"name\":\"Row05406\",\"tags\":[\"embedded\"],\"stylesheets\":[\"\\n:host(.pn-loading.pn-arc):before, .pn-loading.pn-arc:before {\\n  background-image: url(\\\"data:image/svg+xml;base64,PHN2ZyB4bWxucz0iaHR0cDovL3d3dy53My5vcmcvMjAwMC9zdmciIHN0eWxlPSJtYXJnaW46IGF1dG87IGJhY2tncm91bmQ6IG5vbmU7IGRpc3BsYXk6IGJsb2NrOyBzaGFwZS1yZW5kZXJpbmc6IGF1dG87IiB2aWV3Qm94PSIwIDAgMTAwIDEwMCIgcHJlc2VydmVBc3BlY3RSYXRpbz0ieE1pZFlNaWQiPiAgPGNpcmNsZSBjeD0iNTAiIGN5PSI1MCIgZmlsbD0ibm9uZSIgc3Ryb2tlPSIjYzNjM2MzIiBzdHJva2Utd2lkdGg9IjEwIiByPSIzNSIgc3Ryb2tlLWRhc2hhcnJheT0iMTY0LjkzMzYxNDMxMzQ2NDE1IDU2Ljk3Nzg3MTQzNzgyMTM4Ij4gICAgPGFuaW1hdGVUcmFuc2Zvcm0gYXR0cmlidXRlTmFtZT0idHJhbnNmb3JtIiB0eXBlPSJyb3RhdGUiIHJlcGVhdENvdW50PSJpbmRlZmluaXRlIiBkdXI9IjFzIiB2YWx1ZXM9IjAgNTAgNTA7MzYwIDUwIDUwIiBrZXlUaW1lcz0iMDsxIj48L2FuaW1hdGVUcmFuc2Zvcm0+ICA8L2NpcmNsZT48L3N2Zz4=\\\");\\n  background-size: auto calc(min(50%, 400px));\\n}\",{\"type\":\"object\",\"name\":\"ImportedStyleSheet\",\"id\":\"p2904\",\"attributes\":{\"url\":\"https://cdn.holoviz.org/panel/1.2.1/dist/css/loading.css\"}},{\"type\":\"object\",\"name\":\"ImportedStyleSheet\",\"id\":\"p2972\",\"attributes\":{\"url\":\"https://cdn.holoviz.org/panel/1.2.1/dist/css/listpanel.css\"}},{\"type\":\"object\",\"name\":\"ImportedStyleSheet\",\"id\":\"p2902\",\"attributes\":{\"url\":\"https://cdn.holoviz.org/panel/1.2.1/dist/bundled/theme/default.css\"}},{\"type\":\"object\",\"name\":\"ImportedStyleSheet\",\"id\":\"p2903\",\"attributes\":{\"url\":\"https://cdn.holoviz.org/panel/1.2.1/dist/bundled/theme/native.css\"}}],\"min_width\":700,\"margin\":0,\"sizing_mode\":\"stretch_width\",\"align\":\"start\",\"children\":[{\"type\":\"object\",\"name\":\"Spacer\",\"id\":\"p2905\",\"attributes\":{\"name\":\"HSpacer05416\",\"stylesheets\":[\"\\n:host(.pn-loading.pn-arc):before, .pn-loading.pn-arc:before {\\n  background-image: url(\\\"data:image/svg+xml;base64,PHN2ZyB4bWxucz0iaHR0cDovL3d3dy53My5vcmcvMjAwMC9zdmciIHN0eWxlPSJtYXJnaW46IGF1dG87IGJhY2tncm91bmQ6IG5vbmU7IGRpc3BsYXk6IGJsb2NrOyBzaGFwZS1yZW5kZXJpbmc6IGF1dG87IiB2aWV3Qm94PSIwIDAgMTAwIDEwMCIgcHJlc2VydmVBc3BlY3RSYXRpbz0ieE1pZFlNaWQiPiAgPGNpcmNsZSBjeD0iNTAiIGN5PSI1MCIgZmlsbD0ibm9uZSIgc3Ryb2tlPSIjYzNjM2MzIiBzdHJva2Utd2lkdGg9IjEwIiByPSIzNSIgc3Ryb2tlLWRhc2hhcnJheT0iMTY0LjkzMzYxNDMxMzQ2NDE1IDU2Ljk3Nzg3MTQzNzgyMTM4Ij4gICAgPGFuaW1hdGVUcmFuc2Zvcm0gYXR0cmlidXRlTmFtZT0idHJhbnNmb3JtIiB0eXBlPSJyb3RhdGUiIHJlcGVhdENvdW50PSJpbmRlZmluaXRlIiBkdXI9IjFzIiB2YWx1ZXM9IjAgNTAgNTA7MzYwIDUwIDUwIiBrZXlUaW1lcz0iMDsxIj48L2FuaW1hdGVUcmFuc2Zvcm0+ICA8L2NpcmNsZT48L3N2Zz4=\\\");\\n  background-size: auto calc(min(50%, 400px));\\n}\",{\"id\":\"p2904\"},{\"id\":\"p2902\"},{\"id\":\"p2903\"}],\"margin\":0,\"sizing_mode\":\"stretch_width\",\"align\":\"start\"}},{\"type\":\"object\",\"name\":\"Figure\",\"id\":\"p2916\",\"attributes\":{\"width\":700,\"height\":300,\"margin\":[5,10],\"sizing_mode\":\"fixed\",\"align\":\"start\",\"x_range\":{\"type\":\"object\",\"name\":\"Range1d\",\"id\":\"p2906\",\"attributes\":{\"tags\":[[[\"dayspost1123\",\"dayspost1123\",null]],[]],\"start\":-15.428571428571429,\"end\":375.42857142857144,\"reset_start\":-15.428571428571429,\"reset_end\":375.42857142857144}},\"y_range\":{\"type\":\"object\",\"name\":\"Range1d\",\"id\":\"p2907\",\"attributes\":{\"tags\":[[[\"Close\",\"Close\",null]],{\"type\":\"map\",\"entries\":[[\"invert_yaxis\",false],[\"autorange\",false]]}],\"start\":369.6490051269531,\"end\":486.42100219726564,\"reset_start\":369.6490051269531,\"reset_end\":486.42100219726564}},\"x_scale\":{\"type\":\"object\",\"name\":\"LinearScale\",\"id\":\"p2926\"},\"y_scale\":{\"type\":\"object\",\"name\":\"LinearScale\",\"id\":\"p2927\"},\"title\":{\"type\":\"object\",\"name\":\"Title\",\"id\":\"p2919\",\"attributes\":{\"text\":\"SPY Daily Closing Price\",\"text_color\":\"black\",\"text_font_size\":\"12pt\"}},\"renderers\":[{\"type\":\"object\",\"name\":\"GlyphRenderer\",\"id\":\"p2952\",\"attributes\":{\"data_source\":{\"type\":\"object\",\"name\":\"ColumnDataSource\",\"id\":\"p2943\",\"attributes\":{\"selected\":{\"type\":\"object\",\"name\":\"Selection\",\"id\":\"p2944\",\"attributes\":{\"indices\":[],\"line_indices\":[]}},\"selection_policy\":{\"type\":\"object\",\"name\":\"UnionRenderers\",\"id\":\"p2945\"},\"data\":{\"type\":\"map\",\"entries\":[[\"dayspost1123\",{\"type\":\"ndarray\",\"array\":{\"type\":\"bytes\",\"data\":\"AAAAAAEAAAACAAAAAwAAAAYAAAAHAAAACAAAAAkAAAAKAAAADgAAAA8AAAAQAAAAEQAAABQAAAAVAAAAFgAAABcAAAAYAAAAGwAAABwAAAAdAAAAHgAAAB8AAAAiAAAAIwAAACQAAAAlAAAAJgAAACkAAAAqAAAAKwAAACwAAAAtAAAAMQAAADIAAAAzAAAANAAAADcAAAA4AAAAOQAAADoAAAA7AAAAPgAAAD8AAABAAAAAQQAAAEIAAABFAAAARgAAAEcAAABIAAAASQAAAEwAAABNAAAATgAAAE8AAABQAAAAUwAAAFQAAABVAAAAVgAAAFcAAABaAAAAWwAAAFwAAABdAAAAYQAAAGIAAABjAAAAZAAAAGUAAABoAAAAaQAAAGoAAABrAAAAbAAAAG8AAABwAAAAcQAAAHIAAABzAAAAdgAAAHcAAAB4AAAAeQAAAHoAAAB9AAAAfgAAAH8AAACAAAAAgQAAAIQAAACFAAAAhgAAAIcAAACIAAAAiwAAAIwAAACNAAAAjgAAAI8AAACTAAAAlAAAAJUAAACWAAAAmQAAAJoAAACbAAAAnAAAAJ0AAACgAAAAoQAAAKIAAACjAAAApAAAAKgAAACpAAAAqgAAAKsAAACuAAAArwAAALAAAACxAAAAsgAAALUAAAC3AAAAuAAAALkAAAC8AAAAvQAAAL4AAAC/AAAAwAAAAMMAAADEAAAAxQAAAMYAAADHAAAAygAAAMsAAADMAAAAzQAAAM4AAADRAAAA0gAAANMAAADUAAAA1QAAANgAAADZAAAA2gAAANsAAADcAAAA3wAAAOAAAADhAAAA4gAAAOMAAADmAAAA5wAAAOgAAADpAAAA6gAAAO0AAADuAAAA7wAAAPAAAADxAAAA9QAAAPYAAAD3AAAA+AAAAPsAAAD8AAAA/QAAAP4AAAD/AAAAAgEAAAMBAAAEAQAABQEAAAYBAAAJAQAACgEAAAsBAAAMAQAADQEAABABAAARAQAAEgEAABMBAAAUAQAAFwEAABgBAAAZAQAAGgEAABsBAAAeAQAAHwEAACABAAAhAQAAIgEAACUBAAAmAQAAJwEAACgBAAApAQAALAEAAC0BAAAuAQAALwEAADABAAAzAQAANAEAADUBAAA2AQAANwEAADoBAAA7AQAAPAEAAD0BAAA+AQAAQQEAAEIBAABDAQAARQEAAEgBAABJAQAASgEAAEsBAABMAQAATwEAAFABAABRAQAAUgEAAFMBAABWAQAAVwEAAFgBAABZAQAAWgEAAF0BAABeAQAAXwEAAGABAABhAQAAZQEAAGYBAABnAQAAaAEAAA==\"},\"shape\":[250],\"dtype\":\"int32\",\"order\":\"little\"}],[\"Close\",{\"type\":\"ndarray\",\"array\":{\"type\":\"bytes\",\"data\":\"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\"},\"shape\":[250],\"dtype\":\"float64\",\"order\":\"little\"}]]}}},\"view\":{\"type\":\"object\",\"name\":\"CDSView\",\"id\":\"p2953\",\"attributes\":{\"filter\":{\"type\":\"object\",\"name\":\"AllIndices\",\"id\":\"p2954\"}}},\"glyph\":{\"type\":\"object\",\"name\":\"Scatter\",\"id\":\"p2949\",\"attributes\":{\"tags\":[\"apply_ranges\"],\"x\":{\"type\":\"field\",\"field\":\"dayspost1123\"},\"y\":{\"type\":\"field\",\"field\":\"Close\"},\"size\":{\"type\":\"value\",\"value\":5.477225575051661},\"line_color\":{\"type\":\"value\",\"value\":\"#30a2da\"},\"fill_color\":{\"type\":\"value\",\"value\":\"#30a2da\"},\"hatch_color\":{\"type\":\"value\",\"value\":\"#30a2da\"}}},\"selection_glyph\":{\"type\":\"object\",\"name\":\"Scatter\",\"id\":\"p2955\",\"attributes\":{\"tags\":[\"apply_ranges\"],\"x\":{\"type\":\"field\",\"field\":\"dayspost1123\"},\"y\":{\"type\":\"field\",\"field\":\"Close\"},\"size\":{\"type\":\"value\",\"value\":5.477225575051661},\"angle\":{\"type\":\"value\",\"value\":0.0},\"line_color\":{\"type\":\"value\",\"value\":\"#30a2da\"},\"line_alpha\":{\"type\":\"value\",\"value\":1.0},\"line_width\":{\"type\":\"value\",\"value\":1},\"line_join\":{\"type\":\"value\",\"value\":\"bevel\"},\"line_cap\":{\"type\":\"value\",\"value\":\"butt\"},\"line_dash\":{\"type\":\"value\",\"value\":[]},\"line_dash_offset\":{\"type\":\"value\",\"value\":0},\"fill_color\":{\"type\":\"value\",\"value\":\"#30a2da\"},\"fill_alpha\":{\"type\":\"value\",\"value\":1.0},\"hatch_color\":{\"type\":\"value\",\"value\":\"#30a2da\"},\"hatch_alpha\":{\"type\":\"value\",\"value\":1.0},\"hatch_scale\":{\"type\":\"value\",\"value\":12.0},\"hatch_pattern\":{\"type\":\"value\",\"value\":null},\"hatch_weight\":{\"type\":\"value\",\"value\":1.0},\"marker\":{\"type\":\"value\",\"value\":\"circle\"}}},\"nonselection_glyph\":{\"type\":\"object\",\"name\":\"Scatter\",\"id\":\"p2950\",\"attributes\":{\"tags\":[\"apply_ranges\"],\"x\":{\"type\":\"field\",\"field\":\"dayspost1123\"},\"y\":{\"type\":\"field\",\"field\":\"Close\"},\"size\":{\"type\":\"value\",\"value\":5.477225575051661},\"line_color\":{\"type\":\"value\",\"value\":\"#30a2da\"},\"line_alpha\":{\"type\":\"value\",\"value\":0.1},\"fill_color\":{\"type\":\"value\",\"value\":\"#30a2da\"},\"fill_alpha\":{\"type\":\"value\",\"value\":0.1},\"hatch_color\":{\"type\":\"value\",\"value\":\"#30a2da\"},\"hatch_alpha\":{\"type\":\"value\",\"value\":0.1}}},\"muted_glyph\":{\"type\":\"object\",\"name\":\"Scatter\",\"id\":\"p2951\",\"attributes\":{\"tags\":[\"apply_ranges\"],\"x\":{\"type\":\"field\",\"field\":\"dayspost1123\"},\"y\":{\"type\":\"field\",\"field\":\"Close\"},\"size\":{\"type\":\"value\",\"value\":5.477225575051661},\"line_color\":{\"type\":\"value\",\"value\":\"#30a2da\"},\"line_alpha\":{\"type\":\"value\",\"value\":0.2},\"fill_color\":{\"type\":\"value\",\"value\":\"#30a2da\"},\"fill_alpha\":{\"type\":\"value\",\"value\":0.2},\"hatch_color\":{\"type\":\"value\",\"value\":\"#30a2da\"},\"hatch_alpha\":{\"type\":\"value\",\"value\":0.2}}}}},{\"type\":\"object\",\"name\":\"GlyphRenderer\",\"id\":\"p2965\",\"attributes\":{\"data_source\":{\"type\":\"object\",\"name\":\"ColumnDataSource\",\"id\":\"p2956\",\"attributes\":{\"selected\":{\"type\":\"object\",\"name\":\"Selection\",\"id\":\"p2957\",\"attributes\":{\"indices\":[],\"line_indices\":[]}},\"selection_policy\":{\"type\":\"object\",\"name\":\"UnionRenderers\",\"id\":\"p2958\"},\"data\":{\"type\":\"map\",\"entries\":[[\"dayspost1123\",{\"type\":\"ndarray\",\"array\":{\"type\":\"bytes\",\"data\":\"AAAAAAEAAAACAAAAAwAAAAYAAAAHAAAACAAAAAkAAAAKAAAADgAAAA8AAAAQAAAAEQAAABQAAAAVAAAAFgAAABcAAAAYAAAAGwAAABwAAAAdAAAAHgAAAB8AAAAiAAAAIwAAACQAAAAlAAAAJgAAACkAAAAqAAAAKwAAACwAAAAtAAAAMQAAADIAAAAzAAAANAAAADcAAAA4AAAAOQAAADoAAAA7AAAAPgAAAD8AAABAAAAAQQAAAEIAAABFAAAARgAAAEcAAABIAAAASQAAAEwAAABNAAAATgAAAE8AAABQAAAAUwAAAFQAAABVAAAAVgAAAFcAAABaAAAAWwAAAFwAAABdAAAAYQAAAGIAAABjAAAAZAAAAGUAAABoAAAAaQAAAGoAAABrAAAAbAAAAG8AAABwAAAAcQAAAHIAAABzAAAAdgAAAHcAAAB4AAAAeQAAAHoAAAB9AAAAfgAAAH8AAACAAAAAgQAAAIQAAACFAAAAhgAAAIcAAACIAAAAiwAAAIwAAACNAAAAjgAAAI8AAACTAAAAlAAAAJUAAACWAAAAmQAAAJoAAACbAAAAnAAAAJ0AAACgAAAAoQAAAKIAAACjAAAApAAAAKgAAACpAAAAqgAAAKsAAACuAAAArwAAALAAAACxAAAAsgAAALUAAAC3AAAAuAAAALkAAAC8AAAAvQAAAL4AAAC/AAAAwAAAAMMAAADEAAAAxQAAAMYAAADHAAAAygAAAMsAAADMAAAAzQAAAM4AAADRAAAA0gAAANMAAADUAAAA1QAAANgAAADZAAAA2gAAANsAAADcAAAA3wAAAOAAAADhAAAA4gAAAOMAAADmAAAA5wAAAOgAAADpAAAA6gAAAO0AAADuAAAA7wAAAPAAAADxAAAA9QAAAPYAAAD3AAAA+AAAAPsAAAD8AAAA/QAAAP4AAAD/AAAAAgEAAAMBAAAEAQAABQEAAAYBAAAJAQAACgEAAAsBAAAMAQAADQEAABABAAARAQAAEgEAABMBAAAUAQAAFwEAABgBAAAZAQAAGgEAABsBAAAeAQAAHwEAACABAAAhAQAAIgEAACUBAAAmAQAAJwEAACgBAAApAQAALAEAAC0BAAAuAQAALwEAADABAAAzAQAANAEAADUBAAA2AQAANwEAADoBAAA7AQAAPAEAAD0BAAA+AQAAQQEAAEIBAABDAQAARQEAAEgBAABJAQAASgEAAEsBAABMAQAATwEAAFABAABRAQAAUgEAAFMBAABWAQAAVwEAAFgBAABZAQAAWgEAAF0BAABeAQAAXwEAAGABAABhAQAAZQEAAGYBAABnAQAAaAEAAA==\"},\"shape\":[250],\"dtype\":\"int32\",\"order\":\"little\"}],[\"close_predicted\",{\"type\":\"ndarray\",\"array\":{\"type\":\"bytes\",\"data\":\"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\"},\"shape\":[250],\"dtype\":\"float64\",\"order\":\"little\"}]]}}},\"view\":{\"type\":\"object\",\"name\":\"CDSView\",\"id\":\"p2966\",\"attributes\":{\"filter\":{\"type\":\"object\",\"name\":\"AllIndices\",\"id\":\"p2967\"}}},\"glyph\":{\"type\":\"object\",\"name\":\"Line\",\"id\":\"p2962\",\"attributes\":{\"tags\":[\"apply_ranges\"],\"x\":{\"type\":\"field\",\"field\":\"dayspost1123\"},\"y\":{\"type\":\"field\",\"field\":\"close_predicted\"},\"line_color\":\"red\",\"line_width\":2}},\"selection_glyph\":{\"type\":\"object\",\"name\":\"Line\",\"id\":\"p2968\",\"attributes\":{\"tags\":[\"apply_ranges\"],\"x\":{\"type\":\"field\",\"field\":\"dayspost1123\"},\"y\":{\"type\":\"field\",\"field\":\"close_predicted\"},\"line_color\":\"red\",\"line_width\":2}},\"nonselection_glyph\":{\"type\":\"object\",\"name\":\"Line\",\"id\":\"p2963\",\"attributes\":{\"tags\":[\"apply_ranges\"],\"x\":{\"type\":\"field\",\"field\":\"dayspost1123\"},\"y\":{\"type\":\"field\",\"field\":\"close_predicted\"},\"line_color\":\"red\",\"line_alpha\":0.1,\"line_width\":2}},\"muted_glyph\":{\"type\":\"object\",\"name\":\"Line\",\"id\":\"p2964\",\"attributes\":{\"tags\":[\"apply_ranges\"],\"x\":{\"type\":\"field\",\"field\":\"dayspost1123\"},\"y\":{\"type\":\"field\",\"field\":\"close_predicted\"},\"line_color\":\"red\",\"line_alpha\":0.2,\"line_width\":2}}}}],\"toolbar\":{\"type\":\"object\",\"name\":\"Toolbar\",\"id\":\"p2925\",\"attributes\":{\"tools\":[{\"type\":\"object\",\"name\":\"WheelZoomTool\",\"id\":\"p2911\",\"attributes\":{\"tags\":[\"hv_created\"],\"zoom_together\":\"none\"}},{\"type\":\"object\",\"name\":\"HoverTool\",\"id\":\"p2912\",\"attributes\":{\"tags\":[\"hv_created\"],\"renderers\":[{\"id\":\"p2952\"}],\"tooltips\":[[\"dayspost1123\",\"@{dayspost1123}\"],[\"Close\",\"@{Close}\"]]}},{\"type\":\"object\",\"name\":\"HoverTool\",\"id\":\"p2915\",\"attributes\":{\"tags\":[\"hv_created\"],\"renderers\":[{\"id\":\"p2965\"}],\"tooltips\":[[\"dayspost1123\",\"@{dayspost1123}\"],[\"close_predicted\",\"@{close_predicted}\"]]}},{\"type\":\"object\",\"name\":\"SaveTool\",\"id\":\"p2938\"},{\"type\":\"object\",\"name\":\"PanTool\",\"id\":\"p2939\"},{\"type\":\"object\",\"name\":\"BoxZoomTool\",\"id\":\"p2940\",\"attributes\":{\"overlay\":{\"type\":\"object\",\"name\":\"BoxAnnotation\",\"id\":\"p2941\",\"attributes\":{\"syncable\":false,\"level\":\"overlay\",\"visible\":false,\"left_units\":\"canvas\",\"right_units\":\"canvas\",\"bottom_units\":\"canvas\",\"top_units\":\"canvas\",\"line_color\":\"black\",\"line_alpha\":1.0,\"line_width\":2,\"line_dash\":[4,4],\"fill_color\":\"lightgrey\",\"fill_alpha\":0.5}}}},{\"type\":\"object\",\"name\":\"ResetTool\",\"id\":\"p2942\"}],\"active_drag\":{\"id\":\"p2939\"},\"active_scroll\":{\"id\":\"p2911\"}}},\"left\":[{\"type\":\"object\",\"name\":\"LinearAxis\",\"id\":\"p2933\",\"attributes\":{\"ticker\":{\"type\":\"object\",\"name\":\"BasicTicker\",\"id\":\"p2934\",\"attributes\":{\"mantissas\":[1,2,5]}},\"formatter\":{\"type\":\"object\",\"name\":\"BasicTickFormatter\",\"id\":\"p2935\"},\"axis_label\":\"Close\",\"major_label_policy\":{\"type\":\"object\",\"name\":\"AllLabels\",\"id\":\"p2936\"}}}],\"below\":[{\"type\":\"object\",\"name\":\"LinearAxis\",\"id\":\"p2928\",\"attributes\":{\"ticker\":{\"type\":\"object\",\"name\":\"BasicTicker\",\"id\":\"p2929\",\"attributes\":{\"mantissas\":[1,2,5]}},\"formatter\":{\"type\":\"object\",\"name\":\"BasicTickFormatter\",\"id\":\"p2930\"},\"axis_label\":\"dayspost1123\",\"major_label_policy\":{\"type\":\"object\",\"name\":\"AllLabels\",\"id\":\"p2931\"}}}],\"center\":[{\"type\":\"object\",\"name\":\"Grid\",\"id\":\"p2932\",\"attributes\":{\"axis\":{\"id\":\"p2928\"},\"grid_line_color\":null}},{\"type\":\"object\",\"name\":\"Grid\",\"id\":\"p2937\",\"attributes\":{\"dimension\":1,\"axis\":{\"id\":\"p2933\"},\"grid_line_color\":null}}],\"min_border_top\":10,\"min_border_bottom\":10,\"min_border_left\":10,\"min_border_right\":10,\"output_backend\":\"webgl\"}},{\"type\":\"object\",\"name\":\"Spacer\",\"id\":\"p2970\",\"attributes\":{\"name\":\"HSpacer05419\",\"stylesheets\":[\"\\n:host(.pn-loading.pn-arc):before, .pn-loading.pn-arc:before {\\n  background-image: url(\\\"data:image/svg+xml;base64,PHN2ZyB4bWxucz0iaHR0cDovL3d3dy53My5vcmcvMjAwMC9zdmciIHN0eWxlPSJtYXJnaW46IGF1dG87IGJhY2tncm91bmQ6IG5vbmU7IGRpc3BsYXk6IGJsb2NrOyBzaGFwZS1yZW5kZXJpbmc6IGF1dG87IiB2aWV3Qm94PSIwIDAgMTAwIDEwMCIgcHJlc2VydmVBc3BlY3RSYXRpbz0ieE1pZFlNaWQiPiAgPGNpcmNsZSBjeD0iNTAiIGN5PSI1MCIgZmlsbD0ibm9uZSIgc3Ryb2tlPSIjYzNjM2MzIiBzdHJva2Utd2lkdGg9IjEwIiByPSIzNSIgc3Ryb2tlLWRhc2hhcnJheT0iMTY0LjkzMzYxNDMxMzQ2NDE1IDU2Ljk3Nzg3MTQzNzgyMTM4Ij4gICAgPGFuaW1hdGVUcmFuc2Zvcm0gYXR0cmlidXRlTmFtZT0idHJhbnNmb3JtIiB0eXBlPSJyb3RhdGUiIHJlcGVhdENvdW50PSJpbmRlZmluaXRlIiBkdXI9IjFzIiB2YWx1ZXM9IjAgNTAgNTA7MzYwIDUwIDUwIiBrZXlUaW1lcz0iMDsxIj48L2FuaW1hdGVUcmFuc2Zvcm0+ICA8L2NpcmNsZT48L3N2Zz4=\\\");\\n  background-size: auto calc(min(50%, 400px));\\n}\",{\"id\":\"p2904\"},{\"id\":\"p2902\"},{\"id\":\"p2903\"}],\"margin\":0,\"sizing_mode\":\"stretch_width\",\"align\":\"start\"}}]}}],\"defs\":[{\"type\":\"model\",\"name\":\"ReactiveHTML1\"},{\"type\":\"model\",\"name\":\"FlexBox1\",\"properties\":[{\"name\":\"align_content\",\"kind\":\"Any\",\"default\":\"flex-start\"},{\"name\":\"align_items\",\"kind\":\"Any\",\"default\":\"flex-start\"},{\"name\":\"flex_direction\",\"kind\":\"Any\",\"default\":\"row\"},{\"name\":\"flex_wrap\",\"kind\":\"Any\",\"default\":\"wrap\"},{\"name\":\"justify_content\",\"kind\":\"Any\",\"default\":\"flex-start\"}]},{\"type\":\"model\",\"name\":\"FloatPanel1\",\"properties\":[{\"name\":\"config\",\"kind\":\"Any\",\"default\":{\"type\":\"map\"}},{\"name\":\"contained\",\"kind\":\"Any\",\"default\":true},{\"name\":\"position\",\"kind\":\"Any\",\"default\":\"right-top\"},{\"name\":\"offsetx\",\"kind\":\"Any\",\"default\":null},{\"name\":\"offsety\",\"kind\":\"Any\",\"default\":null},{\"name\":\"theme\",\"kind\":\"Any\",\"default\":\"primary\"},{\"name\":\"status\",\"kind\":\"Any\",\"default\":\"normalized\"}]},{\"type\":\"model\",\"name\":\"GridStack1\",\"properties\":[{\"name\":\"mode\",\"kind\":\"Any\",\"default\":\"warn\"},{\"name\":\"ncols\",\"kind\":\"Any\",\"default\":null},{\"name\":\"nrows\",\"kind\":\"Any\",\"default\":null},{\"name\":\"allow_resize\",\"kind\":\"Any\",\"default\":true},{\"name\":\"allow_drag\",\"kind\":\"Any\",\"default\":true},{\"name\":\"state\",\"kind\":\"Any\",\"default\":[]}]},{\"type\":\"model\",\"name\":\"drag1\",\"properties\":[{\"name\":\"slider_width\",\"kind\":\"Any\",\"default\":5},{\"name\":\"slider_color\",\"kind\":\"Any\",\"default\":\"black\"},{\"name\":\"value\",\"kind\":\"Any\",\"default\":50}]},{\"type\":\"model\",\"name\":\"click1\",\"properties\":[{\"name\":\"terminal_output\",\"kind\":\"Any\",\"default\":\"\"},{\"name\":\"debug_name\",\"kind\":\"Any\",\"default\":\"\"},{\"name\":\"clears\",\"kind\":\"Any\",\"default\":0}]},{\"type\":\"model\",\"name\":\"FastWrapper1\",\"properties\":[{\"name\":\"object\",\"kind\":\"Any\",\"default\":null},{\"name\":\"style\",\"kind\":\"Any\",\"default\":null}]},{\"type\":\"model\",\"name\":\"NotificationAreaBase1\",\"properties\":[{\"name\":\"js_events\",\"kind\":\"Any\",\"default\":{\"type\":\"map\"}},{\"name\":\"position\",\"kind\":\"Any\",\"default\":\"bottom-right\"},{\"name\":\"_clear\",\"kind\":\"Any\",\"default\":0}]},{\"type\":\"model\",\"name\":\"NotificationArea1\",\"properties\":[{\"name\":\"js_events\",\"kind\":\"Any\",\"default\":{\"type\":\"map\"}},{\"name\":\"notifications\",\"kind\":\"Any\",\"default\":[]},{\"name\":\"position\",\"kind\":\"Any\",\"default\":\"bottom-right\"},{\"name\":\"_clear\",\"kind\":\"Any\",\"default\":0},{\"name\":\"types\",\"kind\":\"Any\",\"default\":[{\"type\":\"map\",\"entries\":[[\"type\",\"warning\"],[\"background\",\"#ffc107\"],[\"icon\",{\"type\":\"map\",\"entries\":[[\"className\",\"fas fa-exclamation-triangle\"],[\"tagName\",\"i\"],[\"color\",\"white\"]]}]]},{\"type\":\"map\",\"entries\":[[\"type\",\"info\"],[\"background\",\"#007bff\"],[\"icon\",{\"type\":\"map\",\"entries\":[[\"className\",\"fas fa-info-circle\"],[\"tagName\",\"i\"],[\"color\",\"white\"]]}]]}]}]},{\"type\":\"model\",\"name\":\"Notification\",\"properties\":[{\"name\":\"background\",\"kind\":\"Any\",\"default\":null},{\"name\":\"duration\",\"kind\":\"Any\",\"default\":3000},{\"name\":\"icon\",\"kind\":\"Any\",\"default\":null},{\"name\":\"message\",\"kind\":\"Any\",\"default\":\"\"},{\"name\":\"notification_type\",\"kind\":\"Any\",\"default\":null},{\"name\":\"_destroyed\",\"kind\":\"Any\",\"default\":false}]},{\"type\":\"model\",\"name\":\"TemplateActions1\",\"properties\":[{\"name\":\"open_modal\",\"kind\":\"Any\",\"default\":0},{\"name\":\"close_modal\",\"kind\":\"Any\",\"default\":0}]},{\"type\":\"model\",\"name\":\"BootstrapTemplateActions1\",\"properties\":[{\"name\":\"open_modal\",\"kind\":\"Any\",\"default\":0},{\"name\":\"close_modal\",\"kind\":\"Any\",\"default\":0}]},{\"type\":\"model\",\"name\":\"MaterialTemplateActions1\",\"properties\":[{\"name\":\"open_modal\",\"kind\":\"Any\",\"default\":0},{\"name\":\"close_modal\",\"kind\":\"Any\",\"default\":0}]}]}};\n",
       "  var render_items = [{\"docid\":\"6d96665e-76ea-4829-8b16-17bb65c142f3\",\"roots\":{\"p2901\":\"e95abc65-1e94-46ff-bbba-c890ceb6d4d3\"},\"root_ids\":[\"p2901\"]}];\n",
       "  var docs = Object.values(docs_json)\n",
       "  if (!docs) {\n",
       "    return\n",
       "  }\n",
       "  const py_version = docs[0].version.replace('rc', '-rc.').replace('.dev', '-dev.')\n",
       "  const is_dev = py_version.indexOf(\"+\") !== -1 || py_version.indexOf(\"-\") !== -1\n",
       "  function embed_document(root) {\n",
       "    var Bokeh = get_bokeh(root)\n",
       "    Bokeh.embed.embed_items_notebook(docs_json, render_items);\n",
       "    for (const render_item of render_items) {\n",
       "      for (const root_id of render_item.root_ids) {\n",
       "\tconst id_el = document.getElementById(root_id)\n",
       "\tif (id_el.children.length && (id_el.children[0].className === 'bk-root')) {\n",
       "\t  const root_el = id_el.children[0]\n",
       "\t  root_el.id = root_el.id + '-rendered'\n",
       "\t}\n",
       "      }\n",
       "    }\n",
       "  }\n",
       "  function get_bokeh(root) {\n",
       "    if (root.Bokeh === undefined) {\n",
       "      return null\n",
       "    } else if (root.Bokeh.version !== py_version && !is_dev) {\n",
       "      if (root.Bokeh.versions === undefined || !root.Bokeh.versions.has(py_version)) {\n",
       "\treturn null\n",
       "      }\n",
       "      return root.Bokeh.versions.get(py_version);\n",
       "    } else if (root.Bokeh.version === py_version) {\n",
       "      return root.Bokeh\n",
       "    }\n",
       "    return null\n",
       "  }\n",
       "  function is_loaded(root) {\n",
       "    var Bokeh = get_bokeh(root)\n",
       "    return (Bokeh != null && Bokeh.Panel !== undefined)\n",
       "  }\n",
       "  if (is_loaded(root)) {\n",
       "    embed_document(root);\n",
       "  } else {\n",
       "    var attempts = 0;\n",
       "    var timer = setInterval(function(root) {\n",
       "      if (is_loaded(root)) {\n",
       "        clearInterval(timer);\n",
       "        embed_document(root);\n",
       "      } else if (document.readyState == \"complete\") {\n",
       "        attempts++;\n",
       "        if (attempts > 200) {\n",
       "          clearInterval(timer);\n",
       "\t  var Bokeh = get_bokeh(root)\n",
       "\t  if (Bokeh == null || Bokeh.Panel == null) {\n",
       "            console.warn(\"Panel: ERROR: Unable to run Panel code because Bokeh or Panel library is missing\");\n",
       "\t  } else {\n",
       "\t    console.warn(\"Panel: WARNING: Attempting to render but not all required libraries could be resolved.\")\n",
       "\t    embed_document(root)\n",
       "\t  }\n",
       "        }\n",
       "      }\n",
       "    }, 25, root)\n",
       "  }\n",
       "})(window);</script>"
      ],
      "text/plain": [
       ":Overlay\n",
       "   .Scatter.I :Scatter   [dayspost1123]   (Close)\n",
       "   .Curve.I   :Curve   [dayspost1123]   (close_predicted)"
      ]
     },
     "execution_count": 206,
     "metadata": {
      "application/vnd.holoviews_exec.v0+json": {
       "id": "p2901"
      }
     },
     "output_type": "execute_result"
    }
   ],
   "source": [
    "#Superimpose scatter plot onto best fit line\n",
    "salary_plot_2 * best_fit_line_2"
   ]
  },
  {
   "cell_type": "markdown",
   "id": "b5b7b0d6",
   "metadata": {},
   "source": [
    "The model based on one year of SPY closing prices recorded an r-squared value of 0.7033, meaning that a majority of the variation in the closing prices based off of one year of data can be accounted for solely in the linear regression model. This could lead to the interpretation that this past year has been favorable to the growth of the SPY stock, as the slope indicates a gradual increase in the stock's price."
   ]
  },
  {
   "cell_type": "markdown",
   "id": "63dc6e4b",
   "metadata": {},
   "source": [
    "# Linear Regression Model on 3 Years of SPY Data"
   ]
  },
  {
   "cell_type": "markdown",
   "id": "6789ce01",
   "metadata": {},
   "source": [
    "## Data Set-Up"
   ]
  },
  {
   "cell_type": "code",
   "execution_count": 207,
   "id": "4b71f8ff",
   "metadata": {},
   "outputs": [
    {
     "name": "stdout",
     "output_type": "stream",
     "text": [
      "[*********************100%%**********************]  1 of 1 completed\n",
      "<class 'pandas.core.frame.DataFrame'>\n",
      "RangeIndex: 753 entries, 0 to 752\n",
      "Data columns (total 2 columns):\n",
      " #   Column  Non-Null Count  Dtype         \n",
      "---  ------  --------------  -----         \n",
      " 0   Date    753 non-null    datetime64[ns]\n",
      " 1   Close   753 non-null    float64       \n",
      "dtypes: datetime64[ns](1), float64(1)\n",
      "memory usage: 11.9 KB\n",
      "2021-01-04 00:00:00\n",
      "<class 'pandas.core.frame.DataFrame'>\n",
      "RangeIndex: 753 entries, 0 to 752\n",
      "Data columns (total 3 columns):\n",
      " #   Column        Non-Null Count  Dtype          \n",
      "---  ------        --------------  -----          \n",
      " 0   Date          753 non-null    datetime64[ns] \n",
      " 1   Close         753 non-null    float64        \n",
      " 2   dayspost1121  753 non-null    timedelta64[ns]\n",
      "dtypes: datetime64[ns](1), float64(1), timedelta64[ns](1)\n",
      "memory usage: 17.8 KB\n"
     ]
    },
    {
     "data": {
      "text/html": [
       "<div>\n",
       "<style scoped>\n",
       "    .dataframe tbody tr th:only-of-type {\n",
       "        vertical-align: middle;\n",
       "    }\n",
       "\n",
       "    .dataframe tbody tr th {\n",
       "        vertical-align: top;\n",
       "    }\n",
       "\n",
       "    .dataframe thead th {\n",
       "        text-align: right;\n",
       "    }\n",
       "</style>\n",
       "<table border=\"1\" class=\"dataframe\">\n",
       "  <thead>\n",
       "    <tr style=\"text-align: right;\">\n",
       "      <th></th>\n",
       "      <th>Date</th>\n",
       "      <th>dayspost1121</th>\n",
       "      <th>Close</th>\n",
       "    </tr>\n",
       "  </thead>\n",
       "  <tbody>\n",
       "    <tr>\n",
       "      <th>0</th>\n",
       "      <td>2021-01-04</td>\n",
       "      <td>0</td>\n",
       "      <td>368.790009</td>\n",
       "    </tr>\n",
       "    <tr>\n",
       "      <th>1</th>\n",
       "      <td>2021-01-05</td>\n",
       "      <td>1</td>\n",
       "      <td>371.329987</td>\n",
       "    </tr>\n",
       "    <tr>\n",
       "      <th>2</th>\n",
       "      <td>2021-01-06</td>\n",
       "      <td>2</td>\n",
       "      <td>373.549988</td>\n",
       "    </tr>\n",
       "    <tr>\n",
       "      <th>3</th>\n",
       "      <td>2021-01-07</td>\n",
       "      <td>3</td>\n",
       "      <td>379.100006</td>\n",
       "    </tr>\n",
       "    <tr>\n",
       "      <th>4</th>\n",
       "      <td>2021-01-08</td>\n",
       "      <td>4</td>\n",
       "      <td>381.260010</td>\n",
       "    </tr>\n",
       "    <tr>\n",
       "      <th>...</th>\n",
       "      <td>...</td>\n",
       "      <td>...</td>\n",
       "      <td>...</td>\n",
       "    </tr>\n",
       "    <tr>\n",
       "      <th>748</th>\n",
       "      <td>2023-12-22</td>\n",
       "      <td>1082</td>\n",
       "      <td>473.649994</td>\n",
       "    </tr>\n",
       "    <tr>\n",
       "      <th>749</th>\n",
       "      <td>2023-12-26</td>\n",
       "      <td>1086</td>\n",
       "      <td>475.649994</td>\n",
       "    </tr>\n",
       "    <tr>\n",
       "      <th>750</th>\n",
       "      <td>2023-12-27</td>\n",
       "      <td>1087</td>\n",
       "      <td>476.510010</td>\n",
       "    </tr>\n",
       "    <tr>\n",
       "      <th>751</th>\n",
       "      <td>2023-12-28</td>\n",
       "      <td>1088</td>\n",
       "      <td>476.690002</td>\n",
       "    </tr>\n",
       "    <tr>\n",
       "      <th>752</th>\n",
       "      <td>2023-12-29</td>\n",
       "      <td>1089</td>\n",
       "      <td>475.309998</td>\n",
       "    </tr>\n",
       "  </tbody>\n",
       "</table>\n",
       "<p>753 rows × 3 columns</p>\n",
       "</div>"
      ],
      "text/plain": [
       "          Date  dayspost1121       Close\n",
       "0   2021-01-04             0  368.790009\n",
       "1   2021-01-05             1  371.329987\n",
       "2   2021-01-06             2  373.549988\n",
       "3   2021-01-07             3  379.100006\n",
       "4   2021-01-08             4  381.260010\n",
       "..         ...           ...         ...\n",
       "748 2023-12-22          1082  473.649994\n",
       "749 2023-12-26          1086  475.649994\n",
       "750 2023-12-27          1087  476.510010\n",
       "751 2023-12-28          1088  476.690002\n",
       "752 2023-12-29          1089  475.309998\n",
       "\n",
       "[753 rows x 3 columns]"
      ]
     },
     "execution_count": 207,
     "metadata": {},
     "output_type": "execute_result"
    }
   ],
   "source": [
    "# importing dependencies\n",
    "import yfinance as yf\n",
    "import pandas as pd\n",
    "import numpy as np\n",
    "from pathlib import Path\n",
    "from sklearn.linear_model import LinearRegression\n",
    "import datetime as dt\n",
    "\n",
    "# Obtaining data for SPY from the years 2021-2023\n",
    "data = yf.download(\"SPY\", start = \"2021-1-1\", end = \"2023-12-31\")\n",
    "\n",
    "# Creating a dataframe with only Date and Closing Price\n",
    "close_df_1 = data[[\"Close\"]]\n",
    "\n",
    "# Verifying data within dataframe\n",
    "close_df_1.head()\n",
    "\n",
    "# Resetting index to manipulate date column\n",
    "close_df_1 = close_df_1.reset_index()\n",
    "\n",
    "# Verifying datatype of date\n",
    "close_df_1.info()\n",
    "\n",
    "# Saving earliest date for calculations\n",
    "start_date_3y = close_df_1[\"Date\"][0]\n",
    "print(start_date_3y)\n",
    "\n",
    "# Creating a new column (dayspost121823) for count of days after start_date_3y\n",
    "close_df_1['dayspost1121'] = close_df_1[\"Date\"] - start_date_3y\n",
    "close_df_1\n",
    "\n",
    "# Verifying datatype for new column\n",
    "close_df_1.info()\n",
    "\n",
    "# Converting new column datatype into integer\n",
    "close_df_1['dayspost1121'] = close_df_1[\"dayspost1121\"].dt.days\n",
    "close_df_1\n",
    "\n",
    "# Rearranging the dataframe\n",
    "close_df_1 = close_df_1[['Date', 'dayspost1121', 'Close']]\n",
    "close_df_1"
   ]
  },
  {
   "cell_type": "markdown",
   "id": "e4b0b639",
   "metadata": {},
   "source": [
    "## Linear Regression Model Set-Up"
   ]
  },
  {
   "cell_type": "code",
   "execution_count": 208,
   "id": "5256e438",
   "metadata": {},
   "outputs": [
    {
     "data": {
      "text/html": [
       "<style>#sk-container-id-16 {color: black;background-color: white;}#sk-container-id-16 pre{padding: 0;}#sk-container-id-16 div.sk-toggleable {background-color: white;}#sk-container-id-16 label.sk-toggleable__label {cursor: pointer;display: block;width: 100%;margin-bottom: 0;padding: 0.3em;box-sizing: border-box;text-align: center;}#sk-container-id-16 label.sk-toggleable__label-arrow:before {content: \"▸\";float: left;margin-right: 0.25em;color: #696969;}#sk-container-id-16 label.sk-toggleable__label-arrow:hover:before {color: black;}#sk-container-id-16 div.sk-estimator:hover label.sk-toggleable__label-arrow:before {color: black;}#sk-container-id-16 div.sk-toggleable__content {max-height: 0;max-width: 0;overflow: hidden;text-align: left;background-color: #f0f8ff;}#sk-container-id-16 div.sk-toggleable__content pre {margin: 0.2em;color: black;border-radius: 0.25em;background-color: #f0f8ff;}#sk-container-id-16 input.sk-toggleable__control:checked~div.sk-toggleable__content {max-height: 200px;max-width: 100%;overflow: auto;}#sk-container-id-16 input.sk-toggleable__control:checked~label.sk-toggleable__label-arrow:before {content: \"▾\";}#sk-container-id-16 div.sk-estimator input.sk-toggleable__control:checked~label.sk-toggleable__label {background-color: #d4ebff;}#sk-container-id-16 div.sk-label input.sk-toggleable__control:checked~label.sk-toggleable__label {background-color: #d4ebff;}#sk-container-id-16 input.sk-hidden--visually {border: 0;clip: rect(1px 1px 1px 1px);clip: rect(1px, 1px, 1px, 1px);height: 1px;margin: -1px;overflow: hidden;padding: 0;position: absolute;width: 1px;}#sk-container-id-16 div.sk-estimator {font-family: monospace;background-color: #f0f8ff;border: 1px dotted black;border-radius: 0.25em;box-sizing: border-box;margin-bottom: 0.5em;}#sk-container-id-16 div.sk-estimator:hover {background-color: #d4ebff;}#sk-container-id-16 div.sk-parallel-item::after {content: \"\";width: 100%;border-bottom: 1px solid gray;flex-grow: 1;}#sk-container-id-16 div.sk-label:hover label.sk-toggleable__label {background-color: #d4ebff;}#sk-container-id-16 div.sk-serial::before {content: \"\";position: absolute;border-left: 1px solid gray;box-sizing: border-box;top: 0;bottom: 0;left: 50%;z-index: 0;}#sk-container-id-16 div.sk-serial {display: flex;flex-direction: column;align-items: center;background-color: white;padding-right: 0.2em;padding-left: 0.2em;position: relative;}#sk-container-id-16 div.sk-item {position: relative;z-index: 1;}#sk-container-id-16 div.sk-parallel {display: flex;align-items: stretch;justify-content: center;background-color: white;position: relative;}#sk-container-id-16 div.sk-item::before, #sk-container-id-16 div.sk-parallel-item::before {content: \"\";position: absolute;border-left: 1px solid gray;box-sizing: border-box;top: 0;bottom: 0;left: 50%;z-index: -1;}#sk-container-id-16 div.sk-parallel-item {display: flex;flex-direction: column;z-index: 1;position: relative;background-color: white;}#sk-container-id-16 div.sk-parallel-item:first-child::after {align-self: flex-end;width: 50%;}#sk-container-id-16 div.sk-parallel-item:last-child::after {align-self: flex-start;width: 50%;}#sk-container-id-16 div.sk-parallel-item:only-child::after {width: 0;}#sk-container-id-16 div.sk-dashed-wrapped {border: 1px dashed gray;margin: 0 0.4em 0.5em 0.4em;box-sizing: border-box;padding-bottom: 0.4em;background-color: white;}#sk-container-id-16 div.sk-label label {font-family: monospace;font-weight: bold;display: inline-block;line-height: 1.2em;}#sk-container-id-16 div.sk-label-container {text-align: center;}#sk-container-id-16 div.sk-container {/* jupyter's `normalize.less` sets `[hidden] { display: none; }` but bootstrap.min.css set `[hidden] { display: none !important; }` so we also need the `!important` here to be able to override the default hidden behavior on the sphinx rendered scikit-learn.org. See: https://github.com/scikit-learn/scikit-learn/issues/21755 */display: inline-block !important;position: relative;}#sk-container-id-16 div.sk-text-repr-fallback {display: none;}</style><div id=\"sk-container-id-16\" class=\"sk-top-container\"><div class=\"sk-text-repr-fallback\"><pre>LinearRegression()</pre><b>In a Jupyter environment, please rerun this cell to show the HTML representation or trust the notebook. <br />On GitHub, the HTML representation is unable to render, please try loading this page with nbviewer.org.</b></div><div class=\"sk-container\" hidden><div class=\"sk-item\"><div class=\"sk-estimator sk-toggleable\"><input class=\"sk-toggleable__control sk-hidden--visually\" id=\"sk-estimator-id-16\" type=\"checkbox\" checked><label for=\"sk-estimator-id-16\" class=\"sk-toggleable__label sk-toggleable__label-arrow\">LinearRegression</label><div class=\"sk-toggleable__content\"><pre>LinearRegression()</pre></div></div></div></div></div>"
      ],
      "text/plain": [
       "LinearRegression()"
      ]
     },
     "execution_count": 208,
     "metadata": {},
     "output_type": "execute_result"
    }
   ],
   "source": [
    "# Reformat data of the independent variable X as a single-column array\n",
    "X = close_df_1[\"dayspost1121\"].values.reshape(-1, 1)\n",
    "\n",
    "# Display sample data\n",
    "X[:5]\n",
    "\n",
    "# The shape of X should be 20 samples, with a single feature (column)\n",
    "X.shape\n",
    "\n",
    "# Create an array for the dependent variable y\n",
    "y = close_df_1[\"Close\"]\n",
    "\n",
    "# Create a model with scikit-learn\n",
    "model = LinearRegression()\n",
    "\n",
    "# Fit the data into the model\n",
    "model.fit(X, y)"
   ]
  },
  {
   "cell_type": "markdown",
   "id": "799860b2",
   "metadata": {},
   "source": [
    "## Linear Regression Model Predictions"
   ]
  },
  {
   "cell_type": "code",
   "execution_count": 209,
   "id": "38b11616",
   "metadata": {},
   "outputs": [
    {
     "name": "stdout",
     "output_type": "stream",
     "text": [
      "Model's slope: [0.00977546]\n",
      "Model's y-intercept: 415.5414180177732\n",
      "Model's formula: y = 0.009775461932527625X + 415.5414180177732\n",
      "Model's formula: y = 0.009775461932527625 * 7 + 415.5414180177732\n",
      "Predicted closing price of SPY after 7 days: $415.61\n"
     ]
    },
    {
     "data": {
      "text/html": [
       "<div>\n",
       "<style scoped>\n",
       "    .dataframe tbody tr th:only-of-type {\n",
       "        vertical-align: middle;\n",
       "    }\n",
       "\n",
       "    .dataframe tbody tr th {\n",
       "        vertical-align: top;\n",
       "    }\n",
       "\n",
       "    .dataframe thead th {\n",
       "        text-align: right;\n",
       "    }\n",
       "</style>\n",
       "<table border=\"1\" class=\"dataframe\">\n",
       "  <thead>\n",
       "    <tr style=\"text-align: right;\">\n",
       "      <th></th>\n",
       "      <th>Date</th>\n",
       "      <th>dayspost1121</th>\n",
       "      <th>Close</th>\n",
       "      <th>close_predicted</th>\n",
       "    </tr>\n",
       "  </thead>\n",
       "  <tbody>\n",
       "    <tr>\n",
       "      <th>0</th>\n",
       "      <td>2021-01-04</td>\n",
       "      <td>0</td>\n",
       "      <td>368.790009</td>\n",
       "      <td>415.541418</td>\n",
       "    </tr>\n",
       "    <tr>\n",
       "      <th>1</th>\n",
       "      <td>2021-01-05</td>\n",
       "      <td>1</td>\n",
       "      <td>371.329987</td>\n",
       "      <td>415.551193</td>\n",
       "    </tr>\n",
       "    <tr>\n",
       "      <th>2</th>\n",
       "      <td>2021-01-06</td>\n",
       "      <td>2</td>\n",
       "      <td>373.549988</td>\n",
       "      <td>415.560969</td>\n",
       "    </tr>\n",
       "    <tr>\n",
       "      <th>3</th>\n",
       "      <td>2021-01-07</td>\n",
       "      <td>3</td>\n",
       "      <td>379.100006</td>\n",
       "      <td>415.570744</td>\n",
       "    </tr>\n",
       "    <tr>\n",
       "      <th>4</th>\n",
       "      <td>2021-01-08</td>\n",
       "      <td>4</td>\n",
       "      <td>381.260010</td>\n",
       "      <td>415.580520</td>\n",
       "    </tr>\n",
       "  </tbody>\n",
       "</table>\n",
       "</div>"
      ],
      "text/plain": [
       "        Date  dayspost1121       Close  close_predicted\n",
       "0 2021-01-04             0  368.790009       415.541418\n",
       "1 2021-01-05             1  371.329987       415.551193\n",
       "2 2021-01-06             2  373.549988       415.560969\n",
       "3 2021-01-07             3  379.100006       415.570744\n",
       "4 2021-01-08             4  381.260010       415.580520"
      ]
     },
     "execution_count": 209,
     "metadata": {},
     "output_type": "execute_result"
    }
   ],
   "source": [
    "# Display the slope\n",
    "print(f\"Model's slope: {model.coef_}\")\n",
    "\n",
    "# Display the y-intercept\n",
    "print(f\"Model's y-intercept: {model.intercept_}\")\n",
    "\n",
    "# Display the model's best fit line formula\n",
    "print(f\"Model's formula: y = {model.coef_[0]}X + {model.intercept_}\")\n",
    "\n",
    "# Display the formula to predict the closing price of SPY 1 week (7 days) after start date\n",
    "print(f\"Model's formula: y = {model.coef_[0]} * 7 + {model.intercept_}\")\n",
    "\n",
    "# Predict the closing price of SPY 1 week after start date\n",
    "y_7 = model.intercept_ + model.coef_[0] * 7\n",
    "\n",
    "# Display the prediction\n",
    "print(f\"Predicted closing price of SPY after 7 days: ${y_7:.2f}\")\n",
    "\n",
    "# Make predictions using the X set\n",
    "predicted_y_values = model.predict(X)\n",
    "# Create a copy of the original data\n",
    "df_closed_predicted = close_df_1.copy()\n",
    "\n",
    "# Add a column with the predicted salary values\n",
    "df_closed_predicted[\"close_predicted\"] = predicted_y_values\n",
    "\n",
    "# Display sample data\n",
    "df_closed_predicted.head()"
   ]
  },
  {
   "cell_type": "markdown",
   "id": "e5739216",
   "metadata": {},
   "source": [
    "## Creating Plots and Analyzing Findings"
   ]
  },
  {
   "cell_type": "code",
   "execution_count": 210,
   "id": "3ddc5c75",
   "metadata": {},
   "outputs": [
    {
     "name": "stdout",
     "output_type": "stream",
     "text": [
      "The score is 0.01184734906617435.\n",
      "The r2 is 0.01184734906617435.\n",
      "The mean squared error is 792.6742237541264.\n",
      "The root mean squared error is 28.15447075961696.\n",
      "The standard deviation is 28.322745372098417.\n"
     ]
    }
   ],
   "source": [
    "# Create a line plot of the predicted closing prices\n",
    "import numpy as np\n",
    "import hvplot.pandas\n",
    "best_fit_line_3 = df_closed_predicted.hvplot.line(\n",
    "    x = \"dayspost1121\",\n",
    "    y = \"close_predicted\",\n",
    "    color = \"red\"\n",
    ")\n",
    "\n",
    "\n",
    "# Create a scatter plot with the closing price information\n",
    "salary_plot_3 = df_closed_predicted.hvplot.scatter(\n",
    "    x=\"dayspost1121\",\n",
    "    y=\"Close\",\n",
    "    title=\"SPY Daily Closing Price\"\n",
    ")\n",
    "\n",
    "# Import relevant metrics - score, r2, mse, rmse, std - from Scikit-learn\n",
    "from sklearn.metrics import mean_squared_error, r2_score\n",
    "# Compute the metrics for the linear regression model\n",
    "score = model.score(X, y, sample_weight=None)\n",
    "r2 = r2_score(y, predicted_y_values)\n",
    "mse = mean_squared_error(y, predicted_y_values)\n",
    "rmse = np.sqrt(mse)\n",
    "std = np.std(y)\n",
    "\n",
    "# Print relevant metrics.\n",
    "print(f\"The score is {score}.\")\n",
    "print(f\"The r2 is {r2}.\")\n",
    "print(f\"The mean squared error is {mse}.\")\n",
    "print(f\"The root mean squared error is {rmse}.\")\n",
    "print(f\"The standard deviation is {std}.\")"
   ]
  },
  {
   "cell_type": "code",
   "execution_count": 211,
   "id": "de597672",
   "metadata": {},
   "outputs": [
    {
     "data": {},
     "metadata": {},
     "output_type": "display_data"
    },
    {
     "data": {
      "application/vnd.holoviews_exec.v0+json": "",
      "text/html": [
       "<div id='p2978'>\n",
       "  <div id=\"f81fea2f-cd34-4a01-bf3e-fcd57f6148f4\" data-root-id=\"p2978\" style=\"display: contents;\"></div>\n",
       "</div>\n",
       "<script type=\"application/javascript\">(function(root) {\n",
       "  var docs_json = {\"1a7d6916-3849-4295-b46d-cc787b6ffec2\":{\"version\":\"3.2.1\",\"title\":\"Bokeh Application\",\"roots\":[{\"type\":\"object\",\"name\":\"Row\",\"id\":\"p2978\",\"attributes\":{\"name\":\"Row05643\",\"tags\":[\"embedded\"],\"stylesheets\":[\"\\n:host(.pn-loading.pn-arc):before, .pn-loading.pn-arc:before {\\n  background-image: url(\\\"data:image/svg+xml;base64,PHN2ZyB4bWxucz0iaHR0cDovL3d3dy53My5vcmcvMjAwMC9zdmciIHN0eWxlPSJtYXJnaW46IGF1dG87IGJhY2tncm91bmQ6IG5vbmU7IGRpc3BsYXk6IGJsb2NrOyBzaGFwZS1yZW5kZXJpbmc6IGF1dG87IiB2aWV3Qm94PSIwIDAgMTAwIDEwMCIgcHJlc2VydmVBc3BlY3RSYXRpbz0ieE1pZFlNaWQiPiAgPGNpcmNsZSBjeD0iNTAiIGN5PSI1MCIgZmlsbD0ibm9uZSIgc3Ryb2tlPSIjYzNjM2MzIiBzdHJva2Utd2lkdGg9IjEwIiByPSIzNSIgc3Ryb2tlLWRhc2hhcnJheT0iMTY0LjkzMzYxNDMxMzQ2NDE1IDU2Ljk3Nzg3MTQzNzgyMTM4Ij4gICAgPGFuaW1hdGVUcmFuc2Zvcm0gYXR0cmlidXRlTmFtZT0idHJhbnNmb3JtIiB0eXBlPSJyb3RhdGUiIHJlcGVhdENvdW50PSJpbmRlZmluaXRlIiBkdXI9IjFzIiB2YWx1ZXM9IjAgNTAgNTA7MzYwIDUwIDUwIiBrZXlUaW1lcz0iMDsxIj48L2FuaW1hdGVUcmFuc2Zvcm0+ICA8L2NpcmNsZT48L3N2Zz4=\\\");\\n  background-size: auto calc(min(50%, 400px));\\n}\",{\"type\":\"object\",\"name\":\"ImportedStyleSheet\",\"id\":\"p2981\",\"attributes\":{\"url\":\"https://cdn.holoviz.org/panel/1.2.1/dist/css/loading.css\"}},{\"type\":\"object\",\"name\":\"ImportedStyleSheet\",\"id\":\"p3049\",\"attributes\":{\"url\":\"https://cdn.holoviz.org/panel/1.2.1/dist/css/listpanel.css\"}},{\"type\":\"object\",\"name\":\"ImportedStyleSheet\",\"id\":\"p2979\",\"attributes\":{\"url\":\"https://cdn.holoviz.org/panel/1.2.1/dist/bundled/theme/default.css\"}},{\"type\":\"object\",\"name\":\"ImportedStyleSheet\",\"id\":\"p2980\",\"attributes\":{\"url\":\"https://cdn.holoviz.org/panel/1.2.1/dist/bundled/theme/native.css\"}}],\"min_width\":700,\"margin\":0,\"sizing_mode\":\"stretch_width\",\"align\":\"start\",\"children\":[{\"type\":\"object\",\"name\":\"Spacer\",\"id\":\"p2982\",\"attributes\":{\"name\":\"HSpacer05653\",\"stylesheets\":[\"\\n:host(.pn-loading.pn-arc):before, .pn-loading.pn-arc:before {\\n  background-image: url(\\\"data:image/svg+xml;base64,PHN2ZyB4bWxucz0iaHR0cDovL3d3dy53My5vcmcvMjAwMC9zdmciIHN0eWxlPSJtYXJnaW46IGF1dG87IGJhY2tncm91bmQ6IG5vbmU7IGRpc3BsYXk6IGJsb2NrOyBzaGFwZS1yZW5kZXJpbmc6IGF1dG87IiB2aWV3Qm94PSIwIDAgMTAwIDEwMCIgcHJlc2VydmVBc3BlY3RSYXRpbz0ieE1pZFlNaWQiPiAgPGNpcmNsZSBjeD0iNTAiIGN5PSI1MCIgZmlsbD0ibm9uZSIgc3Ryb2tlPSIjYzNjM2MzIiBzdHJva2Utd2lkdGg9IjEwIiByPSIzNSIgc3Ryb2tlLWRhc2hhcnJheT0iMTY0LjkzMzYxNDMxMzQ2NDE1IDU2Ljk3Nzg3MTQzNzgyMTM4Ij4gICAgPGFuaW1hdGVUcmFuc2Zvcm0gYXR0cmlidXRlTmFtZT0idHJhbnNmb3JtIiB0eXBlPSJyb3RhdGUiIHJlcGVhdENvdW50PSJpbmRlZmluaXRlIiBkdXI9IjFzIiB2YWx1ZXM9IjAgNTAgNTA7MzYwIDUwIDUwIiBrZXlUaW1lcz0iMDsxIj48L2FuaW1hdGVUcmFuc2Zvcm0+ICA8L2NpcmNsZT48L3N2Zz4=\\\");\\n  background-size: auto calc(min(50%, 400px));\\n}\",{\"id\":\"p2981\"},{\"id\":\"p2979\"},{\"id\":\"p2980\"}],\"margin\":0,\"sizing_mode\":\"stretch_width\",\"align\":\"start\"}},{\"type\":\"object\",\"name\":\"Figure\",\"id\":\"p2993\",\"attributes\":{\"width\":700,\"height\":300,\"margin\":[5,10],\"sizing_mode\":\"fixed\",\"align\":\"start\",\"x_range\":{\"type\":\"object\",\"name\":\"Range1d\",\"id\":\"p2983\",\"attributes\":{\"tags\":[[[\"dayspost1121\",\"dayspost1121\",null]],[]],\"start\":-46.67142857142857,\"end\":1135.6714285714286,\"reset_start\":-46.67142857142857,\"reset_end\":1135.6714285714286}},\"y_range\":{\"type\":\"object\",\"name\":\"Range1d\",\"id\":\"p2984\",\"attributes\":{\"tags\":[[[\"Close\",\"Close\",null]],{\"type\":\"map\",\"entries\":[[\"invert_yaxis\",false],[\"autorange\",false]]}],\"start\":344.4449981689453,\"end\":489.8249908447266,\"reset_start\":344.4449981689453,\"reset_end\":489.8249908447266}},\"x_scale\":{\"type\":\"object\",\"name\":\"LinearScale\",\"id\":\"p3003\"},\"y_scale\":{\"type\":\"object\",\"name\":\"LinearScale\",\"id\":\"p3004\"},\"title\":{\"type\":\"object\",\"name\":\"Title\",\"id\":\"p2996\",\"attributes\":{\"text\":\"SPY Daily Closing Price\",\"text_color\":\"black\",\"text_font_size\":\"12pt\"}},\"renderers\":[{\"type\":\"object\",\"name\":\"GlyphRenderer\",\"id\":\"p3029\",\"attributes\":{\"data_source\":{\"type\":\"object\",\"name\":\"ColumnDataSource\",\"id\":\"p3020\",\"attributes\":{\"selected\":{\"type\":\"object\",\"name\":\"Selection\",\"id\":\"p3021\",\"attributes\":{\"indices\":[],\"line_indices\":[]}},\"selection_policy\":{\"type\":\"object\",\"name\":\"UnionRenderers\",\"id\":\"p3022\"},\"data\":{\"type\":\"map\",\"entries\":[[\"dayspost1121\",{\"type\":\"ndarray\",\"array\":{\"type\":\"bytes\",\"data\":\"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\"},\"shape\":[753],\"dtype\":\"int32\",\"order\":\"little\"}],[\"Close\",{\"type\":\"ndarray\",\"array\":{\"type\":\"bytes\",\"data\":\"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\"},\"shape\":[753],\"dtype\":\"float64\",\"order\":\"little\"}]]}}},\"view\":{\"type\":\"object\",\"name\":\"CDSView\",\"id\":\"p3030\",\"attributes\":{\"filter\":{\"type\":\"object\",\"name\":\"AllIndices\",\"id\":\"p3031\"}}},\"glyph\":{\"type\":\"object\",\"name\":\"Scatter\",\"id\":\"p3026\",\"attributes\":{\"tags\":[\"apply_ranges\"],\"x\":{\"type\":\"field\",\"field\":\"dayspost1121\"},\"y\":{\"type\":\"field\",\"field\":\"Close\"},\"size\":{\"type\":\"value\",\"value\":5.477225575051661},\"line_color\":{\"type\":\"value\",\"value\":\"#30a2da\"},\"fill_color\":{\"type\":\"value\",\"value\":\"#30a2da\"},\"hatch_color\":{\"type\":\"value\",\"value\":\"#30a2da\"}}},\"selection_glyph\":{\"type\":\"object\",\"name\":\"Scatter\",\"id\":\"p3032\",\"attributes\":{\"tags\":[\"apply_ranges\"],\"x\":{\"type\":\"field\",\"field\":\"dayspost1121\"},\"y\":{\"type\":\"field\",\"field\":\"Close\"},\"size\":{\"type\":\"value\",\"value\":5.477225575051661},\"angle\":{\"type\":\"value\",\"value\":0.0},\"line_color\":{\"type\":\"value\",\"value\":\"#30a2da\"},\"line_alpha\":{\"type\":\"value\",\"value\":1.0},\"line_width\":{\"type\":\"value\",\"value\":1},\"line_join\":{\"type\":\"value\",\"value\":\"bevel\"},\"line_cap\":{\"type\":\"value\",\"value\":\"butt\"},\"line_dash\":{\"type\":\"value\",\"value\":[]},\"line_dash_offset\":{\"type\":\"value\",\"value\":0},\"fill_color\":{\"type\":\"value\",\"value\":\"#30a2da\"},\"fill_alpha\":{\"type\":\"value\",\"value\":1.0},\"hatch_color\":{\"type\":\"value\",\"value\":\"#30a2da\"},\"hatch_alpha\":{\"type\":\"value\",\"value\":1.0},\"hatch_scale\":{\"type\":\"value\",\"value\":12.0},\"hatch_pattern\":{\"type\":\"value\",\"value\":null},\"hatch_weight\":{\"type\":\"value\",\"value\":1.0},\"marker\":{\"type\":\"value\",\"value\":\"circle\"}}},\"nonselection_glyph\":{\"type\":\"object\",\"name\":\"Scatter\",\"id\":\"p3027\",\"attributes\":{\"tags\":[\"apply_ranges\"],\"x\":{\"type\":\"field\",\"field\":\"dayspost1121\"},\"y\":{\"type\":\"field\",\"field\":\"Close\"},\"size\":{\"type\":\"value\",\"value\":5.477225575051661},\"line_color\":{\"type\":\"value\",\"value\":\"#30a2da\"},\"line_alpha\":{\"type\":\"value\",\"value\":0.1},\"fill_color\":{\"type\":\"value\",\"value\":\"#30a2da\"},\"fill_alpha\":{\"type\":\"value\",\"value\":0.1},\"hatch_color\":{\"type\":\"value\",\"value\":\"#30a2da\"},\"hatch_alpha\":{\"type\":\"value\",\"value\":0.1}}},\"muted_glyph\":{\"type\":\"object\",\"name\":\"Scatter\",\"id\":\"p3028\",\"attributes\":{\"tags\":[\"apply_ranges\"],\"x\":{\"type\":\"field\",\"field\":\"dayspost1121\"},\"y\":{\"type\":\"field\",\"field\":\"Close\"},\"size\":{\"type\":\"value\",\"value\":5.477225575051661},\"line_color\":{\"type\":\"value\",\"value\":\"#30a2da\"},\"line_alpha\":{\"type\":\"value\",\"value\":0.2},\"fill_color\":{\"type\":\"value\",\"value\":\"#30a2da\"},\"fill_alpha\":{\"type\":\"value\",\"value\":0.2},\"hatch_color\":{\"type\":\"value\",\"value\":\"#30a2da\"},\"hatch_alpha\":{\"type\":\"value\",\"value\":0.2}}}}},{\"type\":\"object\",\"name\":\"GlyphRenderer\",\"id\":\"p3042\",\"attributes\":{\"data_source\":{\"type\":\"object\",\"name\":\"ColumnDataSource\",\"id\":\"p3033\",\"attributes\":{\"selected\":{\"type\":\"object\",\"name\":\"Selection\",\"id\":\"p3034\",\"attributes\":{\"indices\":[],\"line_indices\":[]}},\"selection_policy\":{\"type\":\"object\",\"name\":\"UnionRenderers\",\"id\":\"p3035\"},\"data\":{\"type\":\"map\",\"entries\":[[\"dayspost1121\",{\"type\":\"ndarray\",\"array\":{\"type\":\"bytes\",\"data\":\"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\"},\"shape\":[753],\"dtype\":\"int32\",\"order\":\"little\"}],[\"close_predicted\",{\"type\":\"ndarray\",\"array\":{\"type\":\"bytes\",\"data\":\"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\"},\"shape\":[753],\"dtype\":\"float64\",\"order\":\"little\"}]]}}},\"view\":{\"type\":\"object\",\"name\":\"CDSView\",\"id\":\"p3043\",\"attributes\":{\"filter\":{\"type\":\"object\",\"name\":\"AllIndices\",\"id\":\"p3044\"}}},\"glyph\":{\"type\":\"object\",\"name\":\"Line\",\"id\":\"p3039\",\"attributes\":{\"tags\":[\"apply_ranges\"],\"x\":{\"type\":\"field\",\"field\":\"dayspost1121\"},\"y\":{\"type\":\"field\",\"field\":\"close_predicted\"},\"line_color\":\"red\",\"line_width\":2}},\"selection_glyph\":{\"type\":\"object\",\"name\":\"Line\",\"id\":\"p3045\",\"attributes\":{\"tags\":[\"apply_ranges\"],\"x\":{\"type\":\"field\",\"field\":\"dayspost1121\"},\"y\":{\"type\":\"field\",\"field\":\"close_predicted\"},\"line_color\":\"red\",\"line_width\":2}},\"nonselection_glyph\":{\"type\":\"object\",\"name\":\"Line\",\"id\":\"p3040\",\"attributes\":{\"tags\":[\"apply_ranges\"],\"x\":{\"type\":\"field\",\"field\":\"dayspost1121\"},\"y\":{\"type\":\"field\",\"field\":\"close_predicted\"},\"line_color\":\"red\",\"line_alpha\":0.1,\"line_width\":2}},\"muted_glyph\":{\"type\":\"object\",\"name\":\"Line\",\"id\":\"p3041\",\"attributes\":{\"tags\":[\"apply_ranges\"],\"x\":{\"type\":\"field\",\"field\":\"dayspost1121\"},\"y\":{\"type\":\"field\",\"field\":\"close_predicted\"},\"line_color\":\"red\",\"line_alpha\":0.2,\"line_width\":2}}}}],\"toolbar\":{\"type\":\"object\",\"name\":\"Toolbar\",\"id\":\"p3002\",\"attributes\":{\"tools\":[{\"type\":\"object\",\"name\":\"WheelZoomTool\",\"id\":\"p2988\",\"attributes\":{\"tags\":[\"hv_created\"],\"zoom_together\":\"none\"}},{\"type\":\"object\",\"name\":\"HoverTool\",\"id\":\"p2989\",\"attributes\":{\"tags\":[\"hv_created\"],\"renderers\":[{\"id\":\"p3029\"}],\"tooltips\":[[\"dayspost1121\",\"@{dayspost1121}\"],[\"Close\",\"@{Close}\"]]}},{\"type\":\"object\",\"name\":\"HoverTool\",\"id\":\"p2992\",\"attributes\":{\"tags\":[\"hv_created\"],\"renderers\":[{\"id\":\"p3042\"}],\"tooltips\":[[\"dayspost1121\",\"@{dayspost1121}\"],[\"close_predicted\",\"@{close_predicted}\"]]}},{\"type\":\"object\",\"name\":\"SaveTool\",\"id\":\"p3015\"},{\"type\":\"object\",\"name\":\"PanTool\",\"id\":\"p3016\"},{\"type\":\"object\",\"name\":\"BoxZoomTool\",\"id\":\"p3017\",\"attributes\":{\"overlay\":{\"type\":\"object\",\"name\":\"BoxAnnotation\",\"id\":\"p3018\",\"attributes\":{\"syncable\":false,\"level\":\"overlay\",\"visible\":false,\"left_units\":\"canvas\",\"right_units\":\"canvas\",\"bottom_units\":\"canvas\",\"top_units\":\"canvas\",\"line_color\":\"black\",\"line_alpha\":1.0,\"line_width\":2,\"line_dash\":[4,4],\"fill_color\":\"lightgrey\",\"fill_alpha\":0.5}}}},{\"type\":\"object\",\"name\":\"ResetTool\",\"id\":\"p3019\"}],\"active_drag\":{\"id\":\"p3016\"},\"active_scroll\":{\"id\":\"p2988\"}}},\"left\":[{\"type\":\"object\",\"name\":\"LinearAxis\",\"id\":\"p3010\",\"attributes\":{\"ticker\":{\"type\":\"object\",\"name\":\"BasicTicker\",\"id\":\"p3011\",\"attributes\":{\"mantissas\":[1,2,5]}},\"formatter\":{\"type\":\"object\",\"name\":\"BasicTickFormatter\",\"id\":\"p3012\"},\"axis_label\":\"Close\",\"major_label_policy\":{\"type\":\"object\",\"name\":\"AllLabels\",\"id\":\"p3013\"}}}],\"below\":[{\"type\":\"object\",\"name\":\"LinearAxis\",\"id\":\"p3005\",\"attributes\":{\"ticker\":{\"type\":\"object\",\"name\":\"BasicTicker\",\"id\":\"p3006\",\"attributes\":{\"mantissas\":[1,2,5]}},\"formatter\":{\"type\":\"object\",\"name\":\"BasicTickFormatter\",\"id\":\"p3007\"},\"axis_label\":\"dayspost1121\",\"major_label_policy\":{\"type\":\"object\",\"name\":\"AllLabels\",\"id\":\"p3008\"}}}],\"center\":[{\"type\":\"object\",\"name\":\"Grid\",\"id\":\"p3009\",\"attributes\":{\"axis\":{\"id\":\"p3005\"},\"grid_line_color\":null}},{\"type\":\"object\",\"name\":\"Grid\",\"id\":\"p3014\",\"attributes\":{\"dimension\":1,\"axis\":{\"id\":\"p3010\"},\"grid_line_color\":null}}],\"min_border_top\":10,\"min_border_bottom\":10,\"min_border_left\":10,\"min_border_right\":10,\"output_backend\":\"webgl\"}},{\"type\":\"object\",\"name\":\"Spacer\",\"id\":\"p3047\",\"attributes\":{\"name\":\"HSpacer05656\",\"stylesheets\":[\"\\n:host(.pn-loading.pn-arc):before, .pn-loading.pn-arc:before {\\n  background-image: url(\\\"data:image/svg+xml;base64,PHN2ZyB4bWxucz0iaHR0cDovL3d3dy53My5vcmcvMjAwMC9zdmciIHN0eWxlPSJtYXJnaW46IGF1dG87IGJhY2tncm91bmQ6IG5vbmU7IGRpc3BsYXk6IGJsb2NrOyBzaGFwZS1yZW5kZXJpbmc6IGF1dG87IiB2aWV3Qm94PSIwIDAgMTAwIDEwMCIgcHJlc2VydmVBc3BlY3RSYXRpbz0ieE1pZFlNaWQiPiAgPGNpcmNsZSBjeD0iNTAiIGN5PSI1MCIgZmlsbD0ibm9uZSIgc3Ryb2tlPSIjYzNjM2MzIiBzdHJva2Utd2lkdGg9IjEwIiByPSIzNSIgc3Ryb2tlLWRhc2hhcnJheT0iMTY0LjkzMzYxNDMxMzQ2NDE1IDU2Ljk3Nzg3MTQzNzgyMTM4Ij4gICAgPGFuaW1hdGVUcmFuc2Zvcm0gYXR0cmlidXRlTmFtZT0idHJhbnNmb3JtIiB0eXBlPSJyb3RhdGUiIHJlcGVhdENvdW50PSJpbmRlZmluaXRlIiBkdXI9IjFzIiB2YWx1ZXM9IjAgNTAgNTA7MzYwIDUwIDUwIiBrZXlUaW1lcz0iMDsxIj48L2FuaW1hdGVUcmFuc2Zvcm0+ICA8L2NpcmNsZT48L3N2Zz4=\\\");\\n  background-size: auto calc(min(50%, 400px));\\n}\",{\"id\":\"p2981\"},{\"id\":\"p2979\"},{\"id\":\"p2980\"}],\"margin\":0,\"sizing_mode\":\"stretch_width\",\"align\":\"start\"}}]}}],\"defs\":[{\"type\":\"model\",\"name\":\"ReactiveHTML1\"},{\"type\":\"model\",\"name\":\"FlexBox1\",\"properties\":[{\"name\":\"align_content\",\"kind\":\"Any\",\"default\":\"flex-start\"},{\"name\":\"align_items\",\"kind\":\"Any\",\"default\":\"flex-start\"},{\"name\":\"flex_direction\",\"kind\":\"Any\",\"default\":\"row\"},{\"name\":\"flex_wrap\",\"kind\":\"Any\",\"default\":\"wrap\"},{\"name\":\"justify_content\",\"kind\":\"Any\",\"default\":\"flex-start\"}]},{\"type\":\"model\",\"name\":\"FloatPanel1\",\"properties\":[{\"name\":\"config\",\"kind\":\"Any\",\"default\":{\"type\":\"map\"}},{\"name\":\"contained\",\"kind\":\"Any\",\"default\":true},{\"name\":\"position\",\"kind\":\"Any\",\"default\":\"right-top\"},{\"name\":\"offsetx\",\"kind\":\"Any\",\"default\":null},{\"name\":\"offsety\",\"kind\":\"Any\",\"default\":null},{\"name\":\"theme\",\"kind\":\"Any\",\"default\":\"primary\"},{\"name\":\"status\",\"kind\":\"Any\",\"default\":\"normalized\"}]},{\"type\":\"model\",\"name\":\"GridStack1\",\"properties\":[{\"name\":\"mode\",\"kind\":\"Any\",\"default\":\"warn\"},{\"name\":\"ncols\",\"kind\":\"Any\",\"default\":null},{\"name\":\"nrows\",\"kind\":\"Any\",\"default\":null},{\"name\":\"allow_resize\",\"kind\":\"Any\",\"default\":true},{\"name\":\"allow_drag\",\"kind\":\"Any\",\"default\":true},{\"name\":\"state\",\"kind\":\"Any\",\"default\":[]}]},{\"type\":\"model\",\"name\":\"drag1\",\"properties\":[{\"name\":\"slider_width\",\"kind\":\"Any\",\"default\":5},{\"name\":\"slider_color\",\"kind\":\"Any\",\"default\":\"black\"},{\"name\":\"value\",\"kind\":\"Any\",\"default\":50}]},{\"type\":\"model\",\"name\":\"click1\",\"properties\":[{\"name\":\"terminal_output\",\"kind\":\"Any\",\"default\":\"\"},{\"name\":\"debug_name\",\"kind\":\"Any\",\"default\":\"\"},{\"name\":\"clears\",\"kind\":\"Any\",\"default\":0}]},{\"type\":\"model\",\"name\":\"FastWrapper1\",\"properties\":[{\"name\":\"object\",\"kind\":\"Any\",\"default\":null},{\"name\":\"style\",\"kind\":\"Any\",\"default\":null}]},{\"type\":\"model\",\"name\":\"NotificationAreaBase1\",\"properties\":[{\"name\":\"js_events\",\"kind\":\"Any\",\"default\":{\"type\":\"map\"}},{\"name\":\"position\",\"kind\":\"Any\",\"default\":\"bottom-right\"},{\"name\":\"_clear\",\"kind\":\"Any\",\"default\":0}]},{\"type\":\"model\",\"name\":\"NotificationArea1\",\"properties\":[{\"name\":\"js_events\",\"kind\":\"Any\",\"default\":{\"type\":\"map\"}},{\"name\":\"notifications\",\"kind\":\"Any\",\"default\":[]},{\"name\":\"position\",\"kind\":\"Any\",\"default\":\"bottom-right\"},{\"name\":\"_clear\",\"kind\":\"Any\",\"default\":0},{\"name\":\"types\",\"kind\":\"Any\",\"default\":[{\"type\":\"map\",\"entries\":[[\"type\",\"warning\"],[\"background\",\"#ffc107\"],[\"icon\",{\"type\":\"map\",\"entries\":[[\"className\",\"fas fa-exclamation-triangle\"],[\"tagName\",\"i\"],[\"color\",\"white\"]]}]]},{\"type\":\"map\",\"entries\":[[\"type\",\"info\"],[\"background\",\"#007bff\"],[\"icon\",{\"type\":\"map\",\"entries\":[[\"className\",\"fas fa-info-circle\"],[\"tagName\",\"i\"],[\"color\",\"white\"]]}]]}]}]},{\"type\":\"model\",\"name\":\"Notification\",\"properties\":[{\"name\":\"background\",\"kind\":\"Any\",\"default\":null},{\"name\":\"duration\",\"kind\":\"Any\",\"default\":3000},{\"name\":\"icon\",\"kind\":\"Any\",\"default\":null},{\"name\":\"message\",\"kind\":\"Any\",\"default\":\"\"},{\"name\":\"notification_type\",\"kind\":\"Any\",\"default\":null},{\"name\":\"_destroyed\",\"kind\":\"Any\",\"default\":false}]},{\"type\":\"model\",\"name\":\"TemplateActions1\",\"properties\":[{\"name\":\"open_modal\",\"kind\":\"Any\",\"default\":0},{\"name\":\"close_modal\",\"kind\":\"Any\",\"default\":0}]},{\"type\":\"model\",\"name\":\"BootstrapTemplateActions1\",\"properties\":[{\"name\":\"open_modal\",\"kind\":\"Any\",\"default\":0},{\"name\":\"close_modal\",\"kind\":\"Any\",\"default\":0}]},{\"type\":\"model\",\"name\":\"MaterialTemplateActions1\",\"properties\":[{\"name\":\"open_modal\",\"kind\":\"Any\",\"default\":0},{\"name\":\"close_modal\",\"kind\":\"Any\",\"default\":0}]}]}};\n",
       "  var render_items = [{\"docid\":\"1a7d6916-3849-4295-b46d-cc787b6ffec2\",\"roots\":{\"p2978\":\"f81fea2f-cd34-4a01-bf3e-fcd57f6148f4\"},\"root_ids\":[\"p2978\"]}];\n",
       "  var docs = Object.values(docs_json)\n",
       "  if (!docs) {\n",
       "    return\n",
       "  }\n",
       "  const py_version = docs[0].version.replace('rc', '-rc.').replace('.dev', '-dev.')\n",
       "  const is_dev = py_version.indexOf(\"+\") !== -1 || py_version.indexOf(\"-\") !== -1\n",
       "  function embed_document(root) {\n",
       "    var Bokeh = get_bokeh(root)\n",
       "    Bokeh.embed.embed_items_notebook(docs_json, render_items);\n",
       "    for (const render_item of render_items) {\n",
       "      for (const root_id of render_item.root_ids) {\n",
       "\tconst id_el = document.getElementById(root_id)\n",
       "\tif (id_el.children.length && (id_el.children[0].className === 'bk-root')) {\n",
       "\t  const root_el = id_el.children[0]\n",
       "\t  root_el.id = root_el.id + '-rendered'\n",
       "\t}\n",
       "      }\n",
       "    }\n",
       "  }\n",
       "  function get_bokeh(root) {\n",
       "    if (root.Bokeh === undefined) {\n",
       "      return null\n",
       "    } else if (root.Bokeh.version !== py_version && !is_dev) {\n",
       "      if (root.Bokeh.versions === undefined || !root.Bokeh.versions.has(py_version)) {\n",
       "\treturn null\n",
       "      }\n",
       "      return root.Bokeh.versions.get(py_version);\n",
       "    } else if (root.Bokeh.version === py_version) {\n",
       "      return root.Bokeh\n",
       "    }\n",
       "    return null\n",
       "  }\n",
       "  function is_loaded(root) {\n",
       "    var Bokeh = get_bokeh(root)\n",
       "    return (Bokeh != null && Bokeh.Panel !== undefined)\n",
       "  }\n",
       "  if (is_loaded(root)) {\n",
       "    embed_document(root);\n",
       "  } else {\n",
       "    var attempts = 0;\n",
       "    var timer = setInterval(function(root) {\n",
       "      if (is_loaded(root)) {\n",
       "        clearInterval(timer);\n",
       "        embed_document(root);\n",
       "      } else if (document.readyState == \"complete\") {\n",
       "        attempts++;\n",
       "        if (attempts > 200) {\n",
       "          clearInterval(timer);\n",
       "\t  var Bokeh = get_bokeh(root)\n",
       "\t  if (Bokeh == null || Bokeh.Panel == null) {\n",
       "            console.warn(\"Panel: ERROR: Unable to run Panel code because Bokeh or Panel library is missing\");\n",
       "\t  } else {\n",
       "\t    console.warn(\"Panel: WARNING: Attempting to render but not all required libraries could be resolved.\")\n",
       "\t    embed_document(root)\n",
       "\t  }\n",
       "        }\n",
       "      }\n",
       "    }, 25, root)\n",
       "  }\n",
       "})(window);</script>"
      ],
      "text/plain": [
       ":Overlay\n",
       "   .Scatter.I :Scatter   [dayspost1121]   (Close)\n",
       "   .Curve.I   :Curve   [dayspost1121]   (close_predicted)"
      ]
     },
     "execution_count": 211,
     "metadata": {
      "application/vnd.holoviews_exec.v0+json": {
       "id": "p2978"
      }
     },
     "output_type": "execute_result"
    }
   ],
   "source": [
    "#Superimpose scatter plot onto best fit line\n",
    "salary_plot_3 * best_fit_line_3"
   ]
  },
  {
   "cell_type": "markdown",
   "id": "5222d8fe",
   "metadata": {},
   "source": [
    "In this linear regression model using three years of SPY closing price data, the r-squared value is 0.11. While not as low as the model using one month of data, this is a substantial drop in variation accounted for by similar types of data covering different time periods compared to the model using one year of data. Looking closer at the scatterplot, it is observable that the trend in the change of the SPY closing price is not different from most ETFs following the S&P 500 (IVV, VOO are a few examples). "
   ]
  },
  {
   "cell_type": "markdown",
   "id": "d6a47fa5",
   "metadata": {},
   "source": [
    "# Linear Regression Model With 1 Year of SPY Data Split"
   ]
  },
  {
   "cell_type": "code",
   "execution_count": 212,
   "id": "e97c9beb",
   "metadata": {},
   "outputs": [
    {
     "data": {
      "text/html": [
       "<style>#sk-container-id-17 {color: black;background-color: white;}#sk-container-id-17 pre{padding: 0;}#sk-container-id-17 div.sk-toggleable {background-color: white;}#sk-container-id-17 label.sk-toggleable__label {cursor: pointer;display: block;width: 100%;margin-bottom: 0;padding: 0.3em;box-sizing: border-box;text-align: center;}#sk-container-id-17 label.sk-toggleable__label-arrow:before {content: \"▸\";float: left;margin-right: 0.25em;color: #696969;}#sk-container-id-17 label.sk-toggleable__label-arrow:hover:before {color: black;}#sk-container-id-17 div.sk-estimator:hover label.sk-toggleable__label-arrow:before {color: black;}#sk-container-id-17 div.sk-toggleable__content {max-height: 0;max-width: 0;overflow: hidden;text-align: left;background-color: #f0f8ff;}#sk-container-id-17 div.sk-toggleable__content pre {margin: 0.2em;color: black;border-radius: 0.25em;background-color: #f0f8ff;}#sk-container-id-17 input.sk-toggleable__control:checked~div.sk-toggleable__content {max-height: 200px;max-width: 100%;overflow: auto;}#sk-container-id-17 input.sk-toggleable__control:checked~label.sk-toggleable__label-arrow:before {content: \"▾\";}#sk-container-id-17 div.sk-estimator input.sk-toggleable__control:checked~label.sk-toggleable__label {background-color: #d4ebff;}#sk-container-id-17 div.sk-label input.sk-toggleable__control:checked~label.sk-toggleable__label {background-color: #d4ebff;}#sk-container-id-17 input.sk-hidden--visually {border: 0;clip: rect(1px 1px 1px 1px);clip: rect(1px, 1px, 1px, 1px);height: 1px;margin: -1px;overflow: hidden;padding: 0;position: absolute;width: 1px;}#sk-container-id-17 div.sk-estimator {font-family: monospace;background-color: #f0f8ff;border: 1px dotted black;border-radius: 0.25em;box-sizing: border-box;margin-bottom: 0.5em;}#sk-container-id-17 div.sk-estimator:hover {background-color: #d4ebff;}#sk-container-id-17 div.sk-parallel-item::after {content: \"\";width: 100%;border-bottom: 1px solid gray;flex-grow: 1;}#sk-container-id-17 div.sk-label:hover label.sk-toggleable__label {background-color: #d4ebff;}#sk-container-id-17 div.sk-serial::before {content: \"\";position: absolute;border-left: 1px solid gray;box-sizing: border-box;top: 0;bottom: 0;left: 50%;z-index: 0;}#sk-container-id-17 div.sk-serial {display: flex;flex-direction: column;align-items: center;background-color: white;padding-right: 0.2em;padding-left: 0.2em;position: relative;}#sk-container-id-17 div.sk-item {position: relative;z-index: 1;}#sk-container-id-17 div.sk-parallel {display: flex;align-items: stretch;justify-content: center;background-color: white;position: relative;}#sk-container-id-17 div.sk-item::before, #sk-container-id-17 div.sk-parallel-item::before {content: \"\";position: absolute;border-left: 1px solid gray;box-sizing: border-box;top: 0;bottom: 0;left: 50%;z-index: -1;}#sk-container-id-17 div.sk-parallel-item {display: flex;flex-direction: column;z-index: 1;position: relative;background-color: white;}#sk-container-id-17 div.sk-parallel-item:first-child::after {align-self: flex-end;width: 50%;}#sk-container-id-17 div.sk-parallel-item:last-child::after {align-self: flex-start;width: 50%;}#sk-container-id-17 div.sk-parallel-item:only-child::after {width: 0;}#sk-container-id-17 div.sk-dashed-wrapped {border: 1px dashed gray;margin: 0 0.4em 0.5em 0.4em;box-sizing: border-box;padding-bottom: 0.4em;background-color: white;}#sk-container-id-17 div.sk-label label {font-family: monospace;font-weight: bold;display: inline-block;line-height: 1.2em;}#sk-container-id-17 div.sk-label-container {text-align: center;}#sk-container-id-17 div.sk-container {/* jupyter's `normalize.less` sets `[hidden] { display: none; }` but bootstrap.min.css set `[hidden] { display: none !important; }` so we also need the `!important` here to be able to override the default hidden behavior on the sphinx rendered scikit-learn.org. See: https://github.com/scikit-learn/scikit-learn/issues/21755 */display: inline-block !important;position: relative;}#sk-container-id-17 div.sk-text-repr-fallback {display: none;}</style><div id=\"sk-container-id-17\" class=\"sk-top-container\"><div class=\"sk-text-repr-fallback\"><pre>LinearRegression()</pre><b>In a Jupyter environment, please rerun this cell to show the HTML representation or trust the notebook. <br />On GitHub, the HTML representation is unable to render, please try loading this page with nbviewer.org.</b></div><div class=\"sk-container\" hidden><div class=\"sk-item\"><div class=\"sk-estimator sk-toggleable\"><input class=\"sk-toggleable__control sk-hidden--visually\" id=\"sk-estimator-id-17\" type=\"checkbox\" checked><label for=\"sk-estimator-id-17\" class=\"sk-toggleable__label sk-toggleable__label-arrow\">LinearRegression</label><div class=\"sk-toggleable__content\"><pre>LinearRegression()</pre></div></div></div></div></div>"
      ],
      "text/plain": [
       "LinearRegression()"
      ]
     },
     "execution_count": 212,
     "metadata": {},
     "output_type": "execute_result"
    }
   ],
   "source": [
    "# Reformat data of the independent variable X as a single-column array\n",
    "X = close_df[\"dayspost1123\"].values.reshape(-1, 1)\n",
    "\n",
    "# Display sample data\n",
    "X[:5]\n",
    "\n",
    "# The shape of X should be 20 samples, with a single feature (column)\n",
    "X.shape\n",
    "\n",
    "# Create an array for the dependent variable y\n",
    "y = close_df[\"Close\"]\n",
    "\n",
    "# Splitting Data\n",
    "from sklearn.model_selection import train_test_split\n",
    "\n",
    "x_train, x_test,y_train,y_test = train_test_split(X,y, random_state = 10)\n",
    "\n",
    "# Create a model with scikit-learn\n",
    "model = LinearRegression()\n",
    "\n",
    "# Fit the data into the model\n",
    "model.fit(x_train, y_train)"
   ]
  },
  {
   "cell_type": "code",
   "execution_count": 213,
   "id": "346704f9",
   "metadata": {},
   "outputs": [
    {
     "data": {
      "text/plain": [
       "array([409.28282921, 428.66734013, 410.39051555, 435.12884377,\n",
       "       422.94429405, 426.63658184, 446.39032154, 418.88277747,\n",
       "       451.92875323, 407.6212997 , 438.26728839, 443.62110569,\n",
       "       458.39025687, 451.19029567, 401.34441045, 454.14412591,\n",
       "       411.3135875 , 433.83654304, 450.26722372, 417.77509114,\n",
       "       410.02128677, 458.02102809, 431.80578475, 433.28269987,\n",
       "       429.59041208, 409.09821482, 397.28289388, 403.92901191,\n",
       "       456.54411297, 422.0212221 , 431.06732719, 448.97492299,\n",
       "       415.74433285, 457.09795614, 444.17494886, 395.99059315,\n",
       "       438.82113156, 400.97518167, 415.00587529, 422.75967966,\n",
       "       399.68288095, 424.79043794, 410.20590116, 427.92888257,\n",
       "       450.6364525 , 394.69829242, 441.59034741, 444.72879203,\n",
       "       437.52883083, 410.57512994, 442.69803374, 413.15973139,\n",
       "       445.2826352 , 406.69822775, 420.54430698, 439.74420351,\n",
       "       435.86730133, 423.49813722, 399.86749534, 407.25207092,\n",
       "       443.4364913 , 395.80597876, 436.05191572])"
      ]
     },
     "execution_count": 213,
     "metadata": {},
     "output_type": "execute_result"
    }
   ],
   "source": [
    "# Using the model to predict output with x_test\n",
    "model.predict(x_test)"
   ]
  },
  {
   "cell_type": "markdown",
   "id": "3b1a3fbb",
   "metadata": {},
   "source": []
  },
  {
   "cell_type": "code",
   "execution_count": 214,
   "id": "2341bf56",
   "metadata": {},
   "outputs": [
    {
     "data": {
      "text/plain": [
       "0.6749517066617914"
      ]
     },
     "execution_count": 214,
     "metadata": {},
     "output_type": "execute_result"
    }
   ],
   "source": [
    "# Evaluating the accuracy of the linear regression model\n",
    "model.score(x_test,y_test)"
   ]
  },
  {
   "cell_type": "markdown",
   "id": "d3fd70c1",
   "metadata": {},
   "source": [
    "Model predicts the price with 67% accuracy."
   ]
  },
  {
   "cell_type": "markdown",
   "id": "0e749998",
   "metadata": {},
   "source": [
    "# Using the Model to Predict the SPY Closing Price on Any Date"
   ]
  },
  {
   "cell_type": "code",
   "execution_count": 215,
   "id": "5bc225a4",
   "metadata": {},
   "outputs": [],
   "source": [
    "# Variables before the loop\n",
    "start_date_2023 = start_date_1y.to_pydatetime()\n",
    "y_int = 394.0835391724858\n",
    "slope = .1845115051391308"
   ]
  },
  {
   "cell_type": "code",
   "execution_count": 216,
   "id": "d522b2d7",
   "metadata": {},
   "outputs": [
    {
     "name": "stdout",
     "output_type": "stream",
     "text": [
      "Predict the closing price of SPY by entering a date in YYYY-MM-DD format: \n",
      "Try again, make sure you type a properly formatted date.\n",
      "Predict the closing price of SPY by entering a date in YYYY-MM-DD format: \n",
      "Try again, make sure you type a properly formatted date.\n",
      "Predict the closing price of SPY by entering a date in YYYY-MM-DD format: 2002-02-01\n",
      "SPY Closing Price on 2002-02-01: $-1015.77\n"
     ]
    }
   ],
   "source": [
    "# While loop to ensure it only ends on a valid input\n",
    "while True:\n",
    "    try:\n",
    "        date_entry = input('Predict the closing price of SPY by entering a date in YYYY-MM-DD format: ')\n",
    "        year, month, day = map(int, date_entry.split('-'))\n",
    "        date = dt.date(year, month, day)\n",
    "        days_post_010323 = date - start_date_2023.date()\n",
    "        predicted_price = y_int + slope * days_post_010323.days\n",
    "        print(\"SPY Closing Price on \"+ f\"{date}: \" + \"$\" + str(round(predicted_price, 2)))\n",
    "        break\n",
    "    except ValueError:\n",
    "        print(\"Try again, make sure you type a properly formatted date.\")"
   ]
  },
  {
   "cell_type": "code",
   "execution_count": 46,
   "id": "f64e4e48",
   "metadata": {},
   "outputs": [],
   "source": [
    "## Potential Plans for Logistic Regression:\n",
    "## Is change in SPY closing price + or negative based on date \n",
    "## (maybe add rest of data too)\n",
    "## May need to calculate differences between current date closing price \n",
    "## & closing price of day before \n",
    "## (for day 1, may need to manually insert difference)\n",
    "## Will test 1 year of data\n",
    "## Variables are x = days after start, y = closing price "
   ]
  },
  {
   "cell_type": "markdown",
   "id": "f28f295f",
   "metadata": {},
   "source": [
    "Citations:\n",
    "\n",
    "For splitting data to test linear regression model accuracy: https://medium.com/the-code-monster/split-a-dataset-into-train-and-test-datasets-using-sk-learn-acc7fd1802e0\n",
    "\n",
    "For inputting date: https://stackoverflow.com/questions/15226898/python-3-2-input-date-function"
   ]
  },
  {
   "cell_type": "code",
   "execution_count": null,
   "id": "fd94cec3",
   "metadata": {},
   "outputs": [],
   "source": []
  },
  {
   "cell_type": "code",
   "execution_count": null,
   "id": "a1954a67",
   "metadata": {},
   "outputs": [],
   "source": []
  },
  {
   "cell_type": "code",
   "execution_count": null,
   "id": "693daae7",
   "metadata": {},
   "outputs": [],
   "source": []
  },
  {
   "cell_type": "code",
   "execution_count": null,
   "id": "ecc4685f",
   "metadata": {},
   "outputs": [],
   "source": []
  },
  {
   "cell_type": "code",
   "execution_count": null,
   "id": "7ff28470",
   "metadata": {},
   "outputs": [],
   "source": []
  },
  {
   "cell_type": "code",
   "execution_count": null,
   "id": "b7fe3b7a",
   "metadata": {},
   "outputs": [],
   "source": []
  },
  {
   "cell_type": "code",
   "execution_count": null,
   "id": "4147535d",
   "metadata": {},
   "outputs": [],
   "source": []
  },
  {
   "cell_type": "code",
   "execution_count": null,
   "id": "31bb4931",
   "metadata": {},
   "outputs": [],
   "source": []
  }
 ],
 "metadata": {
  "kernelspec": {
   "display_name": "Python 3 (ipykernel)",
   "language": "python",
   "name": "python3"
  },
  "language_info": {
   "codemirror_mode": {
    "name": "ipython",
    "version": 3
   },
   "file_extension": ".py",
   "mimetype": "text/x-python",
   "name": "python",
   "nbconvert_exporter": "python",
   "pygments_lexer": "ipython3",
   "version": "3.11.4"
  }
 },
 "nbformat": 4,
 "nbformat_minor": 5
}
